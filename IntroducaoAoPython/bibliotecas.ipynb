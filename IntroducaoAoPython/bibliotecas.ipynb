{
 "cells": [
  {
   "cell_type": "markdown",
   "metadata": {
    "id": "9WF93QxJvp7I"
   },
   "source": [
    "## 1. Importando bibliotecas"
   ]
  },
  {
   "cell_type": "code",
   "execution_count": null,
   "metadata": {
    "executionInfo": {
     "elapsed": 420,
     "status": "ok",
     "timestamp": 1646606119079,
     "user": {
      "displayName": "anamim schuwarte",
      "photoUrl": "https://lh3.googleusercontent.com/a-/AOh14Ghzq9qZcfFYsN0agT4X613HRQ9BcAFbRph9vAui=s64",
      "userId": "09703653288263197532"
     },
     "user_tz": 180
    },
    "id": "Rj2UcIIBwCGV"
   },
   "outputs": [],
   "source": [
    "import pandas as pd\n",
    "import numpy as np"
   ]
  },
  {
   "cell_type": "markdown",
   "metadata": {
    "id": "aD6pjO7LwLJs"
   },
   "source": [
    "## 2. Numpy"
   ]
  },
  {
   "cell_type": "code",
   "execution_count": 130,
   "metadata": {
    "executionInfo": {
     "elapsed": 387,
     "status": "ok",
     "timestamp": 1646606126030,
     "user": {
      "displayName": "anamim schuwarte",
      "photoUrl": "https://lh3.googleusercontent.com/a-/AOh14Ghzq9qZcfFYsN0agT4X613HRQ9BcAFbRph9vAui=s64",
      "userId": "09703653288263197532"
     },
     "user_tz": 180
    },
    "id": "2hy8AwMHwZOq"
   },
   "outputs": [],
   "source": [
    "array_1 = np.array([1,2,3])"
   ]
  },
  {
   "cell_type": "code",
   "execution_count": 36,
   "metadata": {
    "colab": {
     "base_uri": "https://localhost:8080/"
    },
    "executionInfo": {
     "elapsed": 14,
     "status": "ok",
     "timestamp": 1646604213509,
     "user": {
      "displayName": "anamim schuwarte",
      "photoUrl": "https://lh3.googleusercontent.com/a-/AOh14Ghzq9qZcfFYsN0agT4X613HRQ9BcAFbRph9vAui=s64",
      "userId": "09703653288263197532"
     },
     "user_tz": 180
    },
    "id": "2g0QpLQEwsPO",
    "outputId": "df0609f5-e608-4c4d-b010-45340c8d0e8b"
   },
   "outputs": [
    {
     "data": {
      "text/plain": [
       "array([1, 2, 3])"
      ]
     },
     "execution_count": 36,
     "metadata": {},
     "output_type": "execute_result"
    }
   ],
   "source": [
    "array_1"
   ]
  },
  {
   "cell_type": "code",
   "execution_count": 37,
   "metadata": {
    "colab": {
     "base_uri": "https://localhost:8080/"
    },
    "executionInfo": {
     "elapsed": 10,
     "status": "ok",
     "timestamp": 1646604213510,
     "user": {
      "displayName": "anamim schuwarte",
      "photoUrl": "https://lh3.googleusercontent.com/a-/AOh14Ghzq9qZcfFYsN0agT4X613HRQ9BcAFbRph9vAui=s64",
      "userId": "09703653288263197532"
     },
     "user_tz": 180
    },
    "id": "DH_-x0ezwuOS",
    "outputId": "45168eaf-4353-4d8e-8d47-c7f9e0b8f68c"
   },
   "outputs": [
    {
     "data": {
      "text/plain": [
       "1"
      ]
     },
     "execution_count": 37,
     "metadata": {},
     "output_type": "execute_result"
    }
   ],
   "source": [
    "array_1[0]"
   ]
  },
  {
   "cell_type": "code",
   "execution_count": 38,
   "metadata": {
    "executionInfo": {
     "elapsed": 9,
     "status": "ok",
     "timestamp": 1646604213511,
     "user": {
      "displayName": "anamim schuwarte",
      "photoUrl": "https://lh3.googleusercontent.com/a-/AOh14Ghzq9qZcfFYsN0agT4X613HRQ9BcAFbRph9vAui=s64",
      "userId": "09703653288263197532"
     },
     "user_tz": 180
    },
    "id": "ODliKiLUwxNA"
   },
   "outputs": [],
   "source": [
    "a = np.zeros(10)"
   ]
  },
  {
   "cell_type": "code",
   "execution_count": 39,
   "metadata": {
    "colab": {
     "base_uri": "https://localhost:8080/"
    },
    "executionInfo": {
     "elapsed": 514,
     "status": "ok",
     "timestamp": 1646604214017,
     "user": {
      "displayName": "anamim schuwarte",
      "photoUrl": "https://lh3.googleusercontent.com/a-/AOh14Ghzq9qZcfFYsN0agT4X613HRQ9BcAFbRph9vAui=s64",
      "userId": "09703653288263197532"
     },
     "user_tz": 180
    },
    "id": "hAO4eTLoxBnI",
    "outputId": "31cc6190-89fd-4677-a901-2134ebb40f9b"
   },
   "outputs": [
    {
     "data": {
      "text/plain": [
       "(10,)"
      ]
     },
     "execution_count": 39,
     "metadata": {},
     "output_type": "execute_result"
    }
   ],
   "source": [
    "a.shape"
   ]
  },
  {
   "cell_type": "code",
   "execution_count": 40,
   "metadata": {
    "executionInfo": {
     "elapsed": 71,
     "status": "ok",
     "timestamp": 1646604214018,
     "user": {
      "displayName": "anamim schuwarte",
      "photoUrl": "https://lh3.googleusercontent.com/a-/AOh14Ghzq9qZcfFYsN0agT4X613HRQ9BcAFbRph9vAui=s64",
      "userId": "09703653288263197532"
     },
     "user_tz": 180
    },
    "id": "TbupcCKgxQEA"
   },
   "outputs": [],
   "source": [
    "a.shape = (10,1)"
   ]
  },
  {
   "cell_type": "code",
   "execution_count": 41,
   "metadata": {
    "colab": {
     "base_uri": "https://localhost:8080/"
    },
    "executionInfo": {
     "elapsed": 70,
     "status": "ok",
     "timestamp": 1646604214019,
     "user": {
      "displayName": "anamim schuwarte",
      "photoUrl": "https://lh3.googleusercontent.com/a-/AOh14Ghzq9qZcfFYsN0agT4X613HRQ9BcAFbRph9vAui=s64",
      "userId": "09703653288263197532"
     },
     "user_tz": 180
    },
    "id": "z-jtrc12xU45",
    "outputId": "7e27bbf6-0b04-4dc0-b5ca-86b502494179"
   },
   "outputs": [
    {
     "data": {
      "text/plain": [
       "array([[0.],\n",
       "       [0.],\n",
       "       [0.],\n",
       "       [0.],\n",
       "       [0.],\n",
       "       [0.],\n",
       "       [0.],\n",
       "       [0.],\n",
       "       [0.],\n",
       "       [0.]])"
      ]
     },
     "execution_count": 41,
     "metadata": {},
     "output_type": "execute_result"
    }
   ],
   "source": [
    "a"
   ]
  },
  {
   "cell_type": "code",
   "execution_count": 42,
   "metadata": {
    "executionInfo": {
     "elapsed": 65,
     "status": "ok",
     "timestamp": 1646604214019,
     "user": {
      "displayName": "anamim schuwarte",
      "photoUrl": "https://lh3.googleusercontent.com/a-/AOh14Ghzq9qZcfFYsN0agT4X613HRQ9BcAFbRph9vAui=s64",
      "userId": "09703653288263197532"
     },
     "user_tz": 180
    },
    "id": "B9zx9O4NxW2j"
   },
   "outputs": [],
   "source": [
    "b = np.ones(5)"
   ]
  },
  {
   "cell_type": "code",
   "execution_count": 43,
   "metadata": {
    "colab": {
     "base_uri": "https://localhost:8080/"
    },
    "executionInfo": {
     "elapsed": 65,
     "status": "ok",
     "timestamp": 1646604214019,
     "user": {
      "displayName": "anamim schuwarte",
      "photoUrl": "https://lh3.googleusercontent.com/a-/AOh14Ghzq9qZcfFYsN0agT4X613HRQ9BcAFbRph9vAui=s64",
      "userId": "09703653288263197532"
     },
     "user_tz": 180
    },
    "id": "0RbfMgmlxssd",
    "outputId": "832082c4-20cc-4e10-dedb-3568766319cf"
   },
   "outputs": [
    {
     "data": {
      "text/plain": [
       "array([1., 1., 1., 1., 1.])"
      ]
     },
     "execution_count": 43,
     "metadata": {},
     "output_type": "execute_result"
    }
   ],
   "source": [
    "b"
   ]
  },
  {
   "cell_type": "code",
   "execution_count": 44,
   "metadata": {
    "executionInfo": {
     "elapsed": 64,
     "status": "ok",
     "timestamp": 1646604214020,
     "user": {
      "displayName": "anamim schuwarte",
      "photoUrl": "https://lh3.googleusercontent.com/a-/AOh14Ghzq9qZcfFYsN0agT4X613HRQ9BcAFbRph9vAui=s64",
      "userId": "09703653288263197532"
     },
     "user_tz": 180
    },
    "id": "ltZhuCF4x3B8"
   },
   "outputs": [],
   "source": [
    "c = np.empty(3)"
   ]
  },
  {
   "cell_type": "code",
   "execution_count": 45,
   "metadata": {
    "colab": {
     "base_uri": "https://localhost:8080/"
    },
    "executionInfo": {
     "elapsed": 63,
     "status": "ok",
     "timestamp": 1646604214020,
     "user": {
      "displayName": "anamim schuwarte",
      "photoUrl": "https://lh3.googleusercontent.com/a-/AOh14Ghzq9qZcfFYsN0agT4X613HRQ9BcAFbRph9vAui=s64",
      "userId": "09703653288263197532"
     },
     "user_tz": 180
    },
    "id": "04Y45AvAx-jL",
    "outputId": "4536be50-73b4-4e71-8f4a-3a3e7dc82c40"
   },
   "outputs": [
    {
     "data": {
      "text/plain": [
       "array([10., 10., 10.])"
      ]
     },
     "execution_count": 45,
     "metadata": {},
     "output_type": "execute_result"
    }
   ],
   "source": [
    "c"
   ]
  },
  {
   "cell_type": "code",
   "execution_count": 46,
   "metadata": {
    "executionInfo": {
     "elapsed": 62,
     "status": "ok",
     "timestamp": 1646604214020,
     "user": {
      "displayName": "anamim schuwarte",
      "photoUrl": "https://lh3.googleusercontent.com/a-/AOh14Ghzq9qZcfFYsN0agT4X613HRQ9BcAFbRph9vAui=s64",
      "userId": "09703653288263197532"
     },
     "user_tz": 180
    },
    "id": "dgJIuBabx_Xr"
   },
   "outputs": [],
   "source": [
    "lista = [1,2,3,4,5]"
   ]
  },
  {
   "cell_type": "code",
   "execution_count": 47,
   "metadata": {
    "executionInfo": {
     "elapsed": 62,
     "status": "ok",
     "timestamp": 1646604214021,
     "user": {
      "displayName": "anamim schuwarte",
      "photoUrl": "https://lh3.googleusercontent.com/a-/AOh14Ghzq9qZcfFYsN0agT4X613HRQ9BcAFbRph9vAui=s64",
      "userId": "09703653288263197532"
     },
     "user_tz": 180
    },
    "id": "xkMmxxUMyNhd"
   },
   "outputs": [],
   "source": [
    "d = np.array(lista)"
   ]
  },
  {
   "cell_type": "code",
   "execution_count": 48,
   "metadata": {
    "colab": {
     "base_uri": "https://localhost:8080/"
    },
    "executionInfo": {
     "elapsed": 62,
     "status": "ok",
     "timestamp": 1646604214021,
     "user": {
      "displayName": "anamim schuwarte",
      "photoUrl": "https://lh3.googleusercontent.com/a-/AOh14Ghzq9qZcfFYsN0agT4X613HRQ9BcAFbRph9vAui=s64",
      "userId": "09703653288263197532"
     },
     "user_tz": 180
    },
    "id": "pyYLHPF6yTXp",
    "outputId": "da1f06b6-ca51-424b-9836-a4d4f62f6731"
   },
   "outputs": [
    {
     "data": {
      "text/plain": [
       "array([1, 2, 3, 4, 5])"
      ]
     },
     "execution_count": 48,
     "metadata": {},
     "output_type": "execute_result"
    }
   ],
   "source": [
    "d"
   ]
  },
  {
   "cell_type": "code",
   "execution_count": 49,
   "metadata": {
    "colab": {
     "base_uri": "https://localhost:8080/"
    },
    "executionInfo": {
     "elapsed": 61,
     "status": "ok",
     "timestamp": 1646604214021,
     "user": {
      "displayName": "anamim schuwarte",
      "photoUrl": "https://lh3.googleusercontent.com/a-/AOh14Ghzq9qZcfFYsN0agT4X613HRQ9BcAFbRph9vAui=s64",
      "userId": "09703653288263197532"
     },
     "user_tz": 180
    },
    "id": "hSb897Q4yUoA",
    "outputId": "eaafb38c-d5d6-44c0-933d-9cb72bc0c1d6"
   },
   "outputs": [
    {
     "data": {
      "text/plain": [
       "numpy.ndarray"
      ]
     },
     "execution_count": 49,
     "metadata": {},
     "output_type": "execute_result"
    }
   ],
   "source": [
    "type(d)"
   ]
  },
  {
   "cell_type": "code",
   "execution_count": 50,
   "metadata": {
    "executionInfo": {
     "elapsed": 60,
     "status": "ok",
     "timestamp": 1646604214022,
     "user": {
      "displayName": "anamim schuwarte",
      "photoUrl": "https://lh3.googleusercontent.com/a-/AOh14Ghzq9qZcfFYsN0agT4X613HRQ9BcAFbRph9vAui=s64",
      "userId": "09703653288263197532"
     },
     "user_tz": 180
    },
    "id": "-1EJ06lgyX6j"
   },
   "outputs": [],
   "source": [
    "lista2 = [[1,2,3],[4,5,6]]"
   ]
  },
  {
   "cell_type": "code",
   "execution_count": 51,
   "metadata": {
    "executionInfo": {
     "elapsed": 60,
     "status": "ok",
     "timestamp": 1646604214022,
     "user": {
      "displayName": "anamim schuwarte",
      "photoUrl": "https://lh3.googleusercontent.com/a-/AOh14Ghzq9qZcfFYsN0agT4X613HRQ9BcAFbRph9vAui=s64",
      "userId": "09703653288263197532"
     },
     "user_tz": 180
    },
    "id": "gYeznUI8y25C"
   },
   "outputs": [],
   "source": [
    "e = np.array(lista2)"
   ]
  },
  {
   "cell_type": "code",
   "execution_count": 52,
   "metadata": {
    "colab": {
     "base_uri": "https://localhost:8080/"
    },
    "executionInfo": {
     "elapsed": 60,
     "status": "ok",
     "timestamp": 1646604214023,
     "user": {
      "displayName": "anamim schuwarte",
      "photoUrl": "https://lh3.googleusercontent.com/a-/AOh14Ghzq9qZcfFYsN0agT4X613HRQ9BcAFbRph9vAui=s64",
      "userId": "09703653288263197532"
     },
     "user_tz": 180
    },
    "id": "qDUJiq7Ny6jy",
    "outputId": "3464f5a9-a1e2-44cd-8922-36b2846252ee"
   },
   "outputs": [
    {
     "data": {
      "text/plain": [
       "array([[1, 2, 3],\n",
       "       [4, 5, 6]])"
      ]
     },
     "execution_count": 52,
     "metadata": {},
     "output_type": "execute_result"
    }
   ],
   "source": [
    "e"
   ]
  },
  {
   "cell_type": "code",
   "execution_count": 53,
   "metadata": {
    "executionInfo": {
     "elapsed": 58,
     "status": "ok",
     "timestamp": 1646604214023,
     "user": {
      "displayName": "anamim schuwarte",
      "photoUrl": "https://lh3.googleusercontent.com/a-/AOh14Ghzq9qZcfFYsN0agT4X613HRQ9BcAFbRph9vAui=s64",
      "userId": "09703653288263197532"
     },
     "user_tz": 180
    },
    "id": "ViQbWqNay7fH"
   },
   "outputs": [],
   "source": [
    "f = np.random.randint(0, 11, size = 5)"
   ]
  },
  {
   "cell_type": "code",
   "execution_count": 54,
   "metadata": {
    "colab": {
     "base_uri": "https://localhost:8080/"
    },
    "executionInfo": {
     "elapsed": 58,
     "status": "ok",
     "timestamp": 1646604214023,
     "user": {
      "displayName": "anamim schuwarte",
      "photoUrl": "https://lh3.googleusercontent.com/a-/AOh14Ghzq9qZcfFYsN0agT4X613HRQ9BcAFbRph9vAui=s64",
      "userId": "09703653288263197532"
     },
     "user_tz": 180
    },
    "id": "EVwcJgGvzQHs",
    "outputId": "7d3d4dfc-cd90-4822-dbac-a1e714d86ae0"
   },
   "outputs": [
    {
     "data": {
      "text/plain": [
       "array([1, 0, 0, 4, 1])"
      ]
     },
     "execution_count": 54,
     "metadata": {},
     "output_type": "execute_result"
    }
   ],
   "source": [
    "f"
   ]
  },
  {
   "cell_type": "code",
   "execution_count": 55,
   "metadata": {
    "colab": {
     "base_uri": "https://localhost:8080/"
    },
    "executionInfo": {
     "elapsed": 58,
     "status": "ok",
     "timestamp": 1646604214024,
     "user": {
      "displayName": "anamim schuwarte",
      "photoUrl": "https://lh3.googleusercontent.com/a-/AOh14Ghzq9qZcfFYsN0agT4X613HRQ9BcAFbRph9vAui=s64",
      "userId": "09703653288263197532"
     },
     "user_tz": 180
    },
    "id": "1CRymsaqzREq",
    "outputId": "5104f282-8f9c-4e46-8c9b-d5b0c4ecfd65"
   },
   "outputs": [
    {
     "data": {
      "text/plain": [
       "1"
      ]
     },
     "execution_count": 55,
     "metadata": {},
     "output_type": "execute_result"
    }
   ],
   "source": [
    "f[-1]"
   ]
  },
  {
   "cell_type": "markdown",
   "metadata": {
    "id": "aQSpb-V8zZ5D"
   },
   "source": [
    "### 2.1 Operações Numéricas com Arrays"
   ]
  },
  {
   "cell_type": "code",
   "execution_count": 56,
   "metadata": {
    "executionInfo": {
     "elapsed": 58,
     "status": "ok",
     "timestamp": 1646604214025,
     "user": {
      "displayName": "anamim schuwarte",
      "photoUrl": "https://lh3.googleusercontent.com/a-/AOh14Ghzq9qZcfFYsN0agT4X613HRQ9BcAFbRph9vAui=s64",
      "userId": "09703653288263197532"
     },
     "user_tz": 180
    },
    "id": "tCP89l3Tz_Sm"
   },
   "outputs": [],
   "source": [
    "a = np.array([10, 20, 30])\n",
    "b = np.array([1,2,3])"
   ]
  },
  {
   "cell_type": "code",
   "execution_count": 57,
   "metadata": {
    "colab": {
     "base_uri": "https://localhost:8080/"
    },
    "executionInfo": {
     "elapsed": 57,
     "status": "ok",
     "timestamp": 1646604214025,
     "user": {
      "displayName": "anamim schuwarte",
      "photoUrl": "https://lh3.googleusercontent.com/a-/AOh14Ghzq9qZcfFYsN0agT4X613HRQ9BcAFbRph9vAui=s64",
      "userId": "09703653288263197532"
     },
     "user_tz": 180
    },
    "id": "9zO04fwu0KUJ",
    "outputId": "022d1718-a0d1-4d5b-d049-7f97e9350352"
   },
   "outputs": [
    {
     "data": {
      "text/plain": [
       "array([11, 22, 33])"
      ]
     },
     "execution_count": 57,
     "metadata": {},
     "output_type": "execute_result"
    }
   ],
   "source": [
    "np.add(a,b)"
   ]
  },
  {
   "cell_type": "code",
   "execution_count": 58,
   "metadata": {
    "colab": {
     "base_uri": "https://localhost:8080/"
    },
    "executionInfo": {
     "elapsed": 56,
     "status": "ok",
     "timestamp": 1646604214025,
     "user": {
      "displayName": "anamim schuwarte",
      "photoUrl": "https://lh3.googleusercontent.com/a-/AOh14Ghzq9qZcfFYsN0agT4X613HRQ9BcAFbRph9vAui=s64",
      "userId": "09703653288263197532"
     },
     "user_tz": 180
    },
    "id": "edDbmPLQ0PBr",
    "outputId": "afd80e9a-4253-4f30-c29c-ef25a50c1d1b"
   },
   "outputs": [
    {
     "data": {
      "text/plain": [
       "array([11, 22, 33])"
      ]
     },
     "execution_count": 58,
     "metadata": {},
     "output_type": "execute_result"
    }
   ],
   "source": [
    "\n",
    "a + b"
   ]
  },
  {
   "cell_type": "code",
   "execution_count": 59,
   "metadata": {
    "colab": {
     "base_uri": "https://localhost:8080/"
    },
    "executionInfo": {
     "elapsed": 56,
     "status": "ok",
     "timestamp": 1646604214026,
     "user": {
      "displayName": "anamim schuwarte",
      "photoUrl": "https://lh3.googleusercontent.com/a-/AOh14Ghzq9qZcfFYsN0agT4X613HRQ9BcAFbRph9vAui=s64",
      "userId": "09703653288263197532"
     },
     "user_tz": 180
    },
    "id": "L9xGnyb30V8I",
    "outputId": "ba8c6150-d034-485b-ba92-f871b084caf1"
   },
   "outputs": [
    {
     "data": {
      "text/plain": [
       "array([ 9, 18, 27])"
      ]
     },
     "execution_count": 59,
     "metadata": {},
     "output_type": "execute_result"
    }
   ],
   "source": [
    "np.subtract(a,b)"
   ]
  },
  {
   "cell_type": "code",
   "execution_count": 60,
   "metadata": {
    "colab": {
     "base_uri": "https://localhost:8080/"
    },
    "executionInfo": {
     "elapsed": 55,
     "status": "ok",
     "timestamp": 1646604214026,
     "user": {
      "displayName": "anamim schuwarte",
      "photoUrl": "https://lh3.googleusercontent.com/a-/AOh14Ghzq9qZcfFYsN0agT4X613HRQ9BcAFbRph9vAui=s64",
      "userId": "09703653288263197532"
     },
     "user_tz": 180
    },
    "id": "l7h0vD8K0Zgc",
    "outputId": "060392fc-e4b8-4d1e-d254-8dd14a7edba7"
   },
   "outputs": [
    {
     "data": {
      "text/plain": [
       "array([ 9, 18, 27])"
      ]
     },
     "execution_count": 60,
     "metadata": {},
     "output_type": "execute_result"
    }
   ],
   "source": [
    "a - b"
   ]
  },
  {
   "cell_type": "code",
   "execution_count": 61,
   "metadata": {
    "colab": {
     "base_uri": "https://localhost:8080/"
    },
    "executionInfo": {
     "elapsed": 54,
     "status": "ok",
     "timestamp": 1646604214027,
     "user": {
      "displayName": "anamim schuwarte",
      "photoUrl": "https://lh3.googleusercontent.com/a-/AOh14Ghzq9qZcfFYsN0agT4X613HRQ9BcAFbRph9vAui=s64",
      "userId": "09703653288263197532"
     },
     "user_tz": 180
    },
    "id": "fT-NImZw0cVW",
    "outputId": "92fa8a17-b46a-4623-dcf9-b04938da3983"
   },
   "outputs": [
    {
     "data": {
      "text/plain": [
       "array([10, 40, 90])"
      ]
     },
     "execution_count": 61,
     "metadata": {},
     "output_type": "execute_result"
    }
   ],
   "source": [
    "np.multiply(a,b)"
   ]
  },
  {
   "cell_type": "code",
   "execution_count": 62,
   "metadata": {
    "colab": {
     "base_uri": "https://localhost:8080/"
    },
    "executionInfo": {
     "elapsed": 53,
     "status": "ok",
     "timestamp": 1646604214027,
     "user": {
      "displayName": "anamim schuwarte",
      "photoUrl": "https://lh3.googleusercontent.com/a-/AOh14Ghzq9qZcfFYsN0agT4X613HRQ9BcAFbRph9vAui=s64",
      "userId": "09703653288263197532"
     },
     "user_tz": 180
    },
    "id": "BrWVoYyF0foU",
    "outputId": "af779cfc-4f65-4911-9215-9e060ec8f92b"
   },
   "outputs": [
    {
     "data": {
      "text/plain": [
       "array([10, 40, 90])"
      ]
     },
     "execution_count": 62,
     "metadata": {},
     "output_type": "execute_result"
    }
   ],
   "source": [
    "a*b"
   ]
  },
  {
   "cell_type": "code",
   "execution_count": 63,
   "metadata": {
    "colab": {
     "base_uri": "https://localhost:8080/"
    },
    "executionInfo": {
     "elapsed": 53,
     "status": "ok",
     "timestamp": 1646604214028,
     "user": {
      "displayName": "anamim schuwarte",
      "photoUrl": "https://lh3.googleusercontent.com/a-/AOh14Ghzq9qZcfFYsN0agT4X613HRQ9BcAFbRph9vAui=s64",
      "userId": "09703653288263197532"
     },
     "user_tz": 180
    },
    "id": "JXze0Elo0iuu",
    "outputId": "6a7588ba-d662-4c67-9ee4-4bc73e6e9cae"
   },
   "outputs": [
    {
     "data": {
      "text/plain": [
       "array([10., 10., 10.])"
      ]
     },
     "execution_count": 63,
     "metadata": {},
     "output_type": "execute_result"
    }
   ],
   "source": [
    "np.divide(a,b)"
   ]
  },
  {
   "cell_type": "code",
   "execution_count": 64,
   "metadata": {
    "colab": {
     "base_uri": "https://localhost:8080/"
    },
    "executionInfo": {
     "elapsed": 52,
     "status": "ok",
     "timestamp": 1646604214028,
     "user": {
      "displayName": "anamim schuwarte",
      "photoUrl": "https://lh3.googleusercontent.com/a-/AOh14Ghzq9qZcfFYsN0agT4X613HRQ9BcAFbRph9vAui=s64",
      "userId": "09703653288263197532"
     },
     "user_tz": 180
    },
    "id": "MhbdAuNV0mMJ",
    "outputId": "6bc868b6-6c41-486f-a8f9-f452ee4bdba7"
   },
   "outputs": [
    {
     "data": {
      "text/plain": [
       "array([10., 10., 10.])"
      ]
     },
     "execution_count": 64,
     "metadata": {},
     "output_type": "execute_result"
    }
   ],
   "source": [
    "a/b"
   ]
  },
  {
   "cell_type": "markdown",
   "metadata": {
    "id": "XU3Gsv6N0qwI"
   },
   "source": [
    "## 3. Pandas"
   ]
  },
  {
   "cell_type": "code",
   "execution_count": 131,
   "metadata": {
    "executionInfo": {
     "elapsed": 351,
     "status": "ok",
     "timestamp": 1646606218738,
     "user": {
      "displayName": "anamim schuwarte",
      "photoUrl": "https://lh3.googleusercontent.com/a-/AOh14Ghzq9qZcfFYsN0agT4X613HRQ9BcAFbRph9vAui=s64",
      "userId": "09703653288263197532"
     },
     "user_tz": 180
    },
    "id": "rUjosIBcDfTr"
   },
   "outputs": [],
   "source": [
    "dados = pd.read_csv('WEGE3.SA.csv')"
   ]
  },
  {
   "cell_type": "code",
   "execution_count": 132,
   "metadata": {
    "colab": {
     "base_uri": "https://localhost:8080/",
     "height": 363
    },
    "executionInfo": {
     "elapsed": 355,
     "status": "ok",
     "timestamp": 1646606223224,
     "user": {
      "displayName": "anamim schuwarte",
      "photoUrl": "https://lh3.googleusercontent.com/a-/AOh14Ghzq9qZcfFYsN0agT4X613HRQ9BcAFbRph9vAui=s64",
      "userId": "09703653288263197532"
     },
     "user_tz": 180
    },
    "id": "AkZ_hdhMEEXp",
    "outputId": "c702ad16-d062-423e-c1b9-15b1e76037a0"
   },
   "outputs": [
    {
     "data": {
      "text/html": [
       "\n",
       "  <div id=\"df-121a8f0b-a1bc-4339-8a0e-6a49b69954d8\">\n",
       "    <div class=\"colab-df-container\">\n",
       "      <div>\n",
       "<style scoped>\n",
       "    .dataframe tbody tr th:only-of-type {\n",
       "        vertical-align: middle;\n",
       "    }\n",
       "\n",
       "    .dataframe tbody tr th {\n",
       "        vertical-align: top;\n",
       "    }\n",
       "\n",
       "    .dataframe thead th {\n",
       "        text-align: right;\n",
       "    }\n",
       "</style>\n",
       "<table border=\"1\" class=\"dataframe\">\n",
       "  <thead>\n",
       "    <tr style=\"text-align: right;\">\n",
       "      <th></th>\n",
       "      <th>Date</th>\n",
       "      <th>Open</th>\n",
       "      <th>High</th>\n",
       "      <th>Low</th>\n",
       "      <th>Close</th>\n",
       "      <th>Adj Close</th>\n",
       "      <th>Volume</th>\n",
       "    </tr>\n",
       "  </thead>\n",
       "  <tbody>\n",
       "    <tr>\n",
       "      <th>0</th>\n",
       "      <td>2017-07-24</td>\n",
       "      <td>7.392307</td>\n",
       "      <td>7.473076</td>\n",
       "      <td>7.261538</td>\n",
       "      <td>7.426923</td>\n",
       "      <td>7.051007</td>\n",
       "      <td>2638220.0</td>\n",
       "    </tr>\n",
       "    <tr>\n",
       "      <th>1</th>\n",
       "      <td>2017-07-25</td>\n",
       "      <td>7.476923</td>\n",
       "      <td>7.476923</td>\n",
       "      <td>7.307692</td>\n",
       "      <td>7.369230</td>\n",
       "      <td>6.996235</td>\n",
       "      <td>2505880.0</td>\n",
       "    </tr>\n",
       "    <tr>\n",
       "      <th>2</th>\n",
       "      <td>2017-07-26</td>\n",
       "      <td>7.323076</td>\n",
       "      <td>7.442307</td>\n",
       "      <td>7.276923</td>\n",
       "      <td>7.326923</td>\n",
       "      <td>6.956069</td>\n",
       "      <td>2112240.0</td>\n",
       "    </tr>\n",
       "    <tr>\n",
       "      <th>3</th>\n",
       "      <td>2017-07-27</td>\n",
       "      <td>7.388461</td>\n",
       "      <td>7.419230</td>\n",
       "      <td>7.223076</td>\n",
       "      <td>7.269230</td>\n",
       "      <td>6.901296</td>\n",
       "      <td>1910480.0</td>\n",
       "    </tr>\n",
       "    <tr>\n",
       "      <th>4</th>\n",
       "      <td>2017-07-28</td>\n",
       "      <td>7.261538</td>\n",
       "      <td>7.296153</td>\n",
       "      <td>7.165384</td>\n",
       "      <td>7.200000</td>\n",
       "      <td>6.835570</td>\n",
       "      <td>2866760.0</td>\n",
       "    </tr>\n",
       "    <tr>\n",
       "      <th>5</th>\n",
       "      <td>2017-07-31</td>\n",
       "      <td>7.211538</td>\n",
       "      <td>7.303846</td>\n",
       "      <td>7.211538</td>\n",
       "      <td>7.284615</td>\n",
       "      <td>6.915902</td>\n",
       "      <td>2787980.0</td>\n",
       "    </tr>\n",
       "    <tr>\n",
       "      <th>6</th>\n",
       "      <td>2017-08-01</td>\n",
       "      <td>7.307692</td>\n",
       "      <td>7.480769</td>\n",
       "      <td>7.265384</td>\n",
       "      <td>7.365384</td>\n",
       "      <td>6.992584</td>\n",
       "      <td>4247360.0</td>\n",
       "    </tr>\n",
       "    <tr>\n",
       "      <th>7</th>\n",
       "      <td>2017-08-02</td>\n",
       "      <td>7.369230</td>\n",
       "      <td>7.569230</td>\n",
       "      <td>7.369230</td>\n",
       "      <td>7.507692</td>\n",
       "      <td>7.127687</td>\n",
       "      <td>5018520.0</td>\n",
       "    </tr>\n",
       "    <tr>\n",
       "      <th>8</th>\n",
       "      <td>2017-08-03</td>\n",
       "      <td>7.523076</td>\n",
       "      <td>7.561538</td>\n",
       "      <td>7.311538</td>\n",
       "      <td>7.373076</td>\n",
       "      <td>6.999886</td>\n",
       "      <td>3764280.0</td>\n",
       "    </tr>\n",
       "    <tr>\n",
       "      <th>9</th>\n",
       "      <td>2017-08-04</td>\n",
       "      <td>7.403846</td>\n",
       "      <td>7.442307</td>\n",
       "      <td>7.342307</td>\n",
       "      <td>7.361538</td>\n",
       "      <td>6.988931</td>\n",
       "      <td>2427360.0</td>\n",
       "    </tr>\n",
       "  </tbody>\n",
       "</table>\n",
       "</div>\n",
       "      <button class=\"colab-df-convert\" onclick=\"convertToInteractive('df-121a8f0b-a1bc-4339-8a0e-6a49b69954d8')\"\n",
       "              title=\"Convert this dataframe to an interactive table.\"\n",
       "              style=\"display:none;\">\n",
       "        \n",
       "  <svg xmlns=\"http://www.w3.org/2000/svg\" height=\"24px\"viewBox=\"0 0 24 24\"\n",
       "       width=\"24px\">\n",
       "    <path d=\"M0 0h24v24H0V0z\" fill=\"none\"/>\n",
       "    <path d=\"M18.56 5.44l.94 2.06.94-2.06 2.06-.94-2.06-.94-.94-2.06-.94 2.06-2.06.94zm-11 1L8.5 8.5l.94-2.06 2.06-.94-2.06-.94L8.5 2.5l-.94 2.06-2.06.94zm10 10l.94 2.06.94-2.06 2.06-.94-2.06-.94-.94-2.06-.94 2.06-2.06.94z\"/><path d=\"M17.41 7.96l-1.37-1.37c-.4-.4-.92-.59-1.43-.59-.52 0-1.04.2-1.43.59L10.3 9.45l-7.72 7.72c-.78.78-.78 2.05 0 2.83L4 21.41c.39.39.9.59 1.41.59.51 0 1.02-.2 1.41-.59l7.78-7.78 2.81-2.81c.8-.78.8-2.07 0-2.86zM5.41 20L4 18.59l7.72-7.72 1.47 1.35L5.41 20z\"/>\n",
       "  </svg>\n",
       "      </button>\n",
       "      \n",
       "  <style>\n",
       "    .colab-df-container {\n",
       "      display:flex;\n",
       "      flex-wrap:wrap;\n",
       "      gap: 12px;\n",
       "    }\n",
       "\n",
       "    .colab-df-convert {\n",
       "      background-color: #E8F0FE;\n",
       "      border: none;\n",
       "      border-radius: 50%;\n",
       "      cursor: pointer;\n",
       "      display: none;\n",
       "      fill: #1967D2;\n",
       "      height: 32px;\n",
       "      padding: 0 0 0 0;\n",
       "      width: 32px;\n",
       "    }\n",
       "\n",
       "    .colab-df-convert:hover {\n",
       "      background-color: #E2EBFA;\n",
       "      box-shadow: 0px 1px 2px rgba(60, 64, 67, 0.3), 0px 1px 3px 1px rgba(60, 64, 67, 0.15);\n",
       "      fill: #174EA6;\n",
       "    }\n",
       "\n",
       "    [theme=dark] .colab-df-convert {\n",
       "      background-color: #3B4455;\n",
       "      fill: #D2E3FC;\n",
       "    }\n",
       "\n",
       "    [theme=dark] .colab-df-convert:hover {\n",
       "      background-color: #434B5C;\n",
       "      box-shadow: 0px 1px 3px 1px rgba(0, 0, 0, 0.15);\n",
       "      filter: drop-shadow(0px 1px 2px rgba(0, 0, 0, 0.3));\n",
       "      fill: #FFFFFF;\n",
       "    }\n",
       "  </style>\n",
       "\n",
       "      <script>\n",
       "        const buttonEl =\n",
       "          document.querySelector('#df-121a8f0b-a1bc-4339-8a0e-6a49b69954d8 button.colab-df-convert');\n",
       "        buttonEl.style.display =\n",
       "          google.colab.kernel.accessAllowed ? 'block' : 'none';\n",
       "\n",
       "        async function convertToInteractive(key) {\n",
       "          const element = document.querySelector('#df-121a8f0b-a1bc-4339-8a0e-6a49b69954d8');\n",
       "          const dataTable =\n",
       "            await google.colab.kernel.invokeFunction('convertToInteractive',\n",
       "                                                     [key], {});\n",
       "          if (!dataTable) return;\n",
       "\n",
       "          const docLinkHtml = 'Like what you see? Visit the ' +\n",
       "            '<a target=\"_blank\" href=https://colab.research.google.com/notebooks/data_table.ipynb>data table notebook</a>'\n",
       "            + ' to learn more about interactive tables.';\n",
       "          element.innerHTML = '';\n",
       "          dataTable['output_type'] = 'display_data';\n",
       "          await google.colab.output.renderOutput(dataTable, element);\n",
       "          const docLink = document.createElement('div');\n",
       "          docLink.innerHTML = docLinkHtml;\n",
       "          element.appendChild(docLink);\n",
       "        }\n",
       "      </script>\n",
       "    </div>\n",
       "  </div>\n",
       "  "
      ],
      "text/plain": [
       "         Date      Open      High       Low     Close  Adj Close     Volume\n",
       "0  2017-07-24  7.392307  7.473076  7.261538  7.426923   7.051007  2638220.0\n",
       "1  2017-07-25  7.476923  7.476923  7.307692  7.369230   6.996235  2505880.0\n",
       "2  2017-07-26  7.323076  7.442307  7.276923  7.326923   6.956069  2112240.0\n",
       "3  2017-07-27  7.388461  7.419230  7.223076  7.269230   6.901296  1910480.0\n",
       "4  2017-07-28  7.261538  7.296153  7.165384  7.200000   6.835570  2866760.0\n",
       "5  2017-07-31  7.211538  7.303846  7.211538  7.284615   6.915902  2787980.0\n",
       "6  2017-08-01  7.307692  7.480769  7.265384  7.365384   6.992584  4247360.0\n",
       "7  2017-08-02  7.369230  7.569230  7.369230  7.507692   7.127687  5018520.0\n",
       "8  2017-08-03  7.523076  7.561538  7.311538  7.373076   6.999886  3764280.0\n",
       "9  2017-08-04  7.403846  7.442307  7.342307  7.361538   6.988931  2427360.0"
      ]
     },
     "execution_count": 132,
     "metadata": {},
     "output_type": "execute_result"
    }
   ],
   "source": [
    "dados.head(10)"
   ]
  },
  {
   "cell_type": "code",
   "execution_count": 112,
   "metadata": {
    "colab": {
     "base_uri": "https://localhost:8080/"
    },
    "executionInfo": {
     "elapsed": 376,
     "status": "ok",
     "timestamp": 1646604976360,
     "user": {
      "displayName": "anamim schuwarte",
      "photoUrl": "https://lh3.googleusercontent.com/a-/AOh14Ghzq9qZcfFYsN0agT4X613HRQ9BcAFbRph9vAui=s64",
      "userId": "09703653288263197532"
     },
     "user_tz": 180
    },
    "id": "1qlYxrbhEwKX",
    "outputId": "adc2799d-2a32-4c5b-a9e3-36d3813b229a"
   },
   "outputs": [
    {
     "data": {
      "text/plain": [
       "(993, 7)"
      ]
     },
     "execution_count": 112,
     "metadata": {},
     "output_type": "execute_result"
    }
   ],
   "source": [
    "dados.shape"
   ]
  },
  {
   "cell_type": "code",
   "execution_count": 68,
   "metadata": {
    "colab": {
     "base_uri": "https://localhost:8080/"
    },
    "executionInfo": {
     "elapsed": 46,
     "status": "ok",
     "timestamp": 1646604214030,
     "user": {
      "displayName": "anamim schuwarte",
      "photoUrl": "https://lh3.googleusercontent.com/a-/AOh14Ghzq9qZcfFYsN0agT4X613HRQ9BcAFbRph9vAui=s64",
      "userId": "09703653288263197532"
     },
     "user_tz": 180
    },
    "id": "1-NlJZBNFDkA",
    "outputId": "1cf3d0b5-e8d6-44d6-8b01-49c185a9cf57"
   },
   "outputs": [
    {
     "data": {
      "text/plain": [
       "Date          object\n",
       "Open         float64\n",
       "High         float64\n",
       "Low          float64\n",
       "Close        float64\n",
       "Adj Close    float64\n",
       "Volume       float64\n",
       "dtype: object"
      ]
     },
     "execution_count": 68,
     "metadata": {},
     "output_type": "execute_result"
    }
   ],
   "source": [
    "dados.dtypes"
   ]
  },
  {
   "cell_type": "code",
   "execution_count": 69,
   "metadata": {
    "colab": {
     "base_uri": "https://localhost:8080/"
    },
    "executionInfo": {
     "elapsed": 44,
     "status": "ok",
     "timestamp": 1646604214031,
     "user": {
      "displayName": "anamim schuwarte",
      "photoUrl": "https://lh3.googleusercontent.com/a-/AOh14Ghzq9qZcfFYsN0agT4X613HRQ9BcAFbRph9vAui=s64",
      "userId": "09703653288263197532"
     },
     "user_tz": 180
    },
    "id": "6jGn9MO4FHIY",
    "outputId": "c5ca7922-bea2-436e-d343-204c4249bd97"
   },
   "outputs": [
    {
     "data": {
      "text/plain": [
       "pandas.core.frame.DataFrame"
      ]
     },
     "execution_count": 69,
     "metadata": {},
     "output_type": "execute_result"
    }
   ],
   "source": [
    "type(dados)"
   ]
  },
  {
   "cell_type": "code",
   "execution_count": 70,
   "metadata": {
    "colab": {
     "base_uri": "https://localhost:8080/",
     "height": 206
    },
    "executionInfo": {
     "elapsed": 42,
     "status": "ok",
     "timestamp": 1646604214032,
     "user": {
      "displayName": "anamim schuwarte",
      "photoUrl": "https://lh3.googleusercontent.com/a-/AOh14Ghzq9qZcfFYsN0agT4X613HRQ9BcAFbRph9vAui=s64",
      "userId": "09703653288263197532"
     },
     "user_tz": 180
    },
    "id": "OYvM5DmHFRS-",
    "outputId": "efdf0b00-66fa-4054-9647-14b1ceaf289a"
   },
   "outputs": [
    {
     "data": {
      "text/html": [
       "\n",
       "  <div id=\"df-f712eee3-9e76-4c2f-82ff-3fd55f98fbf1\">\n",
       "    <div class=\"colab-df-container\">\n",
       "      <div>\n",
       "<style scoped>\n",
       "    .dataframe tbody tr th:only-of-type {\n",
       "        vertical-align: middle;\n",
       "    }\n",
       "\n",
       "    .dataframe tbody tr th {\n",
       "        vertical-align: top;\n",
       "    }\n",
       "\n",
       "    .dataframe thead th {\n",
       "        text-align: right;\n",
       "    }\n",
       "</style>\n",
       "<table border=\"1\" class=\"dataframe\">\n",
       "  <thead>\n",
       "    <tr style=\"text-align: right;\">\n",
       "      <th></th>\n",
       "      <th>Date</th>\n",
       "      <th>Open</th>\n",
       "      <th>High</th>\n",
       "      <th>Low</th>\n",
       "      <th>Close</th>\n",
       "      <th>Adj Close</th>\n",
       "      <th>Volume</th>\n",
       "    </tr>\n",
       "  </thead>\n",
       "  <tbody>\n",
       "    <tr>\n",
       "      <th>988</th>\n",
       "      <td>2021-07-15</td>\n",
       "      <td>35.000000</td>\n",
       "      <td>35.590000</td>\n",
       "      <td>34.900002</td>\n",
       "      <td>34.919998</td>\n",
       "      <td>34.919998</td>\n",
       "      <td>4807000.0</td>\n",
       "    </tr>\n",
       "    <tr>\n",
       "      <th>989</th>\n",
       "      <td>2021-07-16</td>\n",
       "      <td>35.040001</td>\n",
       "      <td>35.259998</td>\n",
       "      <td>34.209999</td>\n",
       "      <td>34.290001</td>\n",
       "      <td>34.290001</td>\n",
       "      <td>5380000.0</td>\n",
       "    </tr>\n",
       "    <tr>\n",
       "      <th>990</th>\n",
       "      <td>2021-07-19</td>\n",
       "      <td>34.000000</td>\n",
       "      <td>34.369999</td>\n",
       "      <td>33.599998</td>\n",
       "      <td>34.180000</td>\n",
       "      <td>34.180000</td>\n",
       "      <td>4756600.0</td>\n",
       "    </tr>\n",
       "    <tr>\n",
       "      <th>991</th>\n",
       "      <td>2021-07-20</td>\n",
       "      <td>34.049999</td>\n",
       "      <td>34.830002</td>\n",
       "      <td>33.869999</td>\n",
       "      <td>34.549999</td>\n",
       "      <td>34.549999</td>\n",
       "      <td>4042300.0</td>\n",
       "    </tr>\n",
       "    <tr>\n",
       "      <th>992</th>\n",
       "      <td>2021-07-21</td>\n",
       "      <td>34.750000</td>\n",
       "      <td>34.970001</td>\n",
       "      <td>34.099998</td>\n",
       "      <td>34.450001</td>\n",
       "      <td>34.450001</td>\n",
       "      <td>4315700.0</td>\n",
       "    </tr>\n",
       "  </tbody>\n",
       "</table>\n",
       "</div>\n",
       "      <button class=\"colab-df-convert\" onclick=\"convertToInteractive('df-f712eee3-9e76-4c2f-82ff-3fd55f98fbf1')\"\n",
       "              title=\"Convert this dataframe to an interactive table.\"\n",
       "              style=\"display:none;\">\n",
       "        \n",
       "  <svg xmlns=\"http://www.w3.org/2000/svg\" height=\"24px\"viewBox=\"0 0 24 24\"\n",
       "       width=\"24px\">\n",
       "    <path d=\"M0 0h24v24H0V0z\" fill=\"none\"/>\n",
       "    <path d=\"M18.56 5.44l.94 2.06.94-2.06 2.06-.94-2.06-.94-.94-2.06-.94 2.06-2.06.94zm-11 1L8.5 8.5l.94-2.06 2.06-.94-2.06-.94L8.5 2.5l-.94 2.06-2.06.94zm10 10l.94 2.06.94-2.06 2.06-.94-2.06-.94-.94-2.06-.94 2.06-2.06.94z\"/><path d=\"M17.41 7.96l-1.37-1.37c-.4-.4-.92-.59-1.43-.59-.52 0-1.04.2-1.43.59L10.3 9.45l-7.72 7.72c-.78.78-.78 2.05 0 2.83L4 21.41c.39.39.9.59 1.41.59.51 0 1.02-.2 1.41-.59l7.78-7.78 2.81-2.81c.8-.78.8-2.07 0-2.86zM5.41 20L4 18.59l7.72-7.72 1.47 1.35L5.41 20z\"/>\n",
       "  </svg>\n",
       "      </button>\n",
       "      \n",
       "  <style>\n",
       "    .colab-df-container {\n",
       "      display:flex;\n",
       "      flex-wrap:wrap;\n",
       "      gap: 12px;\n",
       "    }\n",
       "\n",
       "    .colab-df-convert {\n",
       "      background-color: #E8F0FE;\n",
       "      border: none;\n",
       "      border-radius: 50%;\n",
       "      cursor: pointer;\n",
       "      display: none;\n",
       "      fill: #1967D2;\n",
       "      height: 32px;\n",
       "      padding: 0 0 0 0;\n",
       "      width: 32px;\n",
       "    }\n",
       "\n",
       "    .colab-df-convert:hover {\n",
       "      background-color: #E2EBFA;\n",
       "      box-shadow: 0px 1px 2px rgba(60, 64, 67, 0.3), 0px 1px 3px 1px rgba(60, 64, 67, 0.15);\n",
       "      fill: #174EA6;\n",
       "    }\n",
       "\n",
       "    [theme=dark] .colab-df-convert {\n",
       "      background-color: #3B4455;\n",
       "      fill: #D2E3FC;\n",
       "    }\n",
       "\n",
       "    [theme=dark] .colab-df-convert:hover {\n",
       "      background-color: #434B5C;\n",
       "      box-shadow: 0px 1px 3px 1px rgba(0, 0, 0, 0.15);\n",
       "      filter: drop-shadow(0px 1px 2px rgba(0, 0, 0, 0.3));\n",
       "      fill: #FFFFFF;\n",
       "    }\n",
       "  </style>\n",
       "\n",
       "      <script>\n",
       "        const buttonEl =\n",
       "          document.querySelector('#df-f712eee3-9e76-4c2f-82ff-3fd55f98fbf1 button.colab-df-convert');\n",
       "        buttonEl.style.display =\n",
       "          google.colab.kernel.accessAllowed ? 'block' : 'none';\n",
       "\n",
       "        async function convertToInteractive(key) {\n",
       "          const element = document.querySelector('#df-f712eee3-9e76-4c2f-82ff-3fd55f98fbf1');\n",
       "          const dataTable =\n",
       "            await google.colab.kernel.invokeFunction('convertToInteractive',\n",
       "                                                     [key], {});\n",
       "          if (!dataTable) return;\n",
       "\n",
       "          const docLinkHtml = 'Like what you see? Visit the ' +\n",
       "            '<a target=\"_blank\" href=https://colab.research.google.com/notebooks/data_table.ipynb>data table notebook</a>'\n",
       "            + ' to learn more about interactive tables.';\n",
       "          element.innerHTML = '';\n",
       "          dataTable['output_type'] = 'display_data';\n",
       "          await google.colab.output.renderOutput(dataTable, element);\n",
       "          const docLink = document.createElement('div');\n",
       "          docLink.innerHTML = docLinkHtml;\n",
       "          element.appendChild(docLink);\n",
       "        }\n",
       "      </script>\n",
       "    </div>\n",
       "  </div>\n",
       "  "
      ],
      "text/plain": [
       "           Date       Open       High        Low      Close  Adj Close  \\\n",
       "988  2021-07-15  35.000000  35.590000  34.900002  34.919998  34.919998   \n",
       "989  2021-07-16  35.040001  35.259998  34.209999  34.290001  34.290001   \n",
       "990  2021-07-19  34.000000  34.369999  33.599998  34.180000  34.180000   \n",
       "991  2021-07-20  34.049999  34.830002  33.869999  34.549999  34.549999   \n",
       "992  2021-07-21  34.750000  34.970001  34.099998  34.450001  34.450001   \n",
       "\n",
       "        Volume  \n",
       "988  4807000.0  \n",
       "989  5380000.0  \n",
       "990  4756600.0  \n",
       "991  4042300.0  \n",
       "992  4315700.0  "
      ]
     },
     "execution_count": 70,
     "metadata": {},
     "output_type": "execute_result"
    }
   ],
   "source": [
    "dados.tail()"
   ]
  },
  {
   "cell_type": "code",
   "execution_count": 71,
   "metadata": {
    "colab": {
     "base_uri": "https://localhost:8080/"
    },
    "executionInfo": {
     "elapsed": 41,
     "status": "ok",
     "timestamp": 1646604214032,
     "user": {
      "displayName": "anamim schuwarte",
      "photoUrl": "https://lh3.googleusercontent.com/a-/AOh14Ghzq9qZcfFYsN0agT4X613HRQ9BcAFbRph9vAui=s64",
      "userId": "09703653288263197532"
     },
     "user_tz": 180
    },
    "id": "jrbK3zKeFTeV",
    "outputId": "20d87755-b89d-43a4-e788-416ae01713f0"
   },
   "outputs": [
    {
     "data": {
      "text/plain": [
       "Date         2017-07-24\n",
       "Open           7.392307\n",
       "High           7.473076\n",
       "Low            7.261538\n",
       "Close          7.426923\n",
       "Adj Close      7.051007\n",
       "Volume        2638220.0\n",
       "Name: 0, dtype: object"
      ]
     },
     "execution_count": 71,
     "metadata": {},
     "output_type": "execute_result"
    }
   ],
   "source": [
    "dados.loc[0]"
   ]
  },
  {
   "cell_type": "code",
   "execution_count": 72,
   "metadata": {
    "colab": {
     "base_uri": "https://localhost:8080/"
    },
    "executionInfo": {
     "elapsed": 39,
     "status": "ok",
     "timestamp": 1646604214033,
     "user": {
      "displayName": "anamim schuwarte",
      "photoUrl": "https://lh3.googleusercontent.com/a-/AOh14Ghzq9qZcfFYsN0agT4X613HRQ9BcAFbRph9vAui=s64",
      "userId": "09703653288263197532"
     },
     "user_tz": 180
    },
    "id": "rO5miiktHDLJ",
    "outputId": "59b541da-f3ea-4f8c-a58a-7eae3e60291d"
   },
   "outputs": [
    {
     "data": {
      "text/plain": [
       "Date         2017-07-24\n",
       "Open           7.392307\n",
       "High           7.473076\n",
       "Low            7.261538\n",
       "Close          7.426923\n",
       "Adj Close      7.051007\n",
       "Volume        2638220.0\n",
       "Name: 0, dtype: object"
      ]
     },
     "execution_count": 72,
     "metadata": {},
     "output_type": "execute_result"
    }
   ],
   "source": [
    "dados.iloc[0]"
   ]
  },
  {
   "cell_type": "code",
   "execution_count": 73,
   "metadata": {
    "colab": {
     "base_uri": "https://localhost:8080/",
     "height": 36
    },
    "executionInfo": {
     "elapsed": 37,
     "status": "ok",
     "timestamp": 1646604214033,
     "user": {
      "displayName": "anamim schuwarte",
      "photoUrl": "https://lh3.googleusercontent.com/a-/AOh14Ghzq9qZcfFYsN0agT4X613HRQ9BcAFbRph9vAui=s64",
      "userId": "09703653288263197532"
     },
     "user_tz": 180
    },
    "id": "b3zLN9N4HVF0",
    "outputId": "0fc165db-a70c-4151-c45a-9373b1b0ff38"
   },
   "outputs": [
    {
     "data": {
      "application/vnd.google.colaboratory.intrinsic+json": {
       "type": "string"
      },
      "text/plain": [
       "'2017-07-24'"
      ]
     },
     "execution_count": 73,
     "metadata": {},
     "output_type": "execute_result"
    }
   ],
   "source": [
    "dados.iloc[0,0]"
   ]
  },
  {
   "cell_type": "code",
   "execution_count": 74,
   "metadata": {
    "colab": {
     "base_uri": "https://localhost:8080/"
    },
    "executionInfo": {
     "elapsed": 37,
     "status": "ok",
     "timestamp": 1646604214034,
     "user": {
      "displayName": "anamim schuwarte",
      "photoUrl": "https://lh3.googleusercontent.com/a-/AOh14Ghzq9qZcfFYsN0agT4X613HRQ9BcAFbRph9vAui=s64",
      "userId": "09703653288263197532"
     },
     "user_tz": 180
    },
    "id": "K29KQw2BHb7Q",
    "outputId": "8c1850ca-0070-4347-ea6f-c4835a2b3333"
   },
   "outputs": [
    {
     "data": {
      "text/plain": [
       "0       7.051007\n",
       "1       6.996235\n",
       "2       6.956069\n",
       "3       6.901296\n",
       "4       6.835570\n",
       "         ...    \n",
       "988    34.919998\n",
       "989    34.290001\n",
       "990    34.180000\n",
       "991    34.549999\n",
       "992    34.450001\n",
       "Name: Adj Close, Length: 993, dtype: float64"
      ]
     },
     "execution_count": 74,
     "metadata": {},
     "output_type": "execute_result"
    }
   ],
   "source": [
    "dados['Adj Close']"
   ]
  },
  {
   "cell_type": "code",
   "execution_count": 75,
   "metadata": {
    "colab": {
     "base_uri": "https://localhost:8080/",
     "height": 284
    },
    "executionInfo": {
     "elapsed": 20,
     "status": "ok",
     "timestamp": 1646604214477,
     "user": {
      "displayName": "anamim schuwarte",
      "photoUrl": "https://lh3.googleusercontent.com/a-/AOh14Ghzq9qZcfFYsN0agT4X613HRQ9BcAFbRph9vAui=s64",
      "userId": "09703653288263197532"
     },
     "user_tz": 180
    },
    "id": "1BmXOMjGHqT1",
    "outputId": "fc9438f4-2d22-4ea8-e4ce-ebecd8ff976c"
   },
   "outputs": [
    {
     "data": {
      "text/plain": [
       "<matplotlib.axes._subplots.AxesSubplot at 0x7f1da88fc950>"
      ]
     },
     "execution_count": 75,
     "metadata": {},
     "output_type": "execute_result"
    },
    {
     "data": {
      "image/png": "[encoded data removed]",
      "text/plain": [
       "<Figure size 432x288 with 1 Axes>"
      ]
     },
     "metadata": {
      "needs_background": "light"
     },
     "output_type": "display_data"
    }
   ],
   "source": [
    "dados['Adj Close'].plot()"
   ]
  },
  {
   "cell_type": "code",
   "execution_count": 76,
   "metadata": {
    "colab": {
     "base_uri": "https://localhost:8080/",
     "height": 265
    },
    "executionInfo": {
     "elapsed": 13,
     "status": "ok",
     "timestamp": 1646604214478,
     "user": {
      "displayName": "anamim schuwarte",
      "photoUrl": "https://lh3.googleusercontent.com/a-/AOh14Ghzq9qZcfFYsN0agT4X613HRQ9BcAFbRph9vAui=s64",
      "userId": "09703653288263197532"
     },
     "user_tz": 180
    },
    "id": "PNg285xzH5Pi",
    "outputId": "e80b313a-694b-4b23-e33a-760a41b5cb1b"
   },
   "outputs": [
    {
     "data": {
      "image/png": "[encoded data removed]",
      "text/plain": [
       "<Figure size 432x288 with 1 Axes>"
      ]
     },
     "metadata": {
      "needs_background": "light"
     },
     "output_type": "display_data"
    }
   ],
   "source": [
    "dados['Adj Close'].plot();"
   ]
  },
  {
   "cell_type": "code",
   "execution_count": 77,
   "metadata": {
    "colab": {
     "base_uri": "https://localhost:8080/",
     "height": 265
    },
    "executionInfo": {
     "elapsed": 716,
     "status": "ok",
     "timestamp": 1646604215184,
     "user": {
      "displayName": "anamim schuwarte",
      "photoUrl": "https://lh3.googleusercontent.com/a-/AOh14Ghzq9qZcfFYsN0agT4X613HRQ9BcAFbRph9vAui=s64",
      "userId": "09703653288263197532"
     },
     "user_tz": 180
    },
    "id": "PhregJEyIa0-",
    "outputId": "208fe684-0979-40eb-ce05-50e9191bc51a"
   },
   "outputs": [
    {
     "data": {
      "image/png": "[encoded data removed]",
      "text/plain": [
       "<Figure size 432x288 with 1 Axes>"
      ]
     },
     "metadata": {
      "needs_background": "light"
     },
     "output_type": "display_data"
    }
   ],
   "source": [
    "dados.Close.plot();"
   ]
  },
  {
   "cell_type": "code",
   "execution_count": 78,
   "metadata": {
    "colab": {
     "base_uri": "https://localhost:8080/",
     "height": 265
    },
    "executionInfo": {
     "elapsed": 25,
     "status": "ok",
     "timestamp": 1646604215185,
     "user": {
      "displayName": "anamim schuwarte",
      "photoUrl": "https://lh3.googleusercontent.com/a-/AOh14Ghzq9qZcfFYsN0agT4X613HRQ9BcAFbRph9vAui=s64",
      "userId": "09703653288263197532"
     },
     "user_tz": 180
    },
    "id": "9C-TDQukIwRJ",
    "outputId": "494a6f0b-5efe-4767-9451-bf807d3a05e5"
   },
   "outputs": [
    {
     "data": {
      "image/png": "[encoded data removed]",
      "text/plain": [
       "<Figure size 432x288 with 1 Axes>"
      ]
     },
     "metadata": {
      "needs_background": "light"
     },
     "output_type": "display_data"
    }
   ],
   "source": [
    "dados.iloc[0:200].Close.plot();"
   ]
  },
  {
   "cell_type": "code",
   "execution_count": 79,
   "metadata": {
    "colab": {
     "base_uri": "https://localhost:8080/",
     "height": 267
    },
    "executionInfo": {
     "elapsed": 24,
     "status": "ok",
     "timestamp": 1646604215186,
     "user": {
      "displayName": "anamim schuwarte",
      "photoUrl": "https://lh3.googleusercontent.com/a-/AOh14Ghzq9qZcfFYsN0agT4X613HRQ9BcAFbRph9vAui=s64",
      "userId": "09703653288263197532"
     },
     "user_tz": 180
    },
    "id": "d60gF82oI8AQ",
    "outputId": "8cfb2941-3b1d-4173-8fdf-5ec9df75b455"
   },
   "outputs": [
    {
     "data": {
      "image/png": "[encoded data removed]",
      "text/plain": [
       "<Figure size 432x288 with 1 Axes>"
      ]
     },
     "metadata": {
      "needs_background": "light"
     },
     "output_type": "display_data"
    }
   ],
   "source": [
    "dados.iloc[0:100].Close.plot();"
   ]
  },
  {
   "cell_type": "code",
   "execution_count": 80,
   "metadata": {
    "colab": {
     "base_uri": "https://localhost:8080/",
     "height": 423
    },
    "executionInfo": {
     "elapsed": 22,
     "status": "ok",
     "timestamp": 1646604215187,
     "user": {
      "displayName": "anamim schuwarte",
      "photoUrl": "https://lh3.googleusercontent.com/a-/AOh14Ghzq9qZcfFYsN0agT4X613HRQ9BcAFbRph9vAui=s64",
      "userId": "09703653288263197532"
     },
     "user_tz": 180
    },
    "id": "6Z0f3w2gJi27",
    "outputId": "4d151186-388c-4a8d-83a6-b4e7b626e99a"
   },
   "outputs": [
    {
     "data": {
      "text/html": [
       "\n",
       "  <div id=\"df-03b5279a-c015-4733-8640-2b5015badc59\">\n",
       "    <div class=\"colab-df-container\">\n",
       "      <div>\n",
       "<style scoped>\n",
       "    .dataframe tbody tr th:only-of-type {\n",
       "        vertical-align: middle;\n",
       "    }\n",
       "\n",
       "    .dataframe tbody tr th {\n",
       "        vertical-align: top;\n",
       "    }\n",
       "\n",
       "    .dataframe thead th {\n",
       "        text-align: right;\n",
       "    }\n",
       "</style>\n",
       "<table border=\"1\" class=\"dataframe\">\n",
       "  <thead>\n",
       "    <tr style=\"text-align: right;\">\n",
       "      <th></th>\n",
       "      <th>Date</th>\n",
       "      <th>Open</th>\n",
       "      <th>High</th>\n",
       "      <th>Low</th>\n",
       "      <th>Close</th>\n",
       "      <th>Adj Close</th>\n",
       "      <th>Volume</th>\n",
       "    </tr>\n",
       "  </thead>\n",
       "  <tbody>\n",
       "    <tr>\n",
       "      <th>0</th>\n",
       "      <td>2017-07-24</td>\n",
       "      <td>7.392307</td>\n",
       "      <td>7.473076</td>\n",
       "      <td>7.261538</td>\n",
       "      <td>7.426923</td>\n",
       "      <td>7.051007</td>\n",
       "      <td>2638220.0</td>\n",
       "    </tr>\n",
       "    <tr>\n",
       "      <th>1</th>\n",
       "      <td>2017-07-25</td>\n",
       "      <td>7.476923</td>\n",
       "      <td>7.476923</td>\n",
       "      <td>7.307692</td>\n",
       "      <td>7.369230</td>\n",
       "      <td>6.996235</td>\n",
       "      <td>2505880.0</td>\n",
       "    </tr>\n",
       "    <tr>\n",
       "      <th>2</th>\n",
       "      <td>2017-07-26</td>\n",
       "      <td>7.323076</td>\n",
       "      <td>7.442307</td>\n",
       "      <td>7.276923</td>\n",
       "      <td>7.326923</td>\n",
       "      <td>6.956069</td>\n",
       "      <td>2112240.0</td>\n",
       "    </tr>\n",
       "    <tr>\n",
       "      <th>3</th>\n",
       "      <td>2017-07-27</td>\n",
       "      <td>7.388461</td>\n",
       "      <td>7.419230</td>\n",
       "      <td>7.223076</td>\n",
       "      <td>7.269230</td>\n",
       "      <td>6.901296</td>\n",
       "      <td>1910480.0</td>\n",
       "    </tr>\n",
       "    <tr>\n",
       "      <th>4</th>\n",
       "      <td>2017-07-28</td>\n",
       "      <td>7.261538</td>\n",
       "      <td>7.296153</td>\n",
       "      <td>7.165384</td>\n",
       "      <td>7.200000</td>\n",
       "      <td>6.835570</td>\n",
       "      <td>2866760.0</td>\n",
       "    </tr>\n",
       "    <tr>\n",
       "      <th>...</th>\n",
       "      <td>...</td>\n",
       "      <td>...</td>\n",
       "      <td>...</td>\n",
       "      <td>...</td>\n",
       "      <td>...</td>\n",
       "      <td>...</td>\n",
       "      <td>...</td>\n",
       "    </tr>\n",
       "    <tr>\n",
       "      <th>95</th>\n",
       "      <td>2017-12-04</td>\n",
       "      <td>8.730769</td>\n",
       "      <td>9.030769</td>\n",
       "      <td>8.707692</td>\n",
       "      <td>8.903846</td>\n",
       "      <td>8.476193</td>\n",
       "      <td>4742660.0</td>\n",
       "    </tr>\n",
       "    <tr>\n",
       "      <th>96</th>\n",
       "      <td>2017-12-05</td>\n",
       "      <td>8.923076</td>\n",
       "      <td>9.257692</td>\n",
       "      <td>8.823076</td>\n",
       "      <td>9.153846</td>\n",
       "      <td>8.714188</td>\n",
       "      <td>6041620.0</td>\n",
       "    </tr>\n",
       "    <tr>\n",
       "      <th>97</th>\n",
       "      <td>2017-12-06</td>\n",
       "      <td>9.134615</td>\n",
       "      <td>9.334615</td>\n",
       "      <td>9.050000</td>\n",
       "      <td>9.173076</td>\n",
       "      <td>8.732491</td>\n",
       "      <td>5036460.0</td>\n",
       "    </tr>\n",
       "    <tr>\n",
       "      <th>98</th>\n",
       "      <td>2017-12-07</td>\n",
       "      <td>9.050000</td>\n",
       "      <td>9.134615</td>\n",
       "      <td>8.803846</td>\n",
       "      <td>8.869230</td>\n",
       "      <td>8.443243</td>\n",
       "      <td>4186000.0</td>\n",
       "    </tr>\n",
       "    <tr>\n",
       "      <th>99</th>\n",
       "      <td>2017-12-08</td>\n",
       "      <td>8.976923</td>\n",
       "      <td>9.076923</td>\n",
       "      <td>8.857692</td>\n",
       "      <td>8.903846</td>\n",
       "      <td>8.476193</td>\n",
       "      <td>3577600.0</td>\n",
       "    </tr>\n",
       "  </tbody>\n",
       "</table>\n",
       "<p>100 rows × 7 columns</p>\n",
       "</div>\n",
       "      <button class=\"colab-df-convert\" onclick=\"convertToInteractive('df-03b5279a-c015-4733-8640-2b5015badc59')\"\n",
       "              title=\"Convert this dataframe to an interactive table.\"\n",
       "              style=\"display:none;\">\n",
       "        \n",
       "  <svg xmlns=\"http://www.w3.org/2000/svg\" height=\"24px\"viewBox=\"0 0 24 24\"\n",
       "       width=\"24px\">\n",
       "    <path d=\"M0 0h24v24H0V0z\" fill=\"none\"/>\n",
       "    <path d=\"M18.56 5.44l.94 2.06.94-2.06 2.06-.94-2.06-.94-.94-2.06-.94 2.06-2.06.94zm-11 1L8.5 8.5l.94-2.06 2.06-.94-2.06-.94L8.5 2.5l-.94 2.06-2.06.94zm10 10l.94 2.06.94-2.06 2.06-.94-2.06-.94-.94-2.06-.94 2.06-2.06.94z\"/><path d=\"M17.41 7.96l-1.37-1.37c-.4-.4-.92-.59-1.43-.59-.52 0-1.04.2-1.43.59L10.3 9.45l-7.72 7.72c-.78.78-.78 2.05 0 2.83L4 21.41c.39.39.9.59 1.41.59.51 0 1.02-.2 1.41-.59l7.78-7.78 2.81-2.81c.8-.78.8-2.07 0-2.86zM5.41 20L4 18.59l7.72-7.72 1.47 1.35L5.41 20z\"/>\n",
       "  </svg>\n",
       "      </button>\n",
       "      \n",
       "  <style>\n",
       "    .colab-df-container {\n",
       "      display:flex;\n",
       "      flex-wrap:wrap;\n",
       "      gap: 12px;\n",
       "    }\n",
       "\n",
       "    .colab-df-convert {\n",
       "      background-color: #E8F0FE;\n",
       "      border: none;\n",
       "      border-radius: 50%;\n",
       "      cursor: pointer;\n",
       "      display: none;\n",
       "      fill: #1967D2;\n",
       "      height: 32px;\n",
       "      padding: 0 0 0 0;\n",
       "      width: 32px;\n",
       "    }\n",
       "\n",
       "    .colab-df-convert:hover {\n",
       "      background-color: #E2EBFA;\n",
       "      box-shadow: 0px 1px 2px rgba(60, 64, 67, 0.3), 0px 1px 3px 1px rgba(60, 64, 67, 0.15);\n",
       "      fill: #174EA6;\n",
       "    }\n",
       "\n",
       "    [theme=dark] .colab-df-convert {\n",
       "      background-color: #3B4455;\n",
       "      fill: #D2E3FC;\n",
       "    }\n",
       "\n",
       "    [theme=dark] .colab-df-convert:hover {\n",
       "      background-color: #434B5C;\n",
       "      box-shadow: 0px 1px 3px 1px rgba(0, 0, 0, 0.15);\n",
       "      filter: drop-shadow(0px 1px 2px rgba(0, 0, 0, 0.3));\n",
       "      fill: #FFFFFF;\n",
       "    }\n",
       "  </style>\n",
       "\n",
       "      <script>\n",
       "        const buttonEl =\n",
       "          document.querySelector('#df-03b5279a-c015-4733-8640-2b5015badc59 button.colab-df-convert');\n",
       "        buttonEl.style.display =\n",
       "          google.colab.kernel.accessAllowed ? 'block' : 'none';\n",
       "\n",
       "        async function convertToInteractive(key) {\n",
       "          const element = document.querySelector('#df-03b5279a-c015-4733-8640-2b5015badc59');\n",
       "          const dataTable =\n",
       "            await google.colab.kernel.invokeFunction('convertToInteractive',\n",
       "                                                     [key], {});\n",
       "          if (!dataTable) return;\n",
       "\n",
       "          const docLinkHtml = 'Like what you see? Visit the ' +\n",
       "            '<a target=\"_blank\" href=https://colab.research.google.com/notebooks/data_table.ipynb>data table notebook</a>'\n",
       "            + ' to learn more about interactive tables.';\n",
       "          element.innerHTML = '';\n",
       "          dataTable['output_type'] = 'display_data';\n",
       "          await google.colab.output.renderOutput(dataTable, element);\n",
       "          const docLink = document.createElement('div');\n",
       "          docLink.innerHTML = docLinkHtml;\n",
       "          element.appendChild(docLink);\n",
       "        }\n",
       "      </script>\n",
       "    </div>\n",
       "  </div>\n",
       "  "
      ],
      "text/plain": [
       "          Date      Open      High       Low     Close  Adj Close     Volume\n",
       "0   2017-07-24  7.392307  7.473076  7.261538  7.426923   7.051007  2638220.0\n",
       "1   2017-07-25  7.476923  7.476923  7.307692  7.369230   6.996235  2505880.0\n",
       "2   2017-07-26  7.323076  7.442307  7.276923  7.326923   6.956069  2112240.0\n",
       "3   2017-07-27  7.388461  7.419230  7.223076  7.269230   6.901296  1910480.0\n",
       "4   2017-07-28  7.261538  7.296153  7.165384  7.200000   6.835570  2866760.0\n",
       "..         ...       ...       ...       ...       ...        ...        ...\n",
       "95  2017-12-04  8.730769  9.030769  8.707692  8.903846   8.476193  4742660.0\n",
       "96  2017-12-05  8.923076  9.257692  8.823076  9.153846   8.714188  6041620.0\n",
       "97  2017-12-06  9.134615  9.334615  9.050000  9.173076   8.732491  5036460.0\n",
       "98  2017-12-07  9.050000  9.134615  8.803846  8.869230   8.443243  4186000.0\n",
       "99  2017-12-08  8.976923  9.076923  8.857692  8.903846   8.476193  3577600.0\n",
       "\n",
       "[100 rows x 7 columns]"
      ]
     },
     "execution_count": 80,
     "metadata": {},
     "output_type": "execute_result"
    }
   ],
   "source": [
    "dados.head(100)"
   ]
  },
  {
   "cell_type": "code",
   "execution_count": 113,
   "metadata": {
    "executionInfo": {
     "elapsed": 390,
     "status": "ok",
     "timestamp": 1646605031085,
     "user": {
      "displayName": "anamim schuwarte",
      "photoUrl": "https://lh3.googleusercontent.com/a-/AOh14Ghzq9qZcfFYsN0agT4X613HRQ9BcAFbRph9vAui=s64",
      "userId": "09703653288263197532"
     },
     "user_tz": 180
    },
    "id": "EXdjrBF5KLz2"
   },
   "outputs": [],
   "source": [
    "dados.index = dados.Date"
   ]
  },
  {
   "cell_type": "code",
   "execution_count": 114,
   "metadata": {
    "colab": {
     "base_uri": "https://localhost:8080/",
     "height": 237
    },
    "executionInfo": {
     "elapsed": 369,
     "status": "ok",
     "timestamp": 1646605037603,
     "user": {
      "displayName": "anamim schuwarte",
      "photoUrl": "https://lh3.googleusercontent.com/a-/AOh14Ghzq9qZcfFYsN0agT4X613HRQ9BcAFbRph9vAui=s64",
      "userId": "09703653288263197532"
     },
     "user_tz": 180
    },
    "id": "6kZy5M-oMgSg",
    "outputId": "8e133e25-7164-4160-cab1-4af4abdd1d17"
   },
   "outputs": [
    {
     "data": {
      "text/html": [
       "\n",
       "  <div id=\"df-013756d3-0339-4709-afbb-566fce38c588\">\n",
       "    <div class=\"colab-df-container\">\n",
       "      <div>\n",
       "<style scoped>\n",
       "    .dataframe tbody tr th:only-of-type {\n",
       "        vertical-align: middle;\n",
       "    }\n",
       "\n",
       "    .dataframe tbody tr th {\n",
       "        vertical-align: top;\n",
       "    }\n",
       "\n",
       "    .dataframe thead th {\n",
       "        text-align: right;\n",
       "    }\n",
       "</style>\n",
       "<table border=\"1\" class=\"dataframe\">\n",
       "  <thead>\n",
       "    <tr style=\"text-align: right;\">\n",
       "      <th></th>\n",
       "      <th>Date</th>\n",
       "      <th>Open</th>\n",
       "      <th>High</th>\n",
       "      <th>Low</th>\n",
       "      <th>Close</th>\n",
       "      <th>Adj Close</th>\n",
       "      <th>Volume</th>\n",
       "    </tr>\n",
       "    <tr>\n",
       "      <th>Date</th>\n",
       "      <th></th>\n",
       "      <th></th>\n",
       "      <th></th>\n",
       "      <th></th>\n",
       "      <th></th>\n",
       "      <th></th>\n",
       "      <th></th>\n",
       "    </tr>\n",
       "  </thead>\n",
       "  <tbody>\n",
       "    <tr>\n",
       "      <th>2017-07-24</th>\n",
       "      <td>2017-07-24</td>\n",
       "      <td>7.392307</td>\n",
       "      <td>7.473076</td>\n",
       "      <td>7.261538</td>\n",
       "      <td>7.426923</td>\n",
       "      <td>7.051007</td>\n",
       "      <td>2638220.0</td>\n",
       "    </tr>\n",
       "    <tr>\n",
       "      <th>2017-07-25</th>\n",
       "      <td>2017-07-25</td>\n",
       "      <td>7.476923</td>\n",
       "      <td>7.476923</td>\n",
       "      <td>7.307692</td>\n",
       "      <td>7.369230</td>\n",
       "      <td>6.996235</td>\n",
       "      <td>2505880.0</td>\n",
       "    </tr>\n",
       "    <tr>\n",
       "      <th>2017-07-26</th>\n",
       "      <td>2017-07-26</td>\n",
       "      <td>7.323076</td>\n",
       "      <td>7.442307</td>\n",
       "      <td>7.276923</td>\n",
       "      <td>7.326923</td>\n",
       "      <td>6.956069</td>\n",
       "      <td>2112240.0</td>\n",
       "    </tr>\n",
       "    <tr>\n",
       "      <th>2017-07-27</th>\n",
       "      <td>2017-07-27</td>\n",
       "      <td>7.388461</td>\n",
       "      <td>7.419230</td>\n",
       "      <td>7.223076</td>\n",
       "      <td>7.269230</td>\n",
       "      <td>6.901296</td>\n",
       "      <td>1910480.0</td>\n",
       "    </tr>\n",
       "    <tr>\n",
       "      <th>2017-07-28</th>\n",
       "      <td>2017-07-28</td>\n",
       "      <td>7.261538</td>\n",
       "      <td>7.296153</td>\n",
       "      <td>7.165384</td>\n",
       "      <td>7.200000</td>\n",
       "      <td>6.835570</td>\n",
       "      <td>2866760.0</td>\n",
       "    </tr>\n",
       "  </tbody>\n",
       "</table>\n",
       "</div>\n",
       "      <button class=\"colab-df-convert\" onclick=\"convertToInteractive('df-013756d3-0339-4709-afbb-566fce38c588')\"\n",
       "              title=\"Convert this dataframe to an interactive table.\"\n",
       "              style=\"display:none;\">\n",
       "        \n",
       "  <svg xmlns=\"http://www.w3.org/2000/svg\" height=\"24px\"viewBox=\"0 0 24 24\"\n",
       "       width=\"24px\">\n",
       "    <path d=\"M0 0h24v24H0V0z\" fill=\"none\"/>\n",
       "    <path d=\"M18.56 5.44l.94 2.06.94-2.06 2.06-.94-2.06-.94-.94-2.06-.94 2.06-2.06.94zm-11 1L8.5 8.5l.94-2.06 2.06-.94-2.06-.94L8.5 2.5l-.94 2.06-2.06.94zm10 10l.94 2.06.94-2.06 2.06-.94-2.06-.94-.94-2.06-.94 2.06-2.06.94z\"/><path d=\"M17.41 7.96l-1.37-1.37c-.4-.4-.92-.59-1.43-.59-.52 0-1.04.2-1.43.59L10.3 9.45l-7.72 7.72c-.78.78-.78 2.05 0 2.83L4 21.41c.39.39.9.59 1.41.59.51 0 1.02-.2 1.41-.59l7.78-7.78 2.81-2.81c.8-.78.8-2.07 0-2.86zM5.41 20L4 18.59l7.72-7.72 1.47 1.35L5.41 20z\"/>\n",
       "  </svg>\n",
       "      </button>\n",
       "      \n",
       "  <style>\n",
       "    .colab-df-container {\n",
       "      display:flex;\n",
       "      flex-wrap:wrap;\n",
       "      gap: 12px;\n",
       "    }\n",
       "\n",
       "    .colab-df-convert {\n",
       "      background-color: #E8F0FE;\n",
       "      border: none;\n",
       "      border-radius: 50%;\n",
       "      cursor: pointer;\n",
       "      display: none;\n",
       "      fill: #1967D2;\n",
       "      height: 32px;\n",
       "      padding: 0 0 0 0;\n",
       "      width: 32px;\n",
       "    }\n",
       "\n",
       "    .colab-df-convert:hover {\n",
       "      background-color: #E2EBFA;\n",
       "      box-shadow: 0px 1px 2px rgba(60, 64, 67, 0.3), 0px 1px 3px 1px rgba(60, 64, 67, 0.15);\n",
       "      fill: #174EA6;\n",
       "    }\n",
       "\n",
       "    [theme=dark] .colab-df-convert {\n",
       "      background-color: #3B4455;\n",
       "      fill: #D2E3FC;\n",
       "    }\n",
       "\n",
       "    [theme=dark] .colab-df-convert:hover {\n",
       "      background-color: #434B5C;\n",
       "      box-shadow: 0px 1px 3px 1px rgba(0, 0, 0, 0.15);\n",
       "      filter: drop-shadow(0px 1px 2px rgba(0, 0, 0, 0.3));\n",
       "      fill: #FFFFFF;\n",
       "    }\n",
       "  </style>\n",
       "\n",
       "      <script>\n",
       "        const buttonEl =\n",
       "          document.querySelector('#df-013756d3-0339-4709-afbb-566fce38c588 button.colab-df-convert');\n",
       "        buttonEl.style.display =\n",
       "          google.colab.kernel.accessAllowed ? 'block' : 'none';\n",
       "\n",
       "        async function convertToInteractive(key) {\n",
       "          const element = document.querySelector('#df-013756d3-0339-4709-afbb-566fce38c588');\n",
       "          const dataTable =\n",
       "            await google.colab.kernel.invokeFunction('convertToInteractive',\n",
       "                                                     [key], {});\n",
       "          if (!dataTable) return;\n",
       "\n",
       "          const docLinkHtml = 'Like what you see? Visit the ' +\n",
       "            '<a target=\"_blank\" href=https://colab.research.google.com/notebooks/data_table.ipynb>data table notebook</a>'\n",
       "            + ' to learn more about interactive tables.';\n",
       "          element.innerHTML = '';\n",
       "          dataTable['output_type'] = 'display_data';\n",
       "          await google.colab.output.renderOutput(dataTable, element);\n",
       "          const docLink = document.createElement('div');\n",
       "          docLink.innerHTML = docLinkHtml;\n",
       "          element.appendChild(docLink);\n",
       "        }\n",
       "      </script>\n",
       "    </div>\n",
       "  </div>\n",
       "  "
      ],
      "text/plain": [
       "                  Date      Open      High       Low     Close  Adj Close  \\\n",
       "Date                                                                        \n",
       "2017-07-24  2017-07-24  7.392307  7.473076  7.261538  7.426923   7.051007   \n",
       "2017-07-25  2017-07-25  7.476923  7.476923  7.307692  7.369230   6.996235   \n",
       "2017-07-26  2017-07-26  7.323076  7.442307  7.276923  7.326923   6.956069   \n",
       "2017-07-27  2017-07-27  7.388461  7.419230  7.223076  7.269230   6.901296   \n",
       "2017-07-28  2017-07-28  7.261538  7.296153  7.165384  7.200000   6.835570   \n",
       "\n",
       "               Volume  \n",
       "Date                   \n",
       "2017-07-24  2638220.0  \n",
       "2017-07-25  2505880.0  \n",
       "2017-07-26  2112240.0  \n",
       "2017-07-27  1910480.0  \n",
       "2017-07-28  2866760.0  "
      ]
     },
     "execution_count": 114,
     "metadata": {},
     "output_type": "execute_result"
    }
   ],
   "source": [
    "dados.head()"
   ]
  },
  {
   "cell_type": "code",
   "execution_count": 83,
   "metadata": {
    "colab": {
     "base_uri": "https://localhost:8080/",
     "height": 524
    },
    "executionInfo": {
     "elapsed": 90,
     "status": "error",
     "timestamp": 1646604215846,
     "user": {
      "displayName": "anamim schuwarte",
      "photoUrl": "https://lh3.googleusercontent.com/a-/AOh14Ghzq9qZcfFYsN0agT4X613HRQ9BcAFbRph9vAui=s64",
      "userId": "09703653288263197532"
     },
     "user_tz": 180
    },
    "id": "5lyluSznMs_s",
    "outputId": "0ce5acf0-5b63-4f06-d46e-fea3266dcf97"
   },
   "outputs": [
    {
     "ename": "KeyError",
     "evalue": "ignored",
     "output_type": "error",
     "traceback": [
      "\u001b[0;31m---------------------------------------------------------------------------\u001b[0m",
      "\u001b[0;31mKeyError\u001b[0m                                  Traceback (most recent call last)",
      "\u001b[0;32m/usr/local/lib/python3.7/dist-packages/pandas/core/indexes/base.py\u001b[0m in \u001b[0;36mget_loc\u001b[0;34m(self, key, method, tolerance)\u001b[0m\n\u001b[1;32m   3360\u001b[0m             \u001b[0;32mtry\u001b[0m\u001b[0;34m:\u001b[0m\u001b[0;34m\u001b[0m\u001b[0;34m\u001b[0m\u001b[0m\n\u001b[0;32m-> 3361\u001b[0;31m                 \u001b[0;32mreturn\u001b[0m \u001b[0mself\u001b[0m\u001b[0;34m.\u001b[0m\u001b[0m_engine\u001b[0m\u001b[0;34m.\u001b[0m\u001b[0mget_loc\u001b[0m\u001b[0;34m(\u001b[0m\u001b[0mcasted_key\u001b[0m\u001b[0;34m)\u001b[0m\u001b[0;34m\u001b[0m\u001b[0;34m\u001b[0m\u001b[0m\n\u001b[0m\u001b[1;32m   3362\u001b[0m             \u001b[0;32mexcept\u001b[0m \u001b[0mKeyError\u001b[0m \u001b[0;32mas\u001b[0m \u001b[0merr\u001b[0m\u001b[0;34m:\u001b[0m\u001b[0;34m\u001b[0m\u001b[0;34m\u001b[0m\u001b[0m\n",
      "\u001b[0;32m/usr/local/lib/python3.7/dist-packages/pandas/_libs/index.pyx\u001b[0m in \u001b[0;36mpandas._libs.index.IndexEngine.get_loc\u001b[0;34m()\u001b[0m\n",
      "\u001b[0;32m/usr/local/lib/python3.7/dist-packages/pandas/_libs/index.pyx\u001b[0m in \u001b[0;36mpandas._libs.index.IndexEngine.get_loc\u001b[0;34m()\u001b[0m\n",
      "\u001b[0;32mpandas/_libs/hashtable_class_helper.pxi\u001b[0m in \u001b[0;36mpandas._libs.hashtable.PyObjectHashTable.get_item\u001b[0;34m()\u001b[0m\n",
      "\u001b[0;32mpandas/_libs/hashtable_class_helper.pxi\u001b[0m in \u001b[0;36mpandas._libs.hashtable.PyObjectHashTable.get_item\u001b[0;34m()\u001b[0m\n",
      "\u001b[0;31mKeyError\u001b[0m: 0",
      "\nThe above exception was the direct cause of the following exception:\n",
      "\u001b[0;31mKeyError\u001b[0m                                  Traceback (most recent call last)",
      "\u001b[0;32m<ipython-input-83-6d023ccce956>\u001b[0m in \u001b[0;36m<module>\u001b[0;34m()\u001b[0m\n\u001b[0;32m----> 1\u001b[0;31m \u001b[0mdados\u001b[0m\u001b[0;34m.\u001b[0m\u001b[0mloc\u001b[0m\u001b[0;34m[\u001b[0m\u001b[0;36m0\u001b[0m\u001b[0;34m]\u001b[0m\u001b[0;34m\u001b[0m\u001b[0;34m\u001b[0m\u001b[0m\n\u001b[0m",
      "\u001b[0;32m/usr/local/lib/python3.7/dist-packages/pandas/core/indexing.py\u001b[0m in \u001b[0;36m__getitem__\u001b[0;34m(self, key)\u001b[0m\n\u001b[1;32m    929\u001b[0m \u001b[0;34m\u001b[0m\u001b[0m\n\u001b[1;32m    930\u001b[0m             \u001b[0mmaybe_callable\u001b[0m \u001b[0;34m=\u001b[0m \u001b[0mcom\u001b[0m\u001b[0;34m.\u001b[0m\u001b[0mapply_if_callable\u001b[0m\u001b[0;34m(\u001b[0m\u001b[0mkey\u001b[0m\u001b[0;34m,\u001b[0m \u001b[0mself\u001b[0m\u001b[0;34m.\u001b[0m\u001b[0mobj\u001b[0m\u001b[0;34m)\u001b[0m\u001b[0;34m\u001b[0m\u001b[0;34m\u001b[0m\u001b[0m\n\u001b[0;32m--> 931\u001b[0;31m             \u001b[0;32mreturn\u001b[0m \u001b[0mself\u001b[0m\u001b[0;34m.\u001b[0m\u001b[0m_getitem_axis\u001b[0m\u001b[0;34m(\u001b[0m\u001b[0mmaybe_callable\u001b[0m\u001b[0;34m,\u001b[0m \u001b[0maxis\u001b[0m\u001b[0;34m=\u001b[0m\u001b[0maxis\u001b[0m\u001b[0;34m)\u001b[0m\u001b[0;34m\u001b[0m\u001b[0;34m\u001b[0m\u001b[0m\n\u001b[0m\u001b[1;32m    932\u001b[0m \u001b[0;34m\u001b[0m\u001b[0m\n\u001b[1;32m    933\u001b[0m     \u001b[0;32mdef\u001b[0m \u001b[0m_is_scalar_access\u001b[0m\u001b[0;34m(\u001b[0m\u001b[0mself\u001b[0m\u001b[0;34m,\u001b[0m \u001b[0mkey\u001b[0m\u001b[0;34m:\u001b[0m \u001b[0mtuple\u001b[0m\u001b[0;34m)\u001b[0m\u001b[0;34m:\u001b[0m\u001b[0;34m\u001b[0m\u001b[0;34m\u001b[0m\u001b[0m\n",
      "\u001b[0;32m/usr/local/lib/python3.7/dist-packages/pandas/core/indexing.py\u001b[0m in \u001b[0;36m_getitem_axis\u001b[0;34m(self, key, axis)\u001b[0m\n\u001b[1;32m   1162\u001b[0m         \u001b[0;31m# fall thru to straight lookup\u001b[0m\u001b[0;34m\u001b[0m\u001b[0;34m\u001b[0m\u001b[0;34m\u001b[0m\u001b[0m\n\u001b[1;32m   1163\u001b[0m         \u001b[0mself\u001b[0m\u001b[0;34m.\u001b[0m\u001b[0m_validate_key\u001b[0m\u001b[0;34m(\u001b[0m\u001b[0mkey\u001b[0m\u001b[0;34m,\u001b[0m \u001b[0maxis\u001b[0m\u001b[0;34m)\u001b[0m\u001b[0;34m\u001b[0m\u001b[0;34m\u001b[0m\u001b[0m\n\u001b[0;32m-> 1164\u001b[0;31m         \u001b[0;32mreturn\u001b[0m \u001b[0mself\u001b[0m\u001b[0;34m.\u001b[0m\u001b[0m_get_label\u001b[0m\u001b[0;34m(\u001b[0m\u001b[0mkey\u001b[0m\u001b[0;34m,\u001b[0m \u001b[0maxis\u001b[0m\u001b[0;34m=\u001b[0m\u001b[0maxis\u001b[0m\u001b[0;34m)\u001b[0m\u001b[0;34m\u001b[0m\u001b[0;34m\u001b[0m\u001b[0m\n\u001b[0m\u001b[1;32m   1165\u001b[0m \u001b[0;34m\u001b[0m\u001b[0m\n\u001b[1;32m   1166\u001b[0m     \u001b[0;32mdef\u001b[0m \u001b[0m_get_slice_axis\u001b[0m\u001b[0;34m(\u001b[0m\u001b[0mself\u001b[0m\u001b[0;34m,\u001b[0m \u001b[0mslice_obj\u001b[0m\u001b[0;34m:\u001b[0m \u001b[0mslice\u001b[0m\u001b[0;34m,\u001b[0m \u001b[0maxis\u001b[0m\u001b[0;34m:\u001b[0m \u001b[0mint\u001b[0m\u001b[0;34m)\u001b[0m\u001b[0;34m:\u001b[0m\u001b[0;34m\u001b[0m\u001b[0;34m\u001b[0m\u001b[0m\n",
      "\u001b[0;32m/usr/local/lib/python3.7/dist-packages/pandas/core/indexing.py\u001b[0m in \u001b[0;36m_get_label\u001b[0;34m(self, label, axis)\u001b[0m\n\u001b[1;32m   1111\u001b[0m     \u001b[0;32mdef\u001b[0m \u001b[0m_get_label\u001b[0m\u001b[0;34m(\u001b[0m\u001b[0mself\u001b[0m\u001b[0;34m,\u001b[0m \u001b[0mlabel\u001b[0m\u001b[0;34m,\u001b[0m \u001b[0maxis\u001b[0m\u001b[0;34m:\u001b[0m \u001b[0mint\u001b[0m\u001b[0;34m)\u001b[0m\u001b[0;34m:\u001b[0m\u001b[0;34m\u001b[0m\u001b[0;34m\u001b[0m\u001b[0m\n\u001b[1;32m   1112\u001b[0m         \u001b[0;31m# GH#5667 this will fail if the label is not present in the axis.\u001b[0m\u001b[0;34m\u001b[0m\u001b[0;34m\u001b[0m\u001b[0;34m\u001b[0m\u001b[0m\n\u001b[0;32m-> 1113\u001b[0;31m         \u001b[0;32mreturn\u001b[0m \u001b[0mself\u001b[0m\u001b[0;34m.\u001b[0m\u001b[0mobj\u001b[0m\u001b[0;34m.\u001b[0m\u001b[0mxs\u001b[0m\u001b[0;34m(\u001b[0m\u001b[0mlabel\u001b[0m\u001b[0;34m,\u001b[0m \u001b[0maxis\u001b[0m\u001b[0;34m=\u001b[0m\u001b[0maxis\u001b[0m\u001b[0;34m)\u001b[0m\u001b[0;34m\u001b[0m\u001b[0;34m\u001b[0m\u001b[0m\n\u001b[0m\u001b[1;32m   1114\u001b[0m \u001b[0;34m\u001b[0m\u001b[0m\n\u001b[1;32m   1115\u001b[0m     \u001b[0;32mdef\u001b[0m \u001b[0m_handle_lowerdim_multi_index_axis0\u001b[0m\u001b[0;34m(\u001b[0m\u001b[0mself\u001b[0m\u001b[0;34m,\u001b[0m \u001b[0mtup\u001b[0m\u001b[0;34m:\u001b[0m \u001b[0mtuple\u001b[0m\u001b[0;34m)\u001b[0m\u001b[0;34m:\u001b[0m\u001b[0;34m\u001b[0m\u001b[0;34m\u001b[0m\u001b[0m\n",
      "\u001b[0;32m/usr/local/lib/python3.7/dist-packages/pandas/core/generic.py\u001b[0m in \u001b[0;36mxs\u001b[0;34m(self, key, axis, level, drop_level)\u001b[0m\n\u001b[1;32m   3774\u001b[0m                 \u001b[0;32mraise\u001b[0m \u001b[0mTypeError\u001b[0m\u001b[0;34m(\u001b[0m\u001b[0;34mf\"Expected label or tuple of labels, got {key}\"\u001b[0m\u001b[0;34m)\u001b[0m \u001b[0;32mfrom\u001b[0m \u001b[0me\u001b[0m\u001b[0;34m\u001b[0m\u001b[0;34m\u001b[0m\u001b[0m\n\u001b[1;32m   3775\u001b[0m         \u001b[0;32melse\u001b[0m\u001b[0;34m:\u001b[0m\u001b[0;34m\u001b[0m\u001b[0;34m\u001b[0m\u001b[0m\n\u001b[0;32m-> 3776\u001b[0;31m             \u001b[0mloc\u001b[0m \u001b[0;34m=\u001b[0m \u001b[0mindex\u001b[0m\u001b[0;34m.\u001b[0m\u001b[0mget_loc\u001b[0m\u001b[0;34m(\u001b[0m\u001b[0mkey\u001b[0m\u001b[0;34m)\u001b[0m\u001b[0;34m\u001b[0m\u001b[0;34m\u001b[0m\u001b[0m\n\u001b[0m\u001b[1;32m   3777\u001b[0m \u001b[0;34m\u001b[0m\u001b[0m\n\u001b[1;32m   3778\u001b[0m             \u001b[0;32mif\u001b[0m \u001b[0misinstance\u001b[0m\u001b[0;34m(\u001b[0m\u001b[0mloc\u001b[0m\u001b[0;34m,\u001b[0m \u001b[0mnp\u001b[0m\u001b[0;34m.\u001b[0m\u001b[0mndarray\u001b[0m\u001b[0;34m)\u001b[0m\u001b[0;34m:\u001b[0m\u001b[0;34m\u001b[0m\u001b[0;34m\u001b[0m\u001b[0m\n",
      "\u001b[0;32m/usr/local/lib/python3.7/dist-packages/pandas/core/indexes/base.py\u001b[0m in \u001b[0;36mget_loc\u001b[0;34m(self, key, method, tolerance)\u001b[0m\n\u001b[1;32m   3361\u001b[0m                 \u001b[0;32mreturn\u001b[0m \u001b[0mself\u001b[0m\u001b[0;34m.\u001b[0m\u001b[0m_engine\u001b[0m\u001b[0;34m.\u001b[0m\u001b[0mget_loc\u001b[0m\u001b[0;34m(\u001b[0m\u001b[0mcasted_key\u001b[0m\u001b[0;34m)\u001b[0m\u001b[0;34m\u001b[0m\u001b[0;34m\u001b[0m\u001b[0m\n\u001b[1;32m   3362\u001b[0m             \u001b[0;32mexcept\u001b[0m \u001b[0mKeyError\u001b[0m \u001b[0;32mas\u001b[0m \u001b[0merr\u001b[0m\u001b[0;34m:\u001b[0m\u001b[0;34m\u001b[0m\u001b[0;34m\u001b[0m\u001b[0m\n\u001b[0;32m-> 3363\u001b[0;31m                 \u001b[0;32mraise\u001b[0m \u001b[0mKeyError\u001b[0m\u001b[0;34m(\u001b[0m\u001b[0mkey\u001b[0m\u001b[0;34m)\u001b[0m \u001b[0;32mfrom\u001b[0m \u001b[0merr\u001b[0m\u001b[0;34m\u001b[0m\u001b[0;34m\u001b[0m\u001b[0m\n\u001b[0m\u001b[1;32m   3364\u001b[0m \u001b[0;34m\u001b[0m\u001b[0m\n\u001b[1;32m   3365\u001b[0m         \u001b[0;32mif\u001b[0m \u001b[0mis_scalar\u001b[0m\u001b[0;34m(\u001b[0m\u001b[0mkey\u001b[0m\u001b[0;34m)\u001b[0m \u001b[0;32mand\u001b[0m \u001b[0misna\u001b[0m\u001b[0;34m(\u001b[0m\u001b[0mkey\u001b[0m\u001b[0;34m)\u001b[0m \u001b[0;32mand\u001b[0m \u001b[0;32mnot\u001b[0m \u001b[0mself\u001b[0m\u001b[0;34m.\u001b[0m\u001b[0mhasnans\u001b[0m\u001b[0;34m:\u001b[0m\u001b[0;34m\u001b[0m\u001b[0;34m\u001b[0m\u001b[0m\n",
      "\u001b[0;31mKeyError\u001b[0m: 0"
     ]
    }
   ],
   "source": [
    "dados.loc[0]"
   ]
  },
  {
   "cell_type": "markdown",
   "metadata": {
    "id": "LEK8wWAIMv9E"
   },
   "source": [
    "#### loc procura pelo label. "
   ]
  },
  {
   "cell_type": "code",
   "execution_count": null,
   "metadata": {
    "executionInfo": {
     "elapsed": 39,
     "status": "aborted",
     "timestamp": 1646604215797,
     "user": {
      "displayName": "anamim schuwarte",
      "photoUrl": "https://lh3.googleusercontent.com/a-/AOh14Ghzq9qZcfFYsN0agT4X613HRQ9BcAFbRph9vAui=s64",
      "userId": "09703653288263197532"
     },
     "user_tz": 180
    },
    "id": "Iat7XTzwNDzw"
   },
   "outputs": [],
   "source": [
    "dados.loc['2021-03-02']"
   ]
  },
  {
   "cell_type": "code",
   "execution_count": null,
   "metadata": {
    "executionInfo": {
     "elapsed": 40,
     "status": "aborted",
     "timestamp": 1646604215798,
     "user": {
      "displayName": "anamim schuwarte",
      "photoUrl": "https://lh3.googleusercontent.com/a-/AOh14Ghzq9qZcfFYsN0agT4X613HRQ9BcAFbRph9vAui=s64",
      "userId": "09703653288263197532"
     },
     "user_tz": 180
    },
    "id": "ULzzqTCTNJPM"
   },
   "outputs": [],
   "source": [
    "dados.iloc[0] # iloc procura por linha, coluna independente do rótulo"
   ]
  },
  {
   "cell_type": "code",
   "execution_count": null,
   "metadata": {
    "executionInfo": {
     "elapsed": 41,
     "status": "aborted",
     "timestamp": 1646604215799,
     "user": {
      "displayName": "anamim schuwarte",
      "photoUrl": "https://lh3.googleusercontent.com/a-/AOh14Ghzq9qZcfFYsN0agT4X613HRQ9BcAFbRph9vAui=s64",
      "userId": "09703653288263197532"
     },
     "user_tz": 180
    },
    "id": "ImSllMJDNV_e"
   },
   "outputs": [],
   "source": [
    "dados.rename(columns = {'Adj Close' : 'WEGE3', 'Date' : 'Data'}, inplace=True)"
   ]
  },
  {
   "cell_type": "code",
   "execution_count": null,
   "metadata": {
    "executionInfo": {
     "elapsed": 42,
     "status": "aborted",
     "timestamp": 1646604215800,
     "user": {
      "displayName": "anamim schuwarte",
      "photoUrl": "https://lh3.googleusercontent.com/a-/AOh14Ghzq9qZcfFYsN0agT4X613HRQ9BcAFbRph9vAui=s64",
      "userId": "09703653288263197532"
     },
     "user_tz": 180
    },
    "id": "P1PHAiJGQlkt"
   },
   "outputs": [],
   "source": [
    "dados.head()"
   ]
  },
  {
   "cell_type": "code",
   "execution_count": null,
   "metadata": {
    "executionInfo": {
     "elapsed": 42,
     "status": "aborted",
     "timestamp": 1646604215801,
     "user": {
      "displayName": "anamim schuwarte",
      "photoUrl": "https://lh3.googleusercontent.com/a-/AOh14Ghzq9qZcfFYsN0agT4X613HRQ9BcAFbRph9vAui=s64",
      "userId": "09703653288263197532"
     },
     "user_tz": 180
    },
    "id": "cEx3IBF_QnqN"
   },
   "outputs": [],
   "source": [
    "dados.drop(['Data', 'Volume'], axis=1, inplace=True) # axis 0 é linha, axis 1 é coluna"
   ]
  },
  {
   "cell_type": "code",
   "execution_count": null,
   "metadata": {
    "executionInfo": {
     "elapsed": 43,
     "status": "aborted",
     "timestamp": 1646604215802,
     "user": {
      "displayName": "anamim schuwarte",
      "photoUrl": "https://lh3.googleusercontent.com/a-/AOh14Ghzq9qZcfFYsN0agT4X613HRQ9BcAFbRph9vAui=s64",
      "userId": "09703653288263197532"
     },
     "user_tz": 180
    },
    "id": "MBV6jmkXRVWA"
   },
   "outputs": [],
   "source": [
    "dados.head()"
   ]
  },
  {
   "cell_type": "code",
   "execution_count": null,
   "metadata": {
    "executionInfo": {
     "elapsed": 45,
     "status": "aborted",
     "timestamp": 1646604215804,
     "user": {
      "displayName": "anamim schuwarte",
      "photoUrl": "https://lh3.googleusercontent.com/a-/AOh14Ghzq9qZcfFYsN0agT4X613HRQ9BcAFbRph9vAui=s64",
      "userId": "09703653288263197532"
     },
     "user_tz": 180
    },
    "id": "VTUp_kkCRX_z"
   },
   "outputs": [],
   "source": [
    "dados.plot();"
   ]
  },
  {
   "cell_type": "code",
   "execution_count": null,
   "metadata": {
    "executionInfo": {
     "elapsed": 46,
     "status": "aborted",
     "timestamp": 1646604215805,
     "user": {
      "displayName": "anamim schuwarte",
      "photoUrl": "https://lh3.googleusercontent.com/a-/AOh14Ghzq9qZcfFYsN0agT4X613HRQ9BcAFbRph9vAui=s64",
      "userId": "09703653288263197532"
     },
     "user_tz": 180
    },
    "id": "-JBEYekfRjvQ"
   },
   "outputs": [],
   "source": [
    "dados.shape"
   ]
  },
  {
   "cell_type": "code",
   "execution_count": null,
   "metadata": {
    "executionInfo": {
     "elapsed": 47,
     "status": "aborted",
     "timestamp": 1646604215806,
     "user": {
      "displayName": "anamim schuwarte",
      "photoUrl": "https://lh3.googleusercontent.com/a-/AOh14Ghzq9qZcfFYsN0agT4X613HRQ9BcAFbRph9vAui=s64",
      "userId": "09703653288263197532"
     },
     "user_tz": 180
    },
    "id": "GpT9hq5wR8Wm"
   },
   "outputs": [],
   "source": [
    "dados.iloc[200:250].plot();"
   ]
  },
  {
   "cell_type": "code",
   "execution_count": null,
   "metadata": {
    "executionInfo": {
     "elapsed": 48,
     "status": "aborted",
     "timestamp": 1646604215807,
     "user": {
      "displayName": "anamim schuwarte",
      "photoUrl": "https://lh3.googleusercontent.com/a-/AOh14Ghzq9qZcfFYsN0agT4X613HRQ9BcAFbRph9vAui=s64",
      "userId": "09703653288263197532"
     },
     "user_tz": 180
    },
    "id": "3cuZkfq3SKQh"
   },
   "outputs": [],
   "source": [
    "dados.iloc[200:250].plot(figsize = (10,10));"
   ]
  },
  {
   "cell_type": "code",
   "execution_count": null,
   "metadata": {
    "executionInfo": {
     "elapsed": 49,
     "status": "aborted",
     "timestamp": 1646604215808,
     "user": {
      "displayName": "anamim schuwarte",
      "photoUrl": "https://lh3.googleusercontent.com/a-/AOh14Ghzq9qZcfFYsN0agT4X613HRQ9BcAFbRph9vAui=s64",
      "userId": "09703653288263197532"
     },
     "user_tz": 180
    },
    "id": "z_Cq2_8CSltb"
   },
   "outputs": [],
   "source": [
    "import os"
   ]
  },
  {
   "cell_type": "code",
   "execution_count": null,
   "metadata": {
    "executionInfo": {
     "elapsed": 50,
     "status": "aborted",
     "timestamp": 1646604215810,
     "user": {
      "displayName": "anamim schuwarte",
      "photoUrl": "https://lh3.googleusercontent.com/a-/AOh14Ghzq9qZcfFYsN0agT4X613HRQ9BcAFbRph9vAui=s64",
      "userId": "09703653288263197532"
     },
     "user_tz": 180
    },
    "id": "cLApNgkBNvry"
   },
   "outputs": [],
   "source": [
    "os.getcwd()"
   ]
  },
  {
   "cell_type": "markdown",
   "metadata": {
    "id": "INP1pn2-OCSy"
   },
   "source": [
    "## 4. Trazendo dados externos"
   ]
  },
  {
   "cell_type": "code",
   "execution_count": null,
   "metadata": {
    "executionInfo": {
     "elapsed": 51,
     "status": "aborted",
     "timestamp": 1646604215811,
     "user": {
      "displayName": "anamim schuwarte",
      "photoUrl": "https://lh3.googleusercontent.com/a-/AOh14Ghzq9qZcfFYsN0agT4X613HRQ9BcAFbRph9vAui=s64",
      "userId": "09703653288263197532"
     },
     "user_tz": 180
    },
    "id": "jWs1sUA2T9gK"
   },
   "outputs": [],
   "source": [
    "import yfinance as yf"
   ]
  },
  {
   "cell_type": "code",
   "execution_count": 84,
   "metadata": {
    "colab": {
     "base_uri": "https://localhost:8080/"
    },
    "executionInfo": {
     "elapsed": 5903,
     "status": "ok",
     "timestamp": 1646604244493,
     "user": {
      "displayName": "anamim schuwarte",
      "photoUrl": "https://lh3.googleusercontent.com/a-/AOh14Ghzq9qZcfFYsN0agT4X613HRQ9BcAFbRph9vAui=s64",
      "userId": "09703653288263197532"
     },
     "user_tz": 180
    },
    "id": "FVg0AvCEUFn0",
    "outputId": "f033a17e-1c47-4d81-d453-38ae5920a67c"
   },
   "outputs": [
    {
     "name": "stdout",
     "output_type": "stream",
     "text": [
      "Collecting yfinance\n",
      "  Downloading yfinance-0.1.70-py2.py3-none-any.whl (26 kB)\n",
      "Requirement already satisfied: pandas>=0.24.0 in /usr/local/lib/python3.7/dist-packages (from yfinance) (1.3.5)\n",
      "Collecting requests>=2.26\n",
      "  Downloading requests-2.27.1-py2.py3-none-any.whl (63 kB)\n",
      "\u001b[K     |████████████████████████████████| 63 kB 1.6 MB/s \n",
      "\u001b[?25hCollecting lxml>=4.5.1\n",
      "  Downloading lxml-4.8.0-cp37-cp37m-manylinux_2_17_x86_64.manylinux2014_x86_64.manylinux_2_24_x86_64.whl (6.4 MB)\n",
      "\u001b[K     |████████████████████████████████| 6.4 MB 32.8 MB/s \n",
      "\u001b[?25hRequirement already satisfied: numpy>=1.15 in /usr/local/lib/python3.7/dist-packages (from yfinance) (1.21.5)\n",
      "Requirement already satisfied: multitasking>=0.0.7 in /usr/local/lib/python3.7/dist-packages (from yfinance) (0.0.10)\n",
      "Requirement already satisfied: pytz>=2017.3 in /usr/local/lib/python3.7/dist-packages (from pandas>=0.24.0->yfinance) (2018.9)\n",
      "Requirement already satisfied: python-dateutil>=2.7.3 in /usr/local/lib/python3.7/dist-packages (from pandas>=0.24.0->yfinance) (2.8.2)\n",
      "Requirement already satisfied: six>=1.5 in /usr/local/lib/python3.7/dist-packages (from python-dateutil>=2.7.3->pandas>=0.24.0->yfinance) (1.15.0)\n",
      "Requirement already satisfied: certifi>=2017.4.17 in /usr/local/lib/python3.7/dist-packages (from requests>=2.26->yfinance) (2021.10.8)\n",
      "Requirement already satisfied: charset-normalizer~=2.0.0 in /usr/local/lib/python3.7/dist-packages (from requests>=2.26->yfinance) (2.0.12)\n",
      "Requirement already satisfied: urllib3<1.27,>=1.21.1 in /usr/local/lib/python3.7/dist-packages (from requests>=2.26->yfinance) (1.24.3)\n",
      "Requirement already satisfied: idna<4,>=2.5 in /usr/local/lib/python3.7/dist-packages (from requests>=2.26->yfinance) (2.10)\n",
      "Installing collected packages: requests, lxml, yfinance\n",
      "  Attempting uninstall: requests\n",
      "    Found existing installation: requests 2.23.0\n",
      "    Uninstalling requests-2.23.0:\n",
      "      Successfully uninstalled requests-2.23.0\n",
      "  Attempting uninstall: lxml\n",
      "    Found existing installation: lxml 4.2.6\n",
      "    Uninstalling lxml-4.2.6:\n",
      "      Successfully uninstalled lxml-4.2.6\n",
      "\u001b[31mERROR: pip's dependency resolver does not currently take into account all the packages that are installed. This behaviour is the source of the following dependency conflicts.\n",
      "google-colab 1.0.0 requires requests~=2.23.0, but you have requests 2.27.1 which is incompatible.\n",
      "datascience 0.10.6 requires folium==0.2.1, but you have folium 0.8.3 which is incompatible.\u001b[0m\n",
      "Successfully installed lxml-4.8.0 requests-2.27.1 yfinance-0.1.70\n"
     ]
    }
   ],
   "source": [
    "!pip install yfinance"
   ]
  },
  {
   "cell_type": "code",
   "execution_count": 85,
   "metadata": {
    "executionInfo": {
     "elapsed": 363,
     "status": "ok",
     "timestamp": 1646604253734,
     "user": {
      "displayName": "anamim schuwarte",
      "photoUrl": "https://lh3.googleusercontent.com/a-/AOh14Ghzq9qZcfFYsN0agT4X613HRQ9BcAFbRph9vAui=s64",
      "userId": "09703653288263197532"
     },
     "user_tz": 180
    },
    "id": "SZKMylSnUMK7"
   },
   "outputs": [],
   "source": [
    "import yfinance as yf"
   ]
  },
  {
   "cell_type": "code",
   "execution_count": 86,
   "metadata": {
    "colab": {
     "base_uri": "https://localhost:8080/"
    },
    "executionInfo": {
     "elapsed": 368,
     "status": "ok",
     "timestamp": 1646604256658,
     "user": {
      "displayName": "anamim schuwarte",
      "photoUrl": "https://lh3.googleusercontent.com/a-/AOh14Ghzq9qZcfFYsN0agT4X613HRQ9BcAFbRph9vAui=s64",
      "userId": "09703653288263197532"
     },
     "user_tz": 180
    },
    "id": "h4uZDaaUVNp7",
    "outputId": "803db2b6-87de-47a2-8e05-0819240b05c5"
   },
   "outputs": [
    {
     "name": "stdout",
     "output_type": "stream",
     "text": [
      "[*********************100%***********************]  1 of 1 completed\n"
     ]
    }
   ],
   "source": [
    "lren = yf.download('LREN3.SA', start = '2017-01-01', end = '2021-07-01')"
   ]
  },
  {
   "cell_type": "code",
   "execution_count": 115,
   "metadata": {
    "colab": {
     "base_uri": "https://localhost:8080/",
     "height": 237
    },
    "executionInfo": {
     "elapsed": 369,
     "status": "ok",
     "timestamp": 1646605054358,
     "user": {
      "displayName": "anamim schuwarte",
      "photoUrl": "https://lh3.googleusercontent.com/a-/AOh14Ghzq9qZcfFYsN0agT4X613HRQ9BcAFbRph9vAui=s64",
      "userId": "09703653288263197532"
     },
     "user_tz": 180
    },
    "id": "9ItV3NRkVucH",
    "outputId": "97b3d431-92d1-42d8-9dea-9d4f7373ebd4"
   },
   "outputs": [
    {
     "data": {
      "text/html": [
       "\n",
       "  <div id=\"df-f0cd8ef6-717f-4741-8f81-bf47b15e79b3\">\n",
       "    <div class=\"colab-df-container\">\n",
       "      <div>\n",
       "<style scoped>\n",
       "    .dataframe tbody tr th:only-of-type {\n",
       "        vertical-align: middle;\n",
       "    }\n",
       "\n",
       "    .dataframe tbody tr th {\n",
       "        vertical-align: top;\n",
       "    }\n",
       "\n",
       "    .dataframe thead th {\n",
       "        text-align: right;\n",
       "    }\n",
       "</style>\n",
       "<table border=\"1\" class=\"dataframe\">\n",
       "  <thead>\n",
       "    <tr style=\"text-align: right;\">\n",
       "      <th></th>\n",
       "      <th>Open</th>\n",
       "      <th>High</th>\n",
       "      <th>Low</th>\n",
       "      <th>Close</th>\n",
       "      <th>LREN3</th>\n",
       "      <th>Volume</th>\n",
       "    </tr>\n",
       "    <tr>\n",
       "      <th>Date</th>\n",
       "      <th></th>\n",
       "      <th></th>\n",
       "      <th></th>\n",
       "      <th></th>\n",
       "      <th></th>\n",
       "      <th></th>\n",
       "    </tr>\n",
       "  </thead>\n",
       "  <tbody>\n",
       "    <tr>\n",
       "      <th>2017-01-02</th>\n",
       "      <td>18.775900</td>\n",
       "      <td>19.013674</td>\n",
       "      <td>18.702108</td>\n",
       "      <td>18.972677</td>\n",
       "      <td>17.586414</td>\n",
       "      <td>676417</td>\n",
       "    </tr>\n",
       "    <tr>\n",
       "      <th>2017-01-03</th>\n",
       "      <td>19.103865</td>\n",
       "      <td>19.677799</td>\n",
       "      <td>18.808697</td>\n",
       "      <td>19.554813</td>\n",
       "      <td>18.126009</td>\n",
       "      <td>2976064</td>\n",
       "    </tr>\n",
       "    <tr>\n",
       "      <th>2017-01-04</th>\n",
       "      <td>19.636805</td>\n",
       "      <td>19.833582</td>\n",
       "      <td>19.177654</td>\n",
       "      <td>19.382631</td>\n",
       "      <td>17.966408</td>\n",
       "      <td>2671030</td>\n",
       "    </tr>\n",
       "    <tr>\n",
       "      <th>2017-01-05</th>\n",
       "      <td>19.464622</td>\n",
       "      <td>19.587610</td>\n",
       "      <td>19.161257</td>\n",
       "      <td>19.202253</td>\n",
       "      <td>17.799212</td>\n",
       "      <td>3587596</td>\n",
       "    </tr>\n",
       "    <tr>\n",
       "      <th>2017-01-06</th>\n",
       "      <td>19.202253</td>\n",
       "      <td>19.202253</td>\n",
       "      <td>18.808697</td>\n",
       "      <td>18.980877</td>\n",
       "      <td>17.594009</td>\n",
       "      <td>2139141</td>\n",
       "    </tr>\n",
       "  </tbody>\n",
       "</table>\n",
       "</div>\n",
       "      <button class=\"colab-df-convert\" onclick=\"convertToInteractive('df-f0cd8ef6-717f-4741-8f81-bf47b15e79b3')\"\n",
       "              title=\"Convert this dataframe to an interactive table.\"\n",
       "              style=\"display:none;\">\n",
       "        \n",
       "  <svg xmlns=\"http://www.w3.org/2000/svg\" height=\"24px\"viewBox=\"0 0 24 24\"\n",
       "       width=\"24px\">\n",
       "    <path d=\"M0 0h24v24H0V0z\" fill=\"none\"/>\n",
       "    <path d=\"M18.56 5.44l.94 2.06.94-2.06 2.06-.94-2.06-.94-.94-2.06-.94 2.06-2.06.94zm-11 1L8.5 8.5l.94-2.06 2.06-.94-2.06-.94L8.5 2.5l-.94 2.06-2.06.94zm10 10l.94 2.06.94-2.06 2.06-.94-2.06-.94-.94-2.06-.94 2.06-2.06.94z\"/><path d=\"M17.41 7.96l-1.37-1.37c-.4-.4-.92-.59-1.43-.59-.52 0-1.04.2-1.43.59L10.3 9.45l-7.72 7.72c-.78.78-.78 2.05 0 2.83L4 21.41c.39.39.9.59 1.41.59.51 0 1.02-.2 1.41-.59l7.78-7.78 2.81-2.81c.8-.78.8-2.07 0-2.86zM5.41 20L4 18.59l7.72-7.72 1.47 1.35L5.41 20z\"/>\n",
       "  </svg>\n",
       "      </button>\n",
       "      \n",
       "  <style>\n",
       "    .colab-df-container {\n",
       "      display:flex;\n",
       "      flex-wrap:wrap;\n",
       "      gap: 12px;\n",
       "    }\n",
       "\n",
       "    .colab-df-convert {\n",
       "      background-color: #E8F0FE;\n",
       "      border: none;\n",
       "      border-radius: 50%;\n",
       "      cursor: pointer;\n",
       "      display: none;\n",
       "      fill: #1967D2;\n",
       "      height: 32px;\n",
       "      padding: 0 0 0 0;\n",
       "      width: 32px;\n",
       "    }\n",
       "\n",
       "    .colab-df-convert:hover {\n",
       "      background-color: #E2EBFA;\n",
       "      box-shadow: 0px 1px 2px rgba(60, 64, 67, 0.3), 0px 1px 3px 1px rgba(60, 64, 67, 0.15);\n",
       "      fill: #174EA6;\n",
       "    }\n",
       "\n",
       "    [theme=dark] .colab-df-convert {\n",
       "      background-color: #3B4455;\n",
       "      fill: #D2E3FC;\n",
       "    }\n",
       "\n",
       "    [theme=dark] .colab-df-convert:hover {\n",
       "      background-color: #434B5C;\n",
       "      box-shadow: 0px 1px 3px 1px rgba(0, 0, 0, 0.15);\n",
       "      filter: drop-shadow(0px 1px 2px rgba(0, 0, 0, 0.3));\n",
       "      fill: #FFFFFF;\n",
       "    }\n",
       "  </style>\n",
       "\n",
       "      <script>\n",
       "        const buttonEl =\n",
       "          document.querySelector('#df-f0cd8ef6-717f-4741-8f81-bf47b15e79b3 button.colab-df-convert');\n",
       "        buttonEl.style.display =\n",
       "          google.colab.kernel.accessAllowed ? 'block' : 'none';\n",
       "\n",
       "        async function convertToInteractive(key) {\n",
       "          const element = document.querySelector('#df-f0cd8ef6-717f-4741-8f81-bf47b15e79b3');\n",
       "          const dataTable =\n",
       "            await google.colab.kernel.invokeFunction('convertToInteractive',\n",
       "                                                     [key], {});\n",
       "          if (!dataTable) return;\n",
       "\n",
       "          const docLinkHtml = 'Like what you see? Visit the ' +\n",
       "            '<a target=\"_blank\" href=https://colab.research.google.com/notebooks/data_table.ipynb>data table notebook</a>'\n",
       "            + ' to learn more about interactive tables.';\n",
       "          element.innerHTML = '';\n",
       "          dataTable['output_type'] = 'display_data';\n",
       "          await google.colab.output.renderOutput(dataTable, element);\n",
       "          const docLink = document.createElement('div');\n",
       "          docLink.innerHTML = docLinkHtml;\n",
       "          element.appendChild(docLink);\n",
       "        }\n",
       "      </script>\n",
       "    </div>\n",
       "  </div>\n",
       "  "
      ],
      "text/plain": [
       "                 Open       High        Low      Close      LREN3   Volume\n",
       "Date                                                                      \n",
       "2017-01-02  18.775900  19.013674  18.702108  18.972677  17.586414   676417\n",
       "2017-01-03  19.103865  19.677799  18.808697  19.554813  18.126009  2976064\n",
       "2017-01-04  19.636805  19.833582  19.177654  19.382631  17.966408  2671030\n",
       "2017-01-05  19.464622  19.587610  19.161257  19.202253  17.799212  3587596\n",
       "2017-01-06  19.202253  19.202253  18.808697  18.980877  17.594009  2139141"
      ]
     },
     "execution_count": 115,
     "metadata": {},
     "output_type": "execute_result"
    }
   ],
   "source": [
    "lren.head()"
   ]
  },
  {
   "cell_type": "markdown",
   "metadata": {
    "id": "sIU0wXgoV2N8"
   },
   "source": [
    "### 4.1 Realizando um join "
   ]
  },
  {
   "cell_type": "code",
   "execution_count": 88,
   "metadata": {
    "executionInfo": {
     "elapsed": 356,
     "status": "ok",
     "timestamp": 1646604267494,
     "user": {
      "displayName": "anamim schuwarte",
      "photoUrl": "https://lh3.googleusercontent.com/a-/AOh14Ghzq9qZcfFYsN0agT4X613HRQ9BcAFbRph9vAui=s64",
      "userId": "09703653288263197532"
     },
     "user_tz": 180
    },
    "id": "psh9PNNtWR5H"
   },
   "outputs": [],
   "source": [
    "from IPython.display import Image"
   ]
  },
  {
   "cell_type": "code",
   "execution_count": 89,
   "metadata": {
    "colab": {
     "base_uri": "https://localhost:8080/",
     "height": 612
    },
    "executionInfo": {
     "elapsed": 347,
     "status": "ok",
     "timestamp": 1646604269772,
     "user": {
      "displayName": "anamim schuwarte",
      "photoUrl": "https://lh3.googleusercontent.com/a-/AOh14Ghzq9qZcfFYsN0agT4X613HRQ9BcAFbRph9vAui=s64",
      "userId": "09703653288263197532"
     },
     "user_tz": 180
    },
    "id": "nugOX7GjWYjv",
    "outputId": "517b6506-e57a-4428-a20c-2213f3d584fd"
   },
   "outputs": [
    {
     "data": {
      "text/html": [
       "<img src=\"https://www.hostingplus.pe/wp-content/uploads/2021/06/JOIN.jpg\"/>"
      ],
      "text/plain": [
       "<IPython.core.display.Image object>"
      ]
     },
     "execution_count": 89,
     "metadata": {},
     "output_type": "execute_result"
    }
   ],
   "source": [
    "Image(url='https://www.hostingplus.pe/wp-content/uploads/2021/06/JOIN.jpg')"
   ]
  },
  {
   "cell_type": "code",
   "execution_count": 134,
   "metadata": {
    "colab": {
     "base_uri": "https://localhost:8080/",
     "height": 237
    },
    "executionInfo": {
     "elapsed": 10,
     "status": "ok",
     "timestamp": 1646606269354,
     "user": {
      "displayName": "anamim schuwarte",
      "photoUrl": "https://lh3.googleusercontent.com/a-/AOh14Ghzq9qZcfFYsN0agT4X613HRQ9BcAFbRph9vAui=s64",
      "userId": "09703653288263197532"
     },
     "user_tz": 180
    },
    "id": "iPn-ppn_WoXC",
    "outputId": "4c8f99dc-7243-4b5d-9f16-51583464cdd8"
   },
   "outputs": [
    {
     "data": {
      "text/html": [
       "\n",
       "  <div id=\"df-19bc25c5-cf8c-46ad-852e-6d69247906a1\">\n",
       "    <div class=\"colab-df-container\">\n",
       "      <div>\n",
       "<style scoped>\n",
       "    .dataframe tbody tr th:only-of-type {\n",
       "        vertical-align: middle;\n",
       "    }\n",
       "\n",
       "    .dataframe tbody tr th {\n",
       "        vertical-align: top;\n",
       "    }\n",
       "\n",
       "    .dataframe thead th {\n",
       "        text-align: right;\n",
       "    }\n",
       "</style>\n",
       "<table border=\"1\" class=\"dataframe\">\n",
       "  <thead>\n",
       "    <tr style=\"text-align: right;\">\n",
       "      <th></th>\n",
       "      <th>Open</th>\n",
       "      <th>High</th>\n",
       "      <th>Low</th>\n",
       "      <th>Close</th>\n",
       "      <th>LREN3</th>\n",
       "      <th>Volume</th>\n",
       "    </tr>\n",
       "    <tr>\n",
       "      <th>Date</th>\n",
       "      <th></th>\n",
       "      <th></th>\n",
       "      <th></th>\n",
       "      <th></th>\n",
       "      <th></th>\n",
       "      <th></th>\n",
       "    </tr>\n",
       "  </thead>\n",
       "  <tbody>\n",
       "    <tr>\n",
       "      <th>2017-01-02</th>\n",
       "      <td>18.775900</td>\n",
       "      <td>19.013674</td>\n",
       "      <td>18.702108</td>\n",
       "      <td>18.972677</td>\n",
       "      <td>17.586414</td>\n",
       "      <td>676417</td>\n",
       "    </tr>\n",
       "    <tr>\n",
       "      <th>2017-01-03</th>\n",
       "      <td>19.103865</td>\n",
       "      <td>19.677799</td>\n",
       "      <td>18.808697</td>\n",
       "      <td>19.554813</td>\n",
       "      <td>18.126009</td>\n",
       "      <td>2976064</td>\n",
       "    </tr>\n",
       "    <tr>\n",
       "      <th>2017-01-04</th>\n",
       "      <td>19.636805</td>\n",
       "      <td>19.833582</td>\n",
       "      <td>19.177654</td>\n",
       "      <td>19.382631</td>\n",
       "      <td>17.966408</td>\n",
       "      <td>2671030</td>\n",
       "    </tr>\n",
       "    <tr>\n",
       "      <th>2017-01-05</th>\n",
       "      <td>19.464622</td>\n",
       "      <td>19.587610</td>\n",
       "      <td>19.161257</td>\n",
       "      <td>19.202253</td>\n",
       "      <td>17.799212</td>\n",
       "      <td>3587596</td>\n",
       "    </tr>\n",
       "    <tr>\n",
       "      <th>2017-01-06</th>\n",
       "      <td>19.202253</td>\n",
       "      <td>19.202253</td>\n",
       "      <td>18.808697</td>\n",
       "      <td>18.980877</td>\n",
       "      <td>17.594009</td>\n",
       "      <td>2139141</td>\n",
       "    </tr>\n",
       "  </tbody>\n",
       "</table>\n",
       "</div>\n",
       "      <button class=\"colab-df-convert\" onclick=\"convertToInteractive('df-19bc25c5-cf8c-46ad-852e-6d69247906a1')\"\n",
       "              title=\"Convert this dataframe to an interactive table.\"\n",
       "              style=\"display:none;\">\n",
       "        \n",
       "  <svg xmlns=\"http://www.w3.org/2000/svg\" height=\"24px\"viewBox=\"0 0 24 24\"\n",
       "       width=\"24px\">\n",
       "    <path d=\"M0 0h24v24H0V0z\" fill=\"none\"/>\n",
       "    <path d=\"M18.56 5.44l.94 2.06.94-2.06 2.06-.94-2.06-.94-.94-2.06-.94 2.06-2.06.94zm-11 1L8.5 8.5l.94-2.06 2.06-.94-2.06-.94L8.5 2.5l-.94 2.06-2.06.94zm10 10l.94 2.06.94-2.06 2.06-.94-2.06-.94-.94-2.06-.94 2.06-2.06.94z\"/><path d=\"M17.41 7.96l-1.37-1.37c-.4-.4-.92-.59-1.43-.59-.52 0-1.04.2-1.43.59L10.3 9.45l-7.72 7.72c-.78.78-.78 2.05 0 2.83L4 21.41c.39.39.9.59 1.41.59.51 0 1.02-.2 1.41-.59l7.78-7.78 2.81-2.81c.8-.78.8-2.07 0-2.86zM5.41 20L4 18.59l7.72-7.72 1.47 1.35L5.41 20z\"/>\n",
       "  </svg>\n",
       "      </button>\n",
       "      \n",
       "  <style>\n",
       "    .colab-df-container {\n",
       "      display:flex;\n",
       "      flex-wrap:wrap;\n",
       "      gap: 12px;\n",
       "    }\n",
       "\n",
       "    .colab-df-convert {\n",
       "      background-color: #E8F0FE;\n",
       "      border: none;\n",
       "      border-radius: 50%;\n",
       "      cursor: pointer;\n",
       "      display: none;\n",
       "      fill: #1967D2;\n",
       "      height: 32px;\n",
       "      padding: 0 0 0 0;\n",
       "      width: 32px;\n",
       "    }\n",
       "\n",
       "    .colab-df-convert:hover {\n",
       "      background-color: #E2EBFA;\n",
       "      box-shadow: 0px 1px 2px rgba(60, 64, 67, 0.3), 0px 1px 3px 1px rgba(60, 64, 67, 0.15);\n",
       "      fill: #174EA6;\n",
       "    }\n",
       "\n",
       "    [theme=dark] .colab-df-convert {\n",
       "      background-color: #3B4455;\n",
       "      fill: #D2E3FC;\n",
       "    }\n",
       "\n",
       "    [theme=dark] .colab-df-convert:hover {\n",
       "      background-color: #434B5C;\n",
       "      box-shadow: 0px 1px 3px 1px rgba(0, 0, 0, 0.15);\n",
       "      filter: drop-shadow(0px 1px 2px rgba(0, 0, 0, 0.3));\n",
       "      fill: #FFFFFF;\n",
       "    }\n",
       "  </style>\n",
       "\n",
       "      <script>\n",
       "        const buttonEl =\n",
       "          document.querySelector('#df-19bc25c5-cf8c-46ad-852e-6d69247906a1 button.colab-df-convert');\n",
       "        buttonEl.style.display =\n",
       "          google.colab.kernel.accessAllowed ? 'block' : 'none';\n",
       "\n",
       "        async function convertToInteractive(key) {\n",
       "          const element = document.querySelector('#df-19bc25c5-cf8c-46ad-852e-6d69247906a1');\n",
       "          const dataTable =\n",
       "            await google.colab.kernel.invokeFunction('convertToInteractive',\n",
       "                                                     [key], {});\n",
       "          if (!dataTable) return;\n",
       "\n",
       "          const docLinkHtml = 'Like what you see? Visit the ' +\n",
       "            '<a target=\"_blank\" href=https://colab.research.google.com/notebooks/data_table.ipynb>data table notebook</a>'\n",
       "            + ' to learn more about interactive tables.';\n",
       "          element.innerHTML = '';\n",
       "          dataTable['output_type'] = 'display_data';\n",
       "          await google.colab.output.renderOutput(dataTable, element);\n",
       "          const docLink = document.createElement('div');\n",
       "          docLink.innerHTML = docLinkHtml;\n",
       "          element.appendChild(docLink);\n",
       "        }\n",
       "      </script>\n",
       "    </div>\n",
       "  </div>\n",
       "  "
      ],
      "text/plain": [
       "                 Open       High        Low      Close      LREN3   Volume\n",
       "Date                                                                      \n",
       "2017-01-02  18.775900  19.013674  18.702108  18.972677  17.586414   676417\n",
       "2017-01-03  19.103865  19.677799  18.808697  19.554813  18.126009  2976064\n",
       "2017-01-04  19.636805  19.833582  19.177654  19.382631  17.966408  2671030\n",
       "2017-01-05  19.464622  19.587610  19.161257  19.202253  17.799212  3587596\n",
       "2017-01-06  19.202253  19.202253  18.808697  18.980877  17.594009  2139141"
      ]
     },
     "execution_count": 134,
     "metadata": {},
     "output_type": "execute_result"
    }
   ],
   "source": [
    "lren.head()"
   ]
  },
  {
   "cell_type": "code",
   "execution_count": 133,
   "metadata": {
    "executionInfo": {
     "elapsed": 371,
     "status": "ok",
     "timestamp": 1646606266457,
     "user": {
      "displayName": "anamim schuwarte",
      "photoUrl": "https://lh3.googleusercontent.com/a-/AOh14Ghzq9qZcfFYsN0agT4X613HRQ9BcAFbRph9vAui=s64",
      "userId": "09703653288263197532"
     },
     "user_tz": 180
    },
    "id": "MF4WVNUDcRba"
   },
   "outputs": [],
   "source": [
    "weg = dados"
   ]
  },
  {
   "cell_type": "code",
   "execution_count": 137,
   "metadata": {
    "colab": {
     "base_uri": "https://localhost:8080/",
     "height": 206
    },
    "executionInfo": {
     "elapsed": 397,
     "status": "ok",
     "timestamp": 1646606300394,
     "user": {
      "displayName": "anamim schuwarte",
      "photoUrl": "https://lh3.googleusercontent.com/a-/AOh14Ghzq9qZcfFYsN0agT4X613HRQ9BcAFbRph9vAui=s64",
      "userId": "09703653288263197532"
     },
     "user_tz": 180
    },
    "id": "ZAW09ESNcuIx",
    "outputId": "92df7a2b-45b3-4ee8-a3e7-33f9a190ef8a"
   },
   "outputs": [
    {
     "data": {
      "text/html": [
       "\n",
       "  <div id=\"df-7d680b08-91ba-4164-b722-92ab0a27a36e\">\n",
       "    <div class=\"colab-df-container\">\n",
       "      <div>\n",
       "<style scoped>\n",
       "    .dataframe tbody tr th:only-of-type {\n",
       "        vertical-align: middle;\n",
       "    }\n",
       "\n",
       "    .dataframe tbody tr th {\n",
       "        vertical-align: top;\n",
       "    }\n",
       "\n",
       "    .dataframe thead th {\n",
       "        text-align: right;\n",
       "    }\n",
       "</style>\n",
       "<table border=\"1\" class=\"dataframe\">\n",
       "  <thead>\n",
       "    <tr style=\"text-align: right;\">\n",
       "      <th></th>\n",
       "      <th>Date</th>\n",
       "      <th>Open</th>\n",
       "      <th>High</th>\n",
       "      <th>Low</th>\n",
       "      <th>Close</th>\n",
       "      <th>WEGE3</th>\n",
       "      <th>Volume</th>\n",
       "    </tr>\n",
       "  </thead>\n",
       "  <tbody>\n",
       "    <tr>\n",
       "      <th>0</th>\n",
       "      <td>2017-07-24</td>\n",
       "      <td>7.392307</td>\n",
       "      <td>7.473076</td>\n",
       "      <td>7.261538</td>\n",
       "      <td>7.426923</td>\n",
       "      <td>7.051007</td>\n",
       "      <td>2638220.0</td>\n",
       "    </tr>\n",
       "    <tr>\n",
       "      <th>1</th>\n",
       "      <td>2017-07-25</td>\n",
       "      <td>7.476923</td>\n",
       "      <td>7.476923</td>\n",
       "      <td>7.307692</td>\n",
       "      <td>7.369230</td>\n",
       "      <td>6.996235</td>\n",
       "      <td>2505880.0</td>\n",
       "    </tr>\n",
       "    <tr>\n",
       "      <th>2</th>\n",
       "      <td>2017-07-26</td>\n",
       "      <td>7.323076</td>\n",
       "      <td>7.442307</td>\n",
       "      <td>7.276923</td>\n",
       "      <td>7.326923</td>\n",
       "      <td>6.956069</td>\n",
       "      <td>2112240.0</td>\n",
       "    </tr>\n",
       "    <tr>\n",
       "      <th>3</th>\n",
       "      <td>2017-07-27</td>\n",
       "      <td>7.388461</td>\n",
       "      <td>7.419230</td>\n",
       "      <td>7.223076</td>\n",
       "      <td>7.269230</td>\n",
       "      <td>6.901296</td>\n",
       "      <td>1910480.0</td>\n",
       "    </tr>\n",
       "    <tr>\n",
       "      <th>4</th>\n",
       "      <td>2017-07-28</td>\n",
       "      <td>7.261538</td>\n",
       "      <td>7.296153</td>\n",
       "      <td>7.165384</td>\n",
       "      <td>7.200000</td>\n",
       "      <td>6.835570</td>\n",
       "      <td>2866760.0</td>\n",
       "    </tr>\n",
       "  </tbody>\n",
       "</table>\n",
       "</div>\n",
       "      <button class=\"colab-df-convert\" onclick=\"convertToInteractive('df-7d680b08-91ba-4164-b722-92ab0a27a36e')\"\n",
       "              title=\"Convert this dataframe to an interactive table.\"\n",
       "              style=\"display:none;\">\n",
       "        \n",
       "  <svg xmlns=\"http://www.w3.org/2000/svg\" height=\"24px\"viewBox=\"0 0 24 24\"\n",
       "       width=\"24px\">\n",
       "    <path d=\"M0 0h24v24H0V0z\" fill=\"none\"/>\n",
       "    <path d=\"M18.56 5.44l.94 2.06.94-2.06 2.06-.94-2.06-.94-.94-2.06-.94 2.06-2.06.94zm-11 1L8.5 8.5l.94-2.06 2.06-.94-2.06-.94L8.5 2.5l-.94 2.06-2.06.94zm10 10l.94 2.06.94-2.06 2.06-.94-2.06-.94-.94-2.06-.94 2.06-2.06.94z\"/><path d=\"M17.41 7.96l-1.37-1.37c-.4-.4-.92-.59-1.43-.59-.52 0-1.04.2-1.43.59L10.3 9.45l-7.72 7.72c-.78.78-.78 2.05 0 2.83L4 21.41c.39.39.9.59 1.41.59.51 0 1.02-.2 1.41-.59l7.78-7.78 2.81-2.81c.8-.78.8-2.07 0-2.86zM5.41 20L4 18.59l7.72-7.72 1.47 1.35L5.41 20z\"/>\n",
       "  </svg>\n",
       "      </button>\n",
       "      \n",
       "  <style>\n",
       "    .colab-df-container {\n",
       "      display:flex;\n",
       "      flex-wrap:wrap;\n",
       "      gap: 12px;\n",
       "    }\n",
       "\n",
       "    .colab-df-convert {\n",
       "      background-color: #E8F0FE;\n",
       "      border: none;\n",
       "      border-radius: 50%;\n",
       "      cursor: pointer;\n",
       "      display: none;\n",
       "      fill: #1967D2;\n",
       "      height: 32px;\n",
       "      padding: 0 0 0 0;\n",
       "      width: 32px;\n",
       "    }\n",
       "\n",
       "    .colab-df-convert:hover {\n",
       "      background-color: #E2EBFA;\n",
       "      box-shadow: 0px 1px 2px rgba(60, 64, 67, 0.3), 0px 1px 3px 1px rgba(60, 64, 67, 0.15);\n",
       "      fill: #174EA6;\n",
       "    }\n",
       "\n",
       "    [theme=dark] .colab-df-convert {\n",
       "      background-color: #3B4455;\n",
       "      fill: #D2E3FC;\n",
       "    }\n",
       "\n",
       "    [theme=dark] .colab-df-convert:hover {\n",
       "      background-color: #434B5C;\n",
       "      box-shadow: 0px 1px 3px 1px rgba(0, 0, 0, 0.15);\n",
       "      filter: drop-shadow(0px 1px 2px rgba(0, 0, 0, 0.3));\n",
       "      fill: #FFFFFF;\n",
       "    }\n",
       "  </style>\n",
       "\n",
       "      <script>\n",
       "        const buttonEl =\n",
       "          document.querySelector('#df-7d680b08-91ba-4164-b722-92ab0a27a36e button.colab-df-convert');\n",
       "        buttonEl.style.display =\n",
       "          google.colab.kernel.accessAllowed ? 'block' : 'none';\n",
       "\n",
       "        async function convertToInteractive(key) {\n",
       "          const element = document.querySelector('#df-7d680b08-91ba-4164-b722-92ab0a27a36e');\n",
       "          const dataTable =\n",
       "            await google.colab.kernel.invokeFunction('convertToInteractive',\n",
       "                                                     [key], {});\n",
       "          if (!dataTable) return;\n",
       "\n",
       "          const docLinkHtml = 'Like what you see? Visit the ' +\n",
       "            '<a target=\"_blank\" href=https://colab.research.google.com/notebooks/data_table.ipynb>data table notebook</a>'\n",
       "            + ' to learn more about interactive tables.';\n",
       "          element.innerHTML = '';\n",
       "          dataTable['output_type'] = 'display_data';\n",
       "          await google.colab.output.renderOutput(dataTable, element);\n",
       "          const docLink = document.createElement('div');\n",
       "          docLink.innerHTML = docLinkHtml;\n",
       "          element.appendChild(docLink);\n",
       "        }\n",
       "      </script>\n",
       "    </div>\n",
       "  </div>\n",
       "  "
      ],
      "text/plain": [
       "         Date      Open      High       Low     Close     WEGE3     Volume\n",
       "0  2017-07-24  7.392307  7.473076  7.261538  7.426923  7.051007  2638220.0\n",
       "1  2017-07-25  7.476923  7.476923  7.307692  7.369230  6.996235  2505880.0\n",
       "2  2017-07-26  7.323076  7.442307  7.276923  7.326923  6.956069  2112240.0\n",
       "3  2017-07-27  7.388461  7.419230  7.223076  7.269230  6.901296  1910480.0\n",
       "4  2017-07-28  7.261538  7.296153  7.165384  7.200000  6.835570  2866760.0"
      ]
     },
     "execution_count": 137,
     "metadata": {},
     "output_type": "execute_result"
    }
   ],
   "source": [
    "weg.head()"
   ]
  },
  {
   "cell_type": "code",
   "execution_count": 120,
   "metadata": {
    "executionInfo": {
     "elapsed": 375,
     "status": "ok",
     "timestamp": 1646605101577,
     "user": {
      "displayName": "anamim schuwarte",
      "photoUrl": "https://lh3.googleusercontent.com/a-/AOh14Ghzq9qZcfFYsN0agT4X613HRQ9BcAFbRph9vAui=s64",
      "userId": "09703653288263197532"
     },
     "user_tz": 180
    },
    "id": "dYFMtfq1cwIr"
   },
   "outputs": [],
   "source": [
    "weg.drop(['Date'], axis=1, inplace=True) # axis 0 é linha, axis 1 é coluna"
   ]
  },
  {
   "cell_type": "code",
   "execution_count": null,
   "metadata": {
    "executionInfo": {
     "elapsed": 64,
     "status": "aborted",
     "timestamp": 1646604215826,
     "user": {
      "displayName": "anamim schuwarte",
      "photoUrl": "https://lh3.googleusercontent.com/a-/AOh14Ghzq9qZcfFYsN0agT4X613HRQ9BcAFbRph9vAui=s64",
      "userId": "09703653288263197532"
     },
     "user_tz": 180
    },
    "id": "REumVw0VdGpD"
   },
   "outputs": [],
   "source": []
  },
  {
   "cell_type": "code",
   "execution_count": null,
   "metadata": {
    "executionInfo": {
     "elapsed": 64,
     "status": "aborted",
     "timestamp": 1646604215827,
     "user": {
      "displayName": "anamim schuwarte",
      "photoUrl": "https://lh3.googleusercontent.com/a-/AOh14Ghzq9qZcfFYsN0agT4X613HRQ9BcAFbRph9vAui=s64",
      "userId": "09703653288263197532"
     },
     "user_tz": 180
    },
    "id": "RYXnBw1VdG8U"
   },
   "outputs": [],
   "source": [
    "lren.head()"
   ]
  },
  {
   "cell_type": "code",
   "execution_count": 136,
   "metadata": {
    "executionInfo": {
     "elapsed": 367,
     "status": "ok",
     "timestamp": 1646606291678,
     "user": {
      "displayName": "anamim schuwarte",
      "photoUrl": "https://lh3.googleusercontent.com/a-/AOh14Ghzq9qZcfFYsN0agT4X613HRQ9BcAFbRph9vAui=s64",
      "userId": "09703653288263197532"
     },
     "user_tz": 180
    },
    "id": "1m_AK30SdOaT"
   },
   "outputs": [],
   "source": [
    "weg.rename(columns = {'Adj Close' : 'WEGE3'}, inplace = True)\n"
   ]
  },
  {
   "cell_type": "code",
   "execution_count": 93,
   "metadata": {
    "executionInfo": {
     "elapsed": 393,
     "status": "ok",
     "timestamp": 1646604297517,
     "user": {
      "displayName": "anamim schuwarte",
      "photoUrl": "https://lh3.googleusercontent.com/a-/AOh14Ghzq9qZcfFYsN0agT4X613HRQ9BcAFbRph9vAui=s64",
      "userId": "09703653288263197532"
     },
     "user_tz": 180
    },
    "id": "s6IDadb9bfbq"
   },
   "outputs": [],
   "source": [
    "weg.rename(columns = {'Data' : 'Date'}, inplace = True)"
   ]
  },
  {
   "cell_type": "code",
   "execution_count": 138,
   "metadata": {
    "executionInfo": {
     "elapsed": 3,
     "status": "ok",
     "timestamp": 1646606596300,
     "user": {
      "displayName": "anamim schuwarte",
      "photoUrl": "https://lh3.googleusercontent.com/a-/AOh14Ghzq9qZcfFYsN0agT4X613HRQ9BcAFbRph9vAui=s64",
      "userId": "09703653288263197532"
     },
     "user_tz": 180
    },
    "id": "KEDGN3FUhNQ0"
   },
   "outputs": [],
   "source": [
    "weg['Date'] = pd.to_datetime(weg['Date'], format = '%Y-%m-%d')"
   ]
  },
  {
   "cell_type": "code",
   "execution_count": 124,
   "metadata": {
    "colab": {
     "base_uri": "https://localhost:8080/",
     "height": 237
    },
    "executionInfo": {
     "elapsed": 423,
     "status": "ok",
     "timestamp": 1646605149346,
     "user": {
      "displayName": "anamim schuwarte",
      "photoUrl": "https://lh3.googleusercontent.com/a-/AOh14Ghzq9qZcfFYsN0agT4X613HRQ9BcAFbRph9vAui=s64",
      "userId": "09703653288263197532"
     },
     "user_tz": 180
    },
    "id": "19HhIjlBeHIw",
    "outputId": "3e1699b6-cef0-4ef7-e49a-fd324d45762e"
   },
   "outputs": [
    {
     "data": {
      "text/html": [
       "\n",
       "  <div id=\"df-d30cad3b-29c8-4ef9-928c-400c267de909\">\n",
       "    <div class=\"colab-df-container\">\n",
       "      <div>\n",
       "<style scoped>\n",
       "    .dataframe tbody tr th:only-of-type {\n",
       "        vertical-align: middle;\n",
       "    }\n",
       "\n",
       "    .dataframe tbody tr th {\n",
       "        vertical-align: top;\n",
       "    }\n",
       "\n",
       "    .dataframe thead th {\n",
       "        text-align: right;\n",
       "    }\n",
       "</style>\n",
       "<table border=\"1\" class=\"dataframe\">\n",
       "  <thead>\n",
       "    <tr style=\"text-align: right;\">\n",
       "      <th></th>\n",
       "      <th>Open</th>\n",
       "      <th>High</th>\n",
       "      <th>Low</th>\n",
       "      <th>Close</th>\n",
       "      <th>LREN3</th>\n",
       "      <th>Volume</th>\n",
       "    </tr>\n",
       "    <tr>\n",
       "      <th>Date</th>\n",
       "      <th></th>\n",
       "      <th></th>\n",
       "      <th></th>\n",
       "      <th></th>\n",
       "      <th></th>\n",
       "      <th></th>\n",
       "    </tr>\n",
       "  </thead>\n",
       "  <tbody>\n",
       "    <tr>\n",
       "      <th>2017-01-02</th>\n",
       "      <td>18.775900</td>\n",
       "      <td>19.013674</td>\n",
       "      <td>18.702108</td>\n",
       "      <td>18.972677</td>\n",
       "      <td>17.586414</td>\n",
       "      <td>676417</td>\n",
       "    </tr>\n",
       "    <tr>\n",
       "      <th>2017-01-03</th>\n",
       "      <td>19.103865</td>\n",
       "      <td>19.677799</td>\n",
       "      <td>18.808697</td>\n",
       "      <td>19.554813</td>\n",
       "      <td>18.126009</td>\n",
       "      <td>2976064</td>\n",
       "    </tr>\n",
       "    <tr>\n",
       "      <th>2017-01-04</th>\n",
       "      <td>19.636805</td>\n",
       "      <td>19.833582</td>\n",
       "      <td>19.177654</td>\n",
       "      <td>19.382631</td>\n",
       "      <td>17.966408</td>\n",
       "      <td>2671030</td>\n",
       "    </tr>\n",
       "    <tr>\n",
       "      <th>2017-01-05</th>\n",
       "      <td>19.464622</td>\n",
       "      <td>19.587610</td>\n",
       "      <td>19.161257</td>\n",
       "      <td>19.202253</td>\n",
       "      <td>17.799212</td>\n",
       "      <td>3587596</td>\n",
       "    </tr>\n",
       "    <tr>\n",
       "      <th>2017-01-06</th>\n",
       "      <td>19.202253</td>\n",
       "      <td>19.202253</td>\n",
       "      <td>18.808697</td>\n",
       "      <td>18.980877</td>\n",
       "      <td>17.594009</td>\n",
       "      <td>2139141</td>\n",
       "    </tr>\n",
       "  </tbody>\n",
       "</table>\n",
       "</div>\n",
       "      <button class=\"colab-df-convert\" onclick=\"convertToInteractive('df-d30cad3b-29c8-4ef9-928c-400c267de909')\"\n",
       "              title=\"Convert this dataframe to an interactive table.\"\n",
       "              style=\"display:none;\">\n",
       "        \n",
       "  <svg xmlns=\"http://www.w3.org/2000/svg\" height=\"24px\"viewBox=\"0 0 24 24\"\n",
       "       width=\"24px\">\n",
       "    <path d=\"M0 0h24v24H0V0z\" fill=\"none\"/>\n",
       "    <path d=\"M18.56 5.44l.94 2.06.94-2.06 2.06-.94-2.06-.94-.94-2.06-.94 2.06-2.06.94zm-11 1L8.5 8.5l.94-2.06 2.06-.94-2.06-.94L8.5 2.5l-.94 2.06-2.06.94zm10 10l.94 2.06.94-2.06 2.06-.94-2.06-.94-.94-2.06-.94 2.06-2.06.94z\"/><path d=\"M17.41 7.96l-1.37-1.37c-.4-.4-.92-.59-1.43-.59-.52 0-1.04.2-1.43.59L10.3 9.45l-7.72 7.72c-.78.78-.78 2.05 0 2.83L4 21.41c.39.39.9.59 1.41.59.51 0 1.02-.2 1.41-.59l7.78-7.78 2.81-2.81c.8-.78.8-2.07 0-2.86zM5.41 20L4 18.59l7.72-7.72 1.47 1.35L5.41 20z\"/>\n",
       "  </svg>\n",
       "      </button>\n",
       "      \n",
       "  <style>\n",
       "    .colab-df-container {\n",
       "      display:flex;\n",
       "      flex-wrap:wrap;\n",
       "      gap: 12px;\n",
       "    }\n",
       "\n",
       "    .colab-df-convert {\n",
       "      background-color: #E8F0FE;\n",
       "      border: none;\n",
       "      border-radius: 50%;\n",
       "      cursor: pointer;\n",
       "      display: none;\n",
       "      fill: #1967D2;\n",
       "      height: 32px;\n",
       "      padding: 0 0 0 0;\n",
       "      width: 32px;\n",
       "    }\n",
       "\n",
       "    .colab-df-convert:hover {\n",
       "      background-color: #E2EBFA;\n",
       "      box-shadow: 0px 1px 2px rgba(60, 64, 67, 0.3), 0px 1px 3px 1px rgba(60, 64, 67, 0.15);\n",
       "      fill: #174EA6;\n",
       "    }\n",
       "\n",
       "    [theme=dark] .colab-df-convert {\n",
       "      background-color: #3B4455;\n",
       "      fill: #D2E3FC;\n",
       "    }\n",
       "\n",
       "    [theme=dark] .colab-df-convert:hover {\n",
       "      background-color: #434B5C;\n",
       "      box-shadow: 0px 1px 3px 1px rgba(0, 0, 0, 0.15);\n",
       "      filter: drop-shadow(0px 1px 2px rgba(0, 0, 0, 0.3));\n",
       "      fill: #FFFFFF;\n",
       "    }\n",
       "  </style>\n",
       "\n",
       "      <script>\n",
       "        const buttonEl =\n",
       "          document.querySelector('#df-d30cad3b-29c8-4ef9-928c-400c267de909 button.colab-df-convert');\n",
       "        buttonEl.style.display =\n",
       "          google.colab.kernel.accessAllowed ? 'block' : 'none';\n",
       "\n",
       "        async function convertToInteractive(key) {\n",
       "          const element = document.querySelector('#df-d30cad3b-29c8-4ef9-928c-400c267de909');\n",
       "          const dataTable =\n",
       "            await google.colab.kernel.invokeFunction('convertToInteractive',\n",
       "                                                     [key], {});\n",
       "          if (!dataTable) return;\n",
       "\n",
       "          const docLinkHtml = 'Like what you see? Visit the ' +\n",
       "            '<a target=\"_blank\" href=https://colab.research.google.com/notebooks/data_table.ipynb>data table notebook</a>'\n",
       "            + ' to learn more about interactive tables.';\n",
       "          element.innerHTML = '';\n",
       "          dataTable['output_type'] = 'display_data';\n",
       "          await google.colab.output.renderOutput(dataTable, element);\n",
       "          const docLink = document.createElement('div');\n",
       "          docLink.innerHTML = docLinkHtml;\n",
       "          element.appendChild(docLink);\n",
       "        }\n",
       "      </script>\n",
       "    </div>\n",
       "  </div>\n",
       "  "
      ],
      "text/plain": [
       "                 Open       High        Low      Close      LREN3   Volume\n",
       "Date                                                                      \n",
       "2017-01-02  18.775900  19.013674  18.702108  18.972677  17.586414   676417\n",
       "2017-01-03  19.103865  19.677799  18.808697  19.554813  18.126009  2976064\n",
       "2017-01-04  19.636805  19.833582  19.177654  19.382631  17.966408  2671030\n",
       "2017-01-05  19.464622  19.587610  19.161257  19.202253  17.799212  3587596\n",
       "2017-01-06  19.202253  19.202253  18.808697  18.980877  17.594009  2139141"
      ]
     },
     "execution_count": 124,
     "metadata": {},
     "output_type": "execute_result"
    }
   ],
   "source": [
    "lren.head()"
   ]
  },
  {
   "cell_type": "code",
   "execution_count": 139,
   "metadata": {
    "colab": {
     "base_uri": "https://localhost:8080/",
     "height": 206
    },
    "executionInfo": {
     "elapsed": 421,
     "status": "ok",
     "timestamp": 1646606605246,
     "user": {
      "displayName": "anamim schuwarte",
      "photoUrl": "https://lh3.googleusercontent.com/a-/AOh14Ghzq9qZcfFYsN0agT4X613HRQ9BcAFbRph9vAui=s64",
      "userId": "09703653288263197532"
     },
     "user_tz": 180
    },
    "id": "D17DLA_VeKDS",
    "outputId": "5972d6c5-f471-4ab6-c978-c14a26e690f6"
   },
   "outputs": [
    {
     "data": {
      "text/html": [
       "\n",
       "  <div id=\"df-68eaecd4-43f8-4326-b307-f3c07da70d16\">\n",
       "    <div class=\"colab-df-container\">\n",
       "      <div>\n",
       "<style scoped>\n",
       "    .dataframe tbody tr th:only-of-type {\n",
       "        vertical-align: middle;\n",
       "    }\n",
       "\n",
       "    .dataframe tbody tr th {\n",
       "        vertical-align: top;\n",
       "    }\n",
       "\n",
       "    .dataframe thead th {\n",
       "        text-align: right;\n",
       "    }\n",
       "</style>\n",
       "<table border=\"1\" class=\"dataframe\">\n",
       "  <thead>\n",
       "    <tr style=\"text-align: right;\">\n",
       "      <th></th>\n",
       "      <th>Date</th>\n",
       "      <th>Open</th>\n",
       "      <th>High</th>\n",
       "      <th>Low</th>\n",
       "      <th>Close</th>\n",
       "      <th>WEGE3</th>\n",
       "      <th>Volume</th>\n",
       "    </tr>\n",
       "  </thead>\n",
       "  <tbody>\n",
       "    <tr>\n",
       "      <th>0</th>\n",
       "      <td>2017-07-24</td>\n",
       "      <td>7.392307</td>\n",
       "      <td>7.473076</td>\n",
       "      <td>7.261538</td>\n",
       "      <td>7.426923</td>\n",
       "      <td>7.051007</td>\n",
       "      <td>2638220.0</td>\n",
       "    </tr>\n",
       "    <tr>\n",
       "      <th>1</th>\n",
       "      <td>2017-07-25</td>\n",
       "      <td>7.476923</td>\n",
       "      <td>7.476923</td>\n",
       "      <td>7.307692</td>\n",
       "      <td>7.369230</td>\n",
       "      <td>6.996235</td>\n",
       "      <td>2505880.0</td>\n",
       "    </tr>\n",
       "    <tr>\n",
       "      <th>2</th>\n",
       "      <td>2017-07-26</td>\n",
       "      <td>7.323076</td>\n",
       "      <td>7.442307</td>\n",
       "      <td>7.276923</td>\n",
       "      <td>7.326923</td>\n",
       "      <td>6.956069</td>\n",
       "      <td>2112240.0</td>\n",
       "    </tr>\n",
       "    <tr>\n",
       "      <th>3</th>\n",
       "      <td>2017-07-27</td>\n",
       "      <td>7.388461</td>\n",
       "      <td>7.419230</td>\n",
       "      <td>7.223076</td>\n",
       "      <td>7.269230</td>\n",
       "      <td>6.901296</td>\n",
       "      <td>1910480.0</td>\n",
       "    </tr>\n",
       "    <tr>\n",
       "      <th>4</th>\n",
       "      <td>2017-07-28</td>\n",
       "      <td>7.261538</td>\n",
       "      <td>7.296153</td>\n",
       "      <td>7.165384</td>\n",
       "      <td>7.200000</td>\n",
       "      <td>6.835570</td>\n",
       "      <td>2866760.0</td>\n",
       "    </tr>\n",
       "  </tbody>\n",
       "</table>\n",
       "</div>\n",
       "      <button class=\"colab-df-convert\" onclick=\"convertToInteractive('df-68eaecd4-43f8-4326-b307-f3c07da70d16')\"\n",
       "              title=\"Convert this dataframe to an interactive table.\"\n",
       "              style=\"display:none;\">\n",
       "        \n",
       "  <svg xmlns=\"http://www.w3.org/2000/svg\" height=\"24px\"viewBox=\"0 0 24 24\"\n",
       "       width=\"24px\">\n",
       "    <path d=\"M0 0h24v24H0V0z\" fill=\"none\"/>\n",
       "    <path d=\"M18.56 5.44l.94 2.06.94-2.06 2.06-.94-2.06-.94-.94-2.06-.94 2.06-2.06.94zm-11 1L8.5 8.5l.94-2.06 2.06-.94-2.06-.94L8.5 2.5l-.94 2.06-2.06.94zm10 10l.94 2.06.94-2.06 2.06-.94-2.06-.94-.94-2.06-.94 2.06-2.06.94z\"/><path d=\"M17.41 7.96l-1.37-1.37c-.4-.4-.92-.59-1.43-.59-.52 0-1.04.2-1.43.59L10.3 9.45l-7.72 7.72c-.78.78-.78 2.05 0 2.83L4 21.41c.39.39.9.59 1.41.59.51 0 1.02-.2 1.41-.59l7.78-7.78 2.81-2.81c.8-.78.8-2.07 0-2.86zM5.41 20L4 18.59l7.72-7.72 1.47 1.35L5.41 20z\"/>\n",
       "  </svg>\n",
       "      </button>\n",
       "      \n",
       "  <style>\n",
       "    .colab-df-container {\n",
       "      display:flex;\n",
       "      flex-wrap:wrap;\n",
       "      gap: 12px;\n",
       "    }\n",
       "\n",
       "    .colab-df-convert {\n",
       "      background-color: #E8F0FE;\n",
       "      border: none;\n",
       "      border-radius: 50%;\n",
       "      cursor: pointer;\n",
       "      display: none;\n",
       "      fill: #1967D2;\n",
       "      height: 32px;\n",
       "      padding: 0 0 0 0;\n",
       "      width: 32px;\n",
       "    }\n",
       "\n",
       "    .colab-df-convert:hover {\n",
       "      background-color: #E2EBFA;\n",
       "      box-shadow: 0px 1px 2px rgba(60, 64, 67, 0.3), 0px 1px 3px 1px rgba(60, 64, 67, 0.15);\n",
       "      fill: #174EA6;\n",
       "    }\n",
       "\n",
       "    [theme=dark] .colab-df-convert {\n",
       "      background-color: #3B4455;\n",
       "      fill: #D2E3FC;\n",
       "    }\n",
       "\n",
       "    [theme=dark] .colab-df-convert:hover {\n",
       "      background-color: #434B5C;\n",
       "      box-shadow: 0px 1px 3px 1px rgba(0, 0, 0, 0.15);\n",
       "      filter: drop-shadow(0px 1px 2px rgba(0, 0, 0, 0.3));\n",
       "      fill: #FFFFFF;\n",
       "    }\n",
       "  </style>\n",
       "\n",
       "      <script>\n",
       "        const buttonEl =\n",
       "          document.querySelector('#df-68eaecd4-43f8-4326-b307-f3c07da70d16 button.colab-df-convert');\n",
       "        buttonEl.style.display =\n",
       "          google.colab.kernel.accessAllowed ? 'block' : 'none';\n",
       "\n",
       "        async function convertToInteractive(key) {\n",
       "          const element = document.querySelector('#df-68eaecd4-43f8-4326-b307-f3c07da70d16');\n",
       "          const dataTable =\n",
       "            await google.colab.kernel.invokeFunction('convertToInteractive',\n",
       "                                                     [key], {});\n",
       "          if (!dataTable) return;\n",
       "\n",
       "          const docLinkHtml = 'Like what you see? Visit the ' +\n",
       "            '<a target=\"_blank\" href=https://colab.research.google.com/notebooks/data_table.ipynb>data table notebook</a>'\n",
       "            + ' to learn more about interactive tables.';\n",
       "          element.innerHTML = '';\n",
       "          dataTable['output_type'] = 'display_data';\n",
       "          await google.colab.output.renderOutput(dataTable, element);\n",
       "          const docLink = document.createElement('div');\n",
       "          docLink.innerHTML = docLinkHtml;\n",
       "          element.appendChild(docLink);\n",
       "        }\n",
       "      </script>\n",
       "    </div>\n",
       "  </div>\n",
       "  "
      ],
      "text/plain": [
       "        Date      Open      High       Low     Close     WEGE3     Volume\n",
       "0 2017-07-24  7.392307  7.473076  7.261538  7.426923  7.051007  2638220.0\n",
       "1 2017-07-25  7.476923  7.476923  7.307692  7.369230  6.996235  2505880.0\n",
       "2 2017-07-26  7.323076  7.442307  7.276923  7.326923  6.956069  2112240.0\n",
       "3 2017-07-27  7.388461  7.419230  7.223076  7.269230  6.901296  1910480.0\n",
       "4 2017-07-28  7.261538  7.296153  7.165384  7.200000  6.835570  2866760.0"
      ]
     },
     "execution_count": 139,
     "metadata": {},
     "output_type": "execute_result"
    }
   ],
   "source": [
    "weg.head()"
   ]
  },
  {
   "cell_type": "code",
   "execution_count": 97,
   "metadata": {
    "executionInfo": {
     "elapsed": 568,
     "status": "ok",
     "timestamp": 1646604321693,
     "user": {
      "displayName": "anamim schuwarte",
      "photoUrl": "https://lh3.googleusercontent.com/a-/AOh14Ghzq9qZcfFYsN0agT4X613HRQ9BcAFbRph9vAui=s64",
      "userId": "09703653288263197532"
     },
     "user_tz": 180
    },
    "id": "8iC6f_FUdRUJ"
   },
   "outputs": [],
   "source": [
    "weg.drop(['Date'], axis=1, inplace=True) # axis 0 é linha, axis 1 é coluna"
   ]
  },
  {
   "cell_type": "code",
   "execution_count": 140,
   "metadata": {
    "executionInfo": {
     "elapsed": 369,
     "status": "ok",
     "timestamp": 1646606614401,
     "user": {
      "displayName": "anamim schuwarte",
      "photoUrl": "https://lh3.googleusercontent.com/a-/AOh14Ghzq9qZcfFYsN0agT4X613HRQ9BcAFbRph9vAui=s64",
      "userId": "09703653288263197532"
     },
     "user_tz": 180
    },
    "id": "S3JEg686eMkf"
   },
   "outputs": [],
   "source": [
    "novo_df = pd.merge(lren, weg, how='inner', on = 'Date')"
   ]
  },
  {
   "cell_type": "code",
   "execution_count": null,
   "metadata": {
    "executionInfo": {
     "elapsed": 69,
     "status": "aborted",
     "timestamp": 1646604215836,
     "user": {
      "displayName": "anamim schuwarte",
      "photoUrl": "https://lh3.googleusercontent.com/a-/AOh14Ghzq9qZcfFYsN0agT4X613HRQ9BcAFbRph9vAui=s64",
      "userId": "09703653288263197532"
     },
     "user_tz": 180
    },
    "id": "6mpil6b7h6Rv"
   },
   "outputs": [],
   "source": [
    "weg.index = weg.Date"
   ]
  },
  {
   "cell_type": "code",
   "execution_count": null,
   "metadata": {
    "executionInfo": {
     "elapsed": 69,
     "status": "aborted",
     "timestamp": 1646604215837,
     "user": {
      "displayName": "anamim schuwarte",
      "photoUrl": "https://lh3.googleusercontent.com/a-/AOh14Ghzq9qZcfFYsN0agT4X613HRQ9BcAFbRph9vAui=s64",
      "userId": "09703653288263197532"
     },
     "user_tz": 180
    },
    "id": "cIqbVLMajHc2"
   },
   "outputs": [],
   "source": [
    "lren.iloc[0]"
   ]
  },
  {
   "cell_type": "code",
   "execution_count": null,
   "metadata": {
    "executionInfo": {
     "elapsed": 70,
     "status": "aborted",
     "timestamp": 1646604215838,
     "user": {
      "displayName": "anamim schuwarte",
      "photoUrl": "https://lh3.googleusercontent.com/a-/AOh14Ghzq9qZcfFYsN0agT4X613HRQ9BcAFbRph9vAui=s64",
      "userId": "09703653288263197532"
     },
     "user_tz": 180
    },
    "id": "7N-9HnpLjwDj"
   },
   "outputs": [],
   "source": [
    "weg.iloc[0]"
   ]
  },
  {
   "cell_type": "code",
   "execution_count": null,
   "metadata": {
    "executionInfo": {
     "elapsed": 70,
     "status": "aborted",
     "timestamp": 1646604215838,
     "user": {
      "displayName": "anamim schuwarte",
      "photoUrl": "https://lh3.googleusercontent.com/a-/AOh14Ghzq9qZcfFYsN0agT4X613HRQ9BcAFbRph9vAui=s64",
      "userId": "09703653288263197532"
     },
     "user_tz": 180
    },
    "id": "bLDC2i3ceHwm"
   },
   "outputs": [],
   "source": []
  },
  {
   "cell_type": "code",
   "execution_count": 141,
   "metadata": {
    "colab": {
     "base_uri": "https://localhost:8080/",
     "height": 423
    },
    "executionInfo": {
     "elapsed": 373,
     "status": "ok",
     "timestamp": 1646606626951,
     "user": {
      "displayName": "anamim schuwarte",
      "photoUrl": "https://lh3.googleusercontent.com/a-/AOh14Ghzq9qZcfFYsN0agT4X613HRQ9BcAFbRph9vAui=s64",
      "userId": "09703653288263197532"
     },
     "user_tz": 180
    },
    "id": "-Y_dIXeCj79Y",
    "outputId": "e19e87fa-a384-40cf-d8dd-3ae1df117f60"
   },
   "outputs": [
    {
     "data": {
      "text/html": [
       "\n",
       "  <div id=\"df-3da316b9-ba0a-4318-a521-0e96767be5d7\">\n",
       "    <div class=\"colab-df-container\">\n",
       "      <div>\n",
       "<style scoped>\n",
       "    .dataframe tbody tr th:only-of-type {\n",
       "        vertical-align: middle;\n",
       "    }\n",
       "\n",
       "    .dataframe tbody tr th {\n",
       "        vertical-align: top;\n",
       "    }\n",
       "\n",
       "    .dataframe thead th {\n",
       "        text-align: right;\n",
       "    }\n",
       "</style>\n",
       "<table border=\"1\" class=\"dataframe\">\n",
       "  <thead>\n",
       "    <tr style=\"text-align: right;\">\n",
       "      <th></th>\n",
       "      <th>Date</th>\n",
       "      <th>Open_x</th>\n",
       "      <th>High_x</th>\n",
       "      <th>Low_x</th>\n",
       "      <th>Close_x</th>\n",
       "      <th>LREN3</th>\n",
       "      <th>Volume_x</th>\n",
       "      <th>Open_y</th>\n",
       "      <th>High_y</th>\n",
       "      <th>Low_y</th>\n",
       "      <th>Close_y</th>\n",
       "      <th>WEGE3</th>\n",
       "      <th>Volume_y</th>\n",
       "    </tr>\n",
       "  </thead>\n",
       "  <tbody>\n",
       "    <tr>\n",
       "      <th>0</th>\n",
       "      <td>2017-07-24</td>\n",
       "      <td>26.470739</td>\n",
       "      <td>26.993841</td>\n",
       "      <td>26.407606</td>\n",
       "      <td>26.930710</td>\n",
       "      <td>25.177958</td>\n",
       "      <td>1731235</td>\n",
       "      <td>7.392307</td>\n",
       "      <td>7.473076</td>\n",
       "      <td>7.261538</td>\n",
       "      <td>7.426923</td>\n",
       "      <td>7.051007</td>\n",
       "      <td>2638220.0</td>\n",
       "    </tr>\n",
       "    <tr>\n",
       "      <th>1</th>\n",
       "      <td>2017-07-25</td>\n",
       "      <td>27.011879</td>\n",
       "      <td>27.318525</td>\n",
       "      <td>27.011879</td>\n",
       "      <td>27.237354</td>\n",
       "      <td>25.464643</td>\n",
       "      <td>3772040</td>\n",
       "      <td>7.476923</td>\n",
       "      <td>7.476923</td>\n",
       "      <td>7.307692</td>\n",
       "      <td>7.369230</td>\n",
       "      <td>6.996235</td>\n",
       "      <td>2505880.0</td>\n",
       "    </tr>\n",
       "    <tr>\n",
       "      <th>2</th>\n",
       "      <td>2017-07-26</td>\n",
       "      <td>27.219316</td>\n",
       "      <td>27.219316</td>\n",
       "      <td>26.064884</td>\n",
       "      <td>26.335455</td>\n",
       "      <td>24.621447</td>\n",
       "      <td>5052893</td>\n",
       "      <td>7.323076</td>\n",
       "      <td>7.442307</td>\n",
       "      <td>7.276923</td>\n",
       "      <td>7.326923</td>\n",
       "      <td>6.956069</td>\n",
       "      <td>2112240.0</td>\n",
       "    </tr>\n",
       "    <tr>\n",
       "      <th>3</th>\n",
       "      <td>2017-07-27</td>\n",
       "      <td>26.606026</td>\n",
       "      <td>26.651119</td>\n",
       "      <td>26.245264</td>\n",
       "      <td>26.569948</td>\n",
       "      <td>24.840679</td>\n",
       "      <td>1752856</td>\n",
       "      <td>7.388461</td>\n",
       "      <td>7.419230</td>\n",
       "      <td>7.223076</td>\n",
       "      <td>7.269230</td>\n",
       "      <td>6.901296</td>\n",
       "      <td>1910480.0</td>\n",
       "    </tr>\n",
       "    <tr>\n",
       "      <th>4</th>\n",
       "      <td>2017-07-28</td>\n",
       "      <td>26.281342</td>\n",
       "      <td>26.633081</td>\n",
       "      <td>26.254284</td>\n",
       "      <td>26.633081</td>\n",
       "      <td>24.899704</td>\n",
       "      <td>2374766</td>\n",
       "      <td>7.261538</td>\n",
       "      <td>7.296153</td>\n",
       "      <td>7.165384</td>\n",
       "      <td>7.200000</td>\n",
       "      <td>6.835570</td>\n",
       "      <td>2866760.0</td>\n",
       "    </tr>\n",
       "    <tr>\n",
       "      <th>...</th>\n",
       "      <td>...</td>\n",
       "      <td>...</td>\n",
       "      <td>...</td>\n",
       "      <td>...</td>\n",
       "      <td>...</td>\n",
       "      <td>...</td>\n",
       "      <td>...</td>\n",
       "      <td>...</td>\n",
       "      <td>...</td>\n",
       "      <td>...</td>\n",
       "      <td>...</td>\n",
       "      <td>...</td>\n",
       "      <td>...</td>\n",
       "    </tr>\n",
       "    <tr>\n",
       "      <th>974</th>\n",
       "      <td>2021-06-24</td>\n",
       "      <td>41.181816</td>\n",
       "      <td>41.827271</td>\n",
       "      <td>40.981819</td>\n",
       "      <td>41.518181</td>\n",
       "      <td>41.067291</td>\n",
       "      <td>5764000</td>\n",
       "      <td>34.209999</td>\n",
       "      <td>34.400002</td>\n",
       "      <td>33.889999</td>\n",
       "      <td>34.330002</td>\n",
       "      <td>34.309002</td>\n",
       "      <td>9120300.0</td>\n",
       "    </tr>\n",
       "    <tr>\n",
       "      <th>975</th>\n",
       "      <td>2021-06-25</td>\n",
       "      <td>41.400002</td>\n",
       "      <td>41.681816</td>\n",
       "      <td>40.281818</td>\n",
       "      <td>41.000000</td>\n",
       "      <td>40.554737</td>\n",
       "      <td>7143730</td>\n",
       "      <td>34.099998</td>\n",
       "      <td>34.619999</td>\n",
       "      <td>33.299999</td>\n",
       "      <td>33.560001</td>\n",
       "      <td>33.539471</td>\n",
       "      <td>5979000.0</td>\n",
       "    </tr>\n",
       "    <tr>\n",
       "      <th>976</th>\n",
       "      <td>2021-06-28</td>\n",
       "      <td>40.618179</td>\n",
       "      <td>41.336365</td>\n",
       "      <td>40.563637</td>\n",
       "      <td>41.181816</td>\n",
       "      <td>40.823570</td>\n",
       "      <td>5288250</td>\n",
       "      <td>33.560001</td>\n",
       "      <td>34.139999</td>\n",
       "      <td>32.849998</td>\n",
       "      <td>34.000000</td>\n",
       "      <td>34.000000</td>\n",
       "      <td>4461900.0</td>\n",
       "    </tr>\n",
       "    <tr>\n",
       "      <th>977</th>\n",
       "      <td>2021-06-29</td>\n",
       "      <td>41.181816</td>\n",
       "      <td>41.181816</td>\n",
       "      <td>39.754543</td>\n",
       "      <td>40.181816</td>\n",
       "      <td>39.832272</td>\n",
       "      <td>16814930</td>\n",
       "      <td>33.830002</td>\n",
       "      <td>34.869999</td>\n",
       "      <td>33.599998</td>\n",
       "      <td>34.700001</td>\n",
       "      <td>34.700001</td>\n",
       "      <td>7430800.0</td>\n",
       "    </tr>\n",
       "    <tr>\n",
       "      <th>978</th>\n",
       "      <td>2021-06-30</td>\n",
       "      <td>40.000000</td>\n",
       "      <td>40.436363</td>\n",
       "      <td>39.227272</td>\n",
       "      <td>40.209091</td>\n",
       "      <td>39.859310</td>\n",
       "      <td>22215160</td>\n",
       "      <td>34.500000</td>\n",
       "      <td>34.560001</td>\n",
       "      <td>33.580002</td>\n",
       "      <td>33.689999</td>\n",
       "      <td>33.689999</td>\n",
       "      <td>7280200.0</td>\n",
       "    </tr>\n",
       "  </tbody>\n",
       "</table>\n",
       "<p>979 rows × 13 columns</p>\n",
       "</div>\n",
       "      <button class=\"colab-df-convert\" onclick=\"convertToInteractive('df-3da316b9-ba0a-4318-a521-0e96767be5d7')\"\n",
       "              title=\"Convert this dataframe to an interactive table.\"\n",
       "              style=\"display:none;\">\n",
       "        \n",
       "  <svg xmlns=\"http://www.w3.org/2000/svg\" height=\"24px\"viewBox=\"0 0 24 24\"\n",
       "       width=\"24px\">\n",
       "    <path d=\"M0 0h24v24H0V0z\" fill=\"none\"/>\n",
       "    <path d=\"M18.56 5.44l.94 2.06.94-2.06 2.06-.94-2.06-.94-.94-2.06-.94 2.06-2.06.94zm-11 1L8.5 8.5l.94-2.06 2.06-.94-2.06-.94L8.5 2.5l-.94 2.06-2.06.94zm10 10l.94 2.06.94-2.06 2.06-.94-2.06-.94-.94-2.06-.94 2.06-2.06.94z\"/><path d=\"M17.41 7.96l-1.37-1.37c-.4-.4-.92-.59-1.43-.59-.52 0-1.04.2-1.43.59L10.3 9.45l-7.72 7.72c-.78.78-.78 2.05 0 2.83L4 21.41c.39.39.9.59 1.41.59.51 0 1.02-.2 1.41-.59l7.78-7.78 2.81-2.81c.8-.78.8-2.07 0-2.86zM5.41 20L4 18.59l7.72-7.72 1.47 1.35L5.41 20z\"/>\n",
       "  </svg>\n",
       "      </button>\n",
       "      \n",
       "  <style>\n",
       "    .colab-df-container {\n",
       "      display:flex;\n",
       "      flex-wrap:wrap;\n",
       "      gap: 12px;\n",
       "    }\n",
       "\n",
       "    .colab-df-convert {\n",
       "      background-color: #E8F0FE;\n",
       "      border: none;\n",
       "      border-radius: 50%;\n",
       "      cursor: pointer;\n",
       "      display: none;\n",
       "      fill: #1967D2;\n",
       "      height: 32px;\n",
       "      padding: 0 0 0 0;\n",
       "      width: 32px;\n",
       "    }\n",
       "\n",
       "    .colab-df-convert:hover {\n",
       "      background-color: #E2EBFA;\n",
       "      box-shadow: 0px 1px 2px rgba(60, 64, 67, 0.3), 0px 1px 3px 1px rgba(60, 64, 67, 0.15);\n",
       "      fill: #174EA6;\n",
       "    }\n",
       "\n",
       "    [theme=dark] .colab-df-convert {\n",
       "      background-color: #3B4455;\n",
       "      fill: #D2E3FC;\n",
       "    }\n",
       "\n",
       "    [theme=dark] .colab-df-convert:hover {\n",
       "      background-color: #434B5C;\n",
       "      box-shadow: 0px 1px 3px 1px rgba(0, 0, 0, 0.15);\n",
       "      filter: drop-shadow(0px 1px 2px rgba(0, 0, 0, 0.3));\n",
       "      fill: #FFFFFF;\n",
       "    }\n",
       "  </style>\n",
       "\n",
       "      <script>\n",
       "        const buttonEl =\n",
       "          document.querySelector('#df-3da316b9-ba0a-4318-a521-0e96767be5d7 button.colab-df-convert');\n",
       "        buttonEl.style.display =\n",
       "          google.colab.kernel.accessAllowed ? 'block' : 'none';\n",
       "\n",
       "        async function convertToInteractive(key) {\n",
       "          const element = document.querySelector('#df-3da316b9-ba0a-4318-a521-0e96767be5d7');\n",
       "          const dataTable =\n",
       "            await google.colab.kernel.invokeFunction('convertToInteractive',\n",
       "                                                     [key], {});\n",
       "          if (!dataTable) return;\n",
       "\n",
       "          const docLinkHtml = 'Like what you see? Visit the ' +\n",
       "            '<a target=\"_blank\" href=https://colab.research.google.com/notebooks/data_table.ipynb>data table notebook</a>'\n",
       "            + ' to learn more about interactive tables.';\n",
       "          element.innerHTML = '';\n",
       "          dataTable['output_type'] = 'display_data';\n",
       "          await google.colab.output.renderOutput(dataTable, element);\n",
       "          const docLink = document.createElement('div');\n",
       "          docLink.innerHTML = docLinkHtml;\n",
       "          element.appendChild(docLink);\n",
       "        }\n",
       "      </script>\n",
       "    </div>\n",
       "  </div>\n",
       "  "
      ],
      "text/plain": [
       "          Date     Open_x     High_x      Low_x    Close_x      LREN3  \\\n",
       "0   2017-07-24  26.470739  26.993841  26.407606  26.930710  25.177958   \n",
       "1   2017-07-25  27.011879  27.318525  27.011879  27.237354  25.464643   \n",
       "2   2017-07-26  27.219316  27.219316  26.064884  26.335455  24.621447   \n",
       "3   2017-07-27  26.606026  26.651119  26.245264  26.569948  24.840679   \n",
       "4   2017-07-28  26.281342  26.633081  26.254284  26.633081  24.899704   \n",
       "..         ...        ...        ...        ...        ...        ...   \n",
       "974 2021-06-24  41.181816  41.827271  40.981819  41.518181  41.067291   \n",
       "975 2021-06-25  41.400002  41.681816  40.281818  41.000000  40.554737   \n",
       "976 2021-06-28  40.618179  41.336365  40.563637  41.181816  40.823570   \n",
       "977 2021-06-29  41.181816  41.181816  39.754543  40.181816  39.832272   \n",
       "978 2021-06-30  40.000000  40.436363  39.227272  40.209091  39.859310   \n",
       "\n",
       "     Volume_x     Open_y     High_y      Low_y    Close_y      WEGE3  \\\n",
       "0     1731235   7.392307   7.473076   7.261538   7.426923   7.051007   \n",
       "1     3772040   7.476923   7.476923   7.307692   7.369230   6.996235   \n",
       "2     5052893   7.323076   7.442307   7.276923   7.326923   6.956069   \n",
       "3     1752856   7.388461   7.419230   7.223076   7.269230   6.901296   \n",
       "4     2374766   7.261538   7.296153   7.165384   7.200000   6.835570   \n",
       "..        ...        ...        ...        ...        ...        ...   \n",
       "974   5764000  34.209999  34.400002  33.889999  34.330002  34.309002   \n",
       "975   7143730  34.099998  34.619999  33.299999  33.560001  33.539471   \n",
       "976   5288250  33.560001  34.139999  32.849998  34.000000  34.000000   \n",
       "977  16814930  33.830002  34.869999  33.599998  34.700001  34.700001   \n",
       "978  22215160  34.500000  34.560001  33.580002  33.689999  33.689999   \n",
       "\n",
       "      Volume_y  \n",
       "0    2638220.0  \n",
       "1    2505880.0  \n",
       "2    2112240.0  \n",
       "3    1910480.0  \n",
       "4    2866760.0  \n",
       "..         ...  \n",
       "974  9120300.0  \n",
       "975  5979000.0  \n",
       "976  4461900.0  \n",
       "977  7430800.0  \n",
       "978  7280200.0  \n",
       "\n",
       "[979 rows x 13 columns]"
      ]
     },
     "execution_count": 141,
     "metadata": {},
     "output_type": "execute_result"
    }
   ],
   "source": [
    "novo_df"
   ]
  },
  {
   "cell_type": "code",
   "execution_count": 142,
   "metadata": {
    "executionInfo": {
     "elapsed": 385,
     "status": "ok",
     "timestamp": 1646606634332,
     "user": {
      "displayName": "anamim schuwarte",
      "photoUrl": "https://lh3.googleusercontent.com/a-/AOh14Ghzq9qZcfFYsN0agT4X613HRQ9BcAFbRph9vAui=s64",
      "userId": "09703653288263197532"
     },
     "user_tz": 180
    },
    "id": "jSfDbP-PcY24"
   },
   "outputs": [],
   "source": [
    "cotacoes = novo_df[['LREN3', 'WEGE3']]"
   ]
  },
  {
   "cell_type": "code",
   "execution_count": 143,
   "metadata": {
    "colab": {
     "base_uri": "https://localhost:8080/",
     "height": 206
    },
    "executionInfo": {
     "elapsed": 383,
     "status": "ok",
     "timestamp": 1646606638659,
     "user": {
      "displayName": "anamim schuwarte",
      "photoUrl": "https://lh3.googleusercontent.com/a-/AOh14Ghzq9qZcfFYsN0agT4X613HRQ9BcAFbRph9vAui=s64",
      "userId": "09703653288263197532"
     },
     "user_tz": 180
    },
    "id": "C7VQ6LlGebvu",
    "outputId": "2209fcab-2cbc-44b8-f9ca-a7d94e86e70b"
   },
   "outputs": [
    {
     "data": {
      "text/html": [
       "\n",
       "  <div id=\"df-767a1bb9-97b9-401f-ab90-31c5b2a87919\">\n",
       "    <div class=\"colab-df-container\">\n",
       "      <div>\n",
       "<style scoped>\n",
       "    .dataframe tbody tr th:only-of-type {\n",
       "        vertical-align: middle;\n",
       "    }\n",
       "\n",
       "    .dataframe tbody tr th {\n",
       "        vertical-align: top;\n",
       "    }\n",
       "\n",
       "    .dataframe thead th {\n",
       "        text-align: right;\n",
       "    }\n",
       "</style>\n",
       "<table border=\"1\" class=\"dataframe\">\n",
       "  <thead>\n",
       "    <tr style=\"text-align: right;\">\n",
       "      <th></th>\n",
       "      <th>LREN3</th>\n",
       "      <th>WEGE3</th>\n",
       "    </tr>\n",
       "  </thead>\n",
       "  <tbody>\n",
       "    <tr>\n",
       "      <th>0</th>\n",
       "      <td>25.177958</td>\n",
       "      <td>7.051007</td>\n",
       "    </tr>\n",
       "    <tr>\n",
       "      <th>1</th>\n",
       "      <td>25.464643</td>\n",
       "      <td>6.996235</td>\n",
       "    </tr>\n",
       "    <tr>\n",
       "      <th>2</th>\n",
       "      <td>24.621447</td>\n",
       "      <td>6.956069</td>\n",
       "    </tr>\n",
       "    <tr>\n",
       "      <th>3</th>\n",
       "      <td>24.840679</td>\n",
       "      <td>6.901296</td>\n",
       "    </tr>\n",
       "    <tr>\n",
       "      <th>4</th>\n",
       "      <td>24.899704</td>\n",
       "      <td>6.835570</td>\n",
       "    </tr>\n",
       "  </tbody>\n",
       "</table>\n",
       "</div>\n",
       "      <button class=\"colab-df-convert\" onclick=\"convertToInteractive('df-767a1bb9-97b9-401f-ab90-31c5b2a87919')\"\n",
       "              title=\"Convert this dataframe to an interactive table.\"\n",
       "              style=\"display:none;\">\n",
       "        \n",
       "  <svg xmlns=\"http://www.w3.org/2000/svg\" height=\"24px\"viewBox=\"0 0 24 24\"\n",
       "       width=\"24px\">\n",
       "    <path d=\"M0 0h24v24H0V0z\" fill=\"none\"/>\n",
       "    <path d=\"M18.56 5.44l.94 2.06.94-2.06 2.06-.94-2.06-.94-.94-2.06-.94 2.06-2.06.94zm-11 1L8.5 8.5l.94-2.06 2.06-.94-2.06-.94L8.5 2.5l-.94 2.06-2.06.94zm10 10l.94 2.06.94-2.06 2.06-.94-2.06-.94-.94-2.06-.94 2.06-2.06.94z\"/><path d=\"M17.41 7.96l-1.37-1.37c-.4-.4-.92-.59-1.43-.59-.52 0-1.04.2-1.43.59L10.3 9.45l-7.72 7.72c-.78.78-.78 2.05 0 2.83L4 21.41c.39.39.9.59 1.41.59.51 0 1.02-.2 1.41-.59l7.78-7.78 2.81-2.81c.8-.78.8-2.07 0-2.86zM5.41 20L4 18.59l7.72-7.72 1.47 1.35L5.41 20z\"/>\n",
       "  </svg>\n",
       "      </button>\n",
       "      \n",
       "  <style>\n",
       "    .colab-df-container {\n",
       "      display:flex;\n",
       "      flex-wrap:wrap;\n",
       "      gap: 12px;\n",
       "    }\n",
       "\n",
       "    .colab-df-convert {\n",
       "      background-color: #E8F0FE;\n",
       "      border: none;\n",
       "      border-radius: 50%;\n",
       "      cursor: pointer;\n",
       "      display: none;\n",
       "      fill: #1967D2;\n",
       "      height: 32px;\n",
       "      padding: 0 0 0 0;\n",
       "      width: 32px;\n",
       "    }\n",
       "\n",
       "    .colab-df-convert:hover {\n",
       "      background-color: #E2EBFA;\n",
       "      box-shadow: 0px 1px 2px rgba(60, 64, 67, 0.3), 0px 1px 3px 1px rgba(60, 64, 67, 0.15);\n",
       "      fill: #174EA6;\n",
       "    }\n",
       "\n",
       "    [theme=dark] .colab-df-convert {\n",
       "      background-color: #3B4455;\n",
       "      fill: #D2E3FC;\n",
       "    }\n",
       "\n",
       "    [theme=dark] .colab-df-convert:hover {\n",
       "      background-color: #434B5C;\n",
       "      box-shadow: 0px 1px 3px 1px rgba(0, 0, 0, 0.15);\n",
       "      filter: drop-shadow(0px 1px 2px rgba(0, 0, 0, 0.3));\n",
       "      fill: #FFFFFF;\n",
       "    }\n",
       "  </style>\n",
       "\n",
       "      <script>\n",
       "        const buttonEl =\n",
       "          document.querySelector('#df-767a1bb9-97b9-401f-ab90-31c5b2a87919 button.colab-df-convert');\n",
       "        buttonEl.style.display =\n",
       "          google.colab.kernel.accessAllowed ? 'block' : 'none';\n",
       "\n",
       "        async function convertToInteractive(key) {\n",
       "          const element = document.querySelector('#df-767a1bb9-97b9-401f-ab90-31c5b2a87919');\n",
       "          const dataTable =\n",
       "            await google.colab.kernel.invokeFunction('convertToInteractive',\n",
       "                                                     [key], {});\n",
       "          if (!dataTable) return;\n",
       "\n",
       "          const docLinkHtml = 'Like what you see? Visit the ' +\n",
       "            '<a target=\"_blank\" href=https://colab.research.google.com/notebooks/data_table.ipynb>data table notebook</a>'\n",
       "            + ' to learn more about interactive tables.';\n",
       "          element.innerHTML = '';\n",
       "          dataTable['output_type'] = 'display_data';\n",
       "          await google.colab.output.renderOutput(dataTable, element);\n",
       "          const docLink = document.createElement('div');\n",
       "          docLink.innerHTML = docLinkHtml;\n",
       "          element.appendChild(docLink);\n",
       "        }\n",
       "      </script>\n",
       "    </div>\n",
       "  </div>\n",
       "  "
      ],
      "text/plain": [
       "       LREN3     WEGE3\n",
       "0  25.177958  7.051007\n",
       "1  25.464643  6.996235\n",
       "2  24.621447  6.956069\n",
       "3  24.840679  6.901296\n",
       "4  24.899704  6.835570"
      ]
     },
     "execution_count": 143,
     "metadata": {},
     "output_type": "execute_result"
    }
   ],
   "source": [
    "cotacoes.head()"
   ]
  },
  {
   "cell_type": "code",
   "execution_count": null,
   "metadata": {
    "executionInfo": {
     "elapsed": 73,
     "status": "aborted",
     "timestamp": 1646604215843,
     "user": {
      "displayName": "anamim schuwarte",
      "photoUrl": "https://lh3.googleusercontent.com/a-/AOh14Ghzq9qZcfFYsN0agT4X613HRQ9BcAFbRph9vAui=s64",
      "userId": "09703653288263197532"
     },
     "user_tz": 180
    },
    "id": "ZQX6RuzseeOz"
   },
   "outputs": [],
   "source": [
    "cotacoes.plot();"
   ]
  },
  {
   "cell_type": "code",
   "execution_count": null,
   "metadata": {
    "executionInfo": {
     "elapsed": 75,
     "status": "aborted",
     "timestamp": 1646604215845,
     "user": {
      "displayName": "anamim schuwarte",
      "photoUrl": "https://lh3.googleusercontent.com/a-/AOh14Ghzq9qZcfFYsN0agT4X613HRQ9BcAFbRph9vAui=s64",
      "userId": "09703653288263197532"
     },
     "user_tz": 180
    },
    "id": "2tIQYipKeu4w"
   },
   "outputs": [],
   "source": []
  }
 ],
 "metadata": {
  "colab": {
   "authorship_tag": "ABX9TyMJnUWFscCZ/o/w1xpT2dnk",
   "collapsed_sections": [
    "aD6pjO7LwLJs",
    "aQSpb-V8zZ5D"
   ],
   "mount_file_id": "1eZozZHKwNicbXz5KH4BClrpb6Ndl8UlE",
   "name": "bibliotecas.ipynb",
   "provenance": []
  },
  "kernelspec": {
   "display_name": "Python 3 (Spyder)",
   "language": "python3",
   "name": "python3"
  },
  "language_info": {
   "codemirror_mode": {
    "name": "ipython",
    "version": 3
   },
   "file_extension": ".py",
   "mimetype": "text/x-python",
   "name": "python",
   "nbconvert_exporter": "python",
   "pygments_lexer": "ipython3",
   "version": "3.9.16"
  }
 },
 "nbformat": 4,
 "nbformat_minor": 4
}
