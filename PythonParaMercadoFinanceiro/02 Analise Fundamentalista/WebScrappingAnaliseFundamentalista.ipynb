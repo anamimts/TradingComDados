{
 "cells": [
  {
   "cell_type": "markdown",
   "metadata": {
    "id": "Y7F6FWbj_gXw"
   },
   "source": [
    "## 1. Obtendo dados cadastrais de empresas de capital aberto"
   ]
  },
  {
   "cell_type": "code",
   "execution_count": null,
   "metadata": {
    "executionInfo": {
     "elapsed": 560,
     "status": "ok",
     "timestamp": 1662576129254,
     "user": {
      "displayName": "anamim schuwarte",
      "userId": "09703653288263197532"
     },
     "user_tz": 180
    },
    "id": "pdQogXi5sFZA"
   },
   "outputs": [],
   "source": [
    "import pandas as pd\n",
    "import numpy as np\n",
    "import requests"
   ]
  },
  {
   "cell_type": "code",
   "execution_count": null,
   "metadata": {
    "executionInfo": {
     "elapsed": 59,
     "status": "ok",
     "timestamp": 1662576129263,
     "user": {
      "displayName": "anamim schuwarte",
      "userId": "09703653288263197532"
     },
     "user_tz": 180
    },
    "id": "oUwxEgk3sPkM"
   },
   "outputs": [],
   "source": [
    "link = 'http://dados.cvm.gov.br/dados/CIA_ABERTA/CAD/DADOS/cad_cia_aberta.csv'"
   ]
  },
  {
   "cell_type": "code",
   "execution_count": null,
   "metadata": {
    "executionInfo": {
     "elapsed": 28771,
     "status": "ok",
     "timestamp": 1662576157977,
     "user": {
      "displayName": "anamim schuwarte",
      "userId": "09703653288263197532"
     },
     "user_tz": 180
    },
    "id": "-BLVPi90skdv"
   },
   "outputs": [],
   "source": [
    "r = requests.get(link)"
   ]
  },
  {
   "cell_type": "code",
   "execution_count": null,
   "metadata": {
    "executionInfo": {
     "elapsed": 4299,
     "status": "ok",
     "timestamp": 1662576162257,
     "user": {
      "displayName": "anamim schuwarte",
      "userId": "09703653288263197532"
     },
     "user_tz": 180
    },
    "id": "R4SYUOo1sv1B"
   },
   "outputs": [],
   "source": [
    "# gerando uma lista a partir do arquivo usando um for \n",
    "linhas = []\n",
    "# for i in r.text.split('\\n'):\n",
    "#  linhas.append(i.strip().split(';'))\n",
    "\n",
    "# O mesmo pode ser feito usando list comprehension, uma sintaxe do Python que permite gerar a lista de forma mais eficiente e com sintaxe reduzida \n",
    "linhas = [i.strip().split(';') for i in r.text.split('\\n') ]\n"
   ]
  },
  {
   "cell_type": "code",
   "execution_count": null,
   "metadata": {
    "colab": {
     "base_uri": "https://localhost:8080/"
    },
    "executionInfo": {
     "elapsed": 4773,
     "status": "ok",
     "timestamp": 1662576166934,
     "user": {
      "displayName": "anamim schuwarte",
      "userId": "09703653288263197532"
     },
     "user_tz": 180
    },
    "id": "aTqVtgDftSGv",
    "outputId": "ed93fbf6-8552-4e45-83be-5d17e5b8ab85"
   },
   "outputs": [],
   "source": [
    "linhas"
   ]
  },
  {
   "cell_type": "code",
   "execution_count": null,
   "metadata": {
    "executionInfo": {
     "elapsed": 2359,
     "status": "ok",
     "timestamp": 1662576166947,
     "user": {
      "displayName": "anamim schuwarte",
      "userId": "09703653288263197532"
     },
     "user_tz": 180
    },
    "id": "7Hktl-wmxCgN"
   },
   "outputs": [],
   "source": [
    "# Gerando um DataFrame usando a função DataFrame do pandas\n",
    "df = pd.DataFrame(linhas[1:],columns = linhas[0])"
   ]
  },
  {
   "cell_type": "code",
   "execution_count": null,
   "metadata": {
    "colab": {
     "base_uri": "https://localhost:8080/",
     "height": 376
    },
    "executionInfo": {
     "elapsed": 2350,
     "status": "ok",
     "timestamp": 1662576166964,
     "user": {
      "displayName": "anamim schuwarte",
      "userId": "09703653288263197532"
     },
     "user_tz": 180
    },
    "id": "F3TtIjU5CGDZ",
    "outputId": "c8288b8a-fb98-47b1-8ba6-7713dfbf9b33"
   },
   "outputs": [],
   "source": [
    "df[df.DENOM_SOCIAL.str.contains('ALIANSCE', na=False)]"
   ]
  },
  {
   "cell_type": "code",
   "execution_count": null,
   "metadata": {
    "colab": {
     "base_uri": "https://localhost:8080/"
    },
    "executionInfo": {
     "elapsed": 2319,
     "status": "ok",
     "timestamp": 1662576166967,
     "user": {
      "displayName": "anamim schuwarte",
      "userId": "09703653288263197532"
     },
     "user_tz": 180
    },
    "id": "rHIeFOhFBer3",
    "outputId": "7bc238d6-7492-47ea-aad1-e7d6c10a6a36"
   },
   "outputs": [],
   "source": [
    "df.shape"
   ]
  },
  {
   "cell_type": "code",
   "execution_count": null,
   "metadata": {
    "colab": {
     "base_uri": "https://localhost:8080/",
     "height": 577
    },
    "executionInfo": {
     "elapsed": 146,
     "status": "ok",
     "timestamp": 1662576166980,
     "user": {
      "displayName": "anamim schuwarte",
      "userId": "09703653288263197532"
     },
     "user_tz": 180
    },
    "id": "uekBF9iR2k6k",
    "outputId": "2d49ddfc-f3ab-4de7-ab60-b38372b0fd33"
   },
   "outputs": [],
   "source": [
    "df.head()"
   ]
  },
  {
   "cell_type": "code",
   "execution_count": null,
   "metadata": {
    "executionInfo": {
     "elapsed": 146,
     "status": "ok",
     "timestamp": 1662576166984,
     "user": {
      "displayName": "anamim schuwarte",
      "userId": "09703653288263197532"
     },
     "user_tz": 180
    },
    "id": "AfzroE0r2miI"
   },
   "outputs": [],
   "source": [
    "# Filtrando emrpesas de um setor específico\n",
    "searchfor = ['MULTIPLAN', 'MALL', 'IGUATEMI', 'SHOPP']\n",
    "shoppings = df[df.DENOM_SOCIAL.str.contains('|'.join(searchfor),na = False)]"
   ]
  },
  {
   "cell_type": "code",
   "execution_count": null,
   "metadata": {
    "colab": {
     "base_uri": "https://localhost:8080/",
     "height": 1000
    },
    "executionInfo": {
     "elapsed": 147,
     "status": "ok",
     "timestamp": 1662576166986,
     "user": {
      "displayName": "anamim schuwarte",
      "userId": "09703653288263197532"
     },
     "user_tz": 180
    },
    "id": "NfLI7UJX9gCX",
    "outputId": "bcb0bd41-b0f9-4680-fae4-3459a2a82e36"
   },
   "outputs": [],
   "source": [
    "shoppings"
   ]
  },
  {
   "cell_type": "code",
   "execution_count": null,
   "metadata": {
    "executionInfo": {
     "elapsed": 144,
     "status": "ok",
     "timestamp": 1662576166987,
     "user": {
      "displayName": "anamim schuwarte",
      "userId": "09703653288263197532"
     },
     "user_tz": 180
    },
    "id": "PqUjhTNK9uuD"
   },
   "outputs": [],
   "source": [
    "shoppings_ativos = shoppings[shoppings.SIT == 'ATIVO'] \n",
    "\n",
    "# shoppings = df[df.DENOM_SOCIAL.str.contains('|'.join(searchfor),na = False)]"
   ]
  },
  {
   "cell_type": "code",
   "execution_count": null,
   "metadata": {
    "colab": {
     "base_uri": "https://localhost:8080/"
    },
    "executionInfo": {
     "elapsed": 145,
     "status": "ok",
     "timestamp": 1662576166989,
     "user": {
      "displayName": "anamim schuwarte",
      "userId": "09703653288263197532"
     },
     "user_tz": 180
    },
    "id": "AjDqHaBS-zbH",
    "outputId": "7a5a65e5-5f3f-4747-babd-925912915a07"
   },
   "outputs": [],
   "source": [
    "shoppings_ativos.shape"
   ]
  },
  {
   "cell_type": "code",
   "execution_count": null,
   "metadata": {
    "colab": {
     "base_uri": "https://localhost:8080/",
     "height": 1000
    },
    "executionInfo": {
     "elapsed": 1498,
     "status": "ok",
     "timestamp": 1662576168347,
     "user": {
      "displayName": "anamim schuwarte",
      "userId": "09703653288263197532"
     },
     "user_tz": 180
    },
    "id": "xeMoKKY1-5JO",
    "outputId": "893da22c-78b6-4f59-9fc4-6aa1f8d84f16"
   },
   "outputs": [],
   "source": [
    "shoppings_ativos"
   ]
  },
  {
   "cell_type": "code",
   "execution_count": null,
   "metadata": {
    "colab": {
     "base_uri": "https://localhost:8080/"
    },
    "executionInfo": {
     "elapsed": 89,
     "status": "ok",
     "timestamp": 1662576168349,
     "user": {
      "displayName": "anamim schuwarte",
      "userId": "09703653288263197532"
     },
     "user_tz": 180
    },
    "id": "lQhdhQEy_ACK",
    "outputId": "064ae668-795d-41ff-ff78-8f4035518af3"
   },
   "outputs": [],
   "source": [
    "list(shoppings_ativos['CD_CVM'])"
   ]
  },
  {
   "cell_type": "markdown",
   "metadata": {
    "id": "bCdL3g3J5DrT"
   },
   "source": [
    "### Filtrando por CNPJ"
   ]
  },
  {
   "cell_type": "code",
   "execution_count": null,
   "metadata": {
    "executionInfo": {
     "elapsed": 71,
     "status": "ok",
     "timestamp": 1662576168350,
     "user": {
      "displayName": "anamim schuwarte",
      "userId": "09703653288263197532"
     },
     "user_tz": 180
    },
    "id": "gQkhJCL29AC5"
   },
   "outputs": [],
   "source": [
    "# mostrar todas as colunas do dataframe\n",
    "pd.set_option('display.max_columns', None)"
   ]
  },
  {
   "cell_type": "code",
   "execution_count": null,
   "metadata": {
    "executionInfo": {
     "elapsed": 71,
     "status": "ok",
     "timestamp": 1662576168351,
     "user": {
      "displayName": "anamim schuwarte",
      "userId": "09703653288263197532"
     },
     "user_tz": 180
    },
    "id": "vja4KJFI5UBr"
   },
   "outputs": [],
   "source": [
    "# lista_cnpjs = ['05.878.397/0001-32','08.294.224/0001-65', '07.816.890/0001-53', '51.218.147/0001-93', '06.977.751/0001-49']\n",
    "lista_cnpjs = ['05.878.397/0001-32', '07.816.890/0001-53', '51.218.147/0001-93', '06.977.751/0001-49','06.977.745/0001-91']\n"
   ]
  },
  {
   "cell_type": "code",
   "execution_count": null,
   "metadata": {
    "executionInfo": {
     "elapsed": 70,
     "status": "ok",
     "timestamp": 1662576168352,
     "user": {
      "displayName": "anamim schuwarte",
      "userId": "09703653288263197532"
     },
     "user_tz": 180
    },
    "id": "fJZDomLl5Yh_"
   },
   "outputs": [],
   "source": [
    "filtrados = df[df['CNPJ_CIA'].isin(lista_cnpjs)]"
   ]
  },
  {
   "cell_type": "code",
   "execution_count": null,
   "metadata": {
    "colab": {
     "base_uri": "https://localhost:8080/",
     "height": 885
    },
    "executionInfo": {
     "elapsed": 70,
     "status": "ok",
     "timestamp": 1662576168353,
     "user": {
      "displayName": "anamim schuwarte",
      "userId": "09703653288263197532"
     },
     "user_tz": 180
    },
    "id": "SKKDsOh26UBk",
    "outputId": "22d43e0b-9b5b-4a65-ade4-2ee0e44fa5b8"
   },
   "outputs": [],
   "source": [
    "filtrados"
   ]
  },
  {
   "cell_type": "code",
   "execution_count": null,
   "metadata": {
    "executionInfo": {
     "elapsed": 70,
     "status": "ok",
     "timestamp": 1662576168356,
     "user": {
      "displayName": "anamim schuwarte",
      "userId": "09703653288263197532"
     },
     "user_tz": 180
    },
    "id": "z2ObDel87yBS"
   },
   "outputs": [],
   "source": [
    "filtrados = filtrados[filtrados.TP_MERC.str.contains('BOLSA', na=False)]"
   ]
  },
  {
   "cell_type": "code",
   "execution_count": null,
   "metadata": {
    "colab": {
     "base_uri": "https://localhost:8080/",
     "height": 600
    },
    "executionInfo": {
     "elapsed": 70,
     "status": "ok",
     "timestamp": 1662576168358,
     "user": {
      "displayName": "anamim schuwarte",
      "userId": "09703653288263197532"
     },
     "user_tz": 180
    },
    "id": "DWraIxig-nSU",
    "outputId": "9e1ddd07-c767-4dd3-f5fa-e741633c1296"
   },
   "outputs": [],
   "source": [
    "filtrados"
   ]
  },
  {
   "cell_type": "code",
   "execution_count": null,
   "metadata": {
    "executionInfo": {
     "elapsed": 69,
     "status": "ok",
     "timestamp": 1662576168362,
     "user": {
      "displayName": "anamim schuwarte",
      "userId": "09703653288263197532"
     },
     "user_tz": 180
    },
    "id": "o6MCdPM4MJM9"
   },
   "outputs": [],
   "source": []
  },
  {
   "cell_type": "code",
   "execution_count": null,
   "metadata": {
    "colab": {
     "base_uri": "https://localhost:8080/"
    },
    "executionInfo": {
     "elapsed": 70,
     "status": "ok",
     "timestamp": 1662576168364,
     "user": {
      "displayName": "anamim schuwarte",
      "userId": "09703653288263197532"
     },
     "user_tz": 180
    },
    "id": "n8s8fq_3-3A6",
    "outputId": "a8db934d-329b-46cd-f7f9-f1b73fad4e81"
   },
   "outputs": [],
   "source": [
    "list(filtrados['CD_CVM'])"
   ]
  },
  {
   "cell_type": "markdown",
   "metadata": {
    "id": "mJ8qanRC-7sX"
   },
   "source": [
    "## 2. Extração dos demonstrativos trimestrais das empresas "
   ]
  },
  {
   "cell_type": "code",
   "execution_count": null,
   "metadata": {
    "executionInfo": {
     "elapsed": 65,
     "status": "ok",
     "timestamp": 1662576168365,
     "user": {
      "displayName": "anamim schuwarte",
      "userId": "09703653288263197532"
     },
     "user_tz": 180
    },
    "id": "_qe_QJ_z1vex"
   },
   "outputs": [],
   "source": [
    "import io\n",
    "import zipfile"
   ]
  },
  {
   "cell_type": "code",
   "execution_count": null,
   "metadata": {
    "executionInfo": {
     "elapsed": 65,
     "status": "ok",
     "timestamp": 1662576168366,
     "user": {
      "displayName": "anamim schuwarte",
      "userId": "09703653288263197532"
     },
     "user_tz": 180
    },
    "id": "uVO3X954e45v"
   },
   "outputs": [],
   "source": [
    "link = 'http://dados.cvm.gov.br/dados/CIA_ABERTA/DOC/ITR/DADOS/itr_cia_aberta_2021.zip'\n",
    "arquivo = 'itr_cia_aberta_DRE_con_2021.csv'"
   ]
  },
  {
   "cell_type": "code",
   "execution_count": null,
   "metadata": {
    "executionInfo": {
     "elapsed": 390647,
     "status": "ok",
     "timestamp": 1662576558949,
     "user": {
      "displayName": "anamim schuwarte",
      "userId": "09703653288263197532"
     },
     "user_tz": 180
    },
    "id": "_ANDczs-jwcK"
   },
   "outputs": [],
   "source": [
    "# busca arquivo zip no site \n",
    "arquivo_zip = requests.get(link)\n",
    "# abre o arquivo zip para uso \n",
    "zf = zipfile.ZipFile(io.BytesIO(arquivo_zip.content))"
   ]
  },
  {
   "cell_type": "code",
   "execution_count": null,
   "metadata": {
    "colab": {
     "base_uri": "https://localhost:8080/"
    },
    "executionInfo": {
     "elapsed": 41,
     "status": "ok",
     "timestamp": 1662576558950,
     "user": {
      "displayName": "anamim schuwarte",
      "userId": "09703653288263197532"
     },
     "user_tz": 180
    },
    "id": "2Q3Orr5MqV5z",
    "outputId": "d19b5220-aee3-466d-906a-89c72346cb45"
   },
   "outputs": [],
   "source": [
    "zf"
   ]
  },
  {
   "cell_type": "code",
   "execution_count": null,
   "metadata": {
    "executionInfo": {
     "elapsed": 16,
     "status": "ok",
     "timestamp": 1662576558951,
     "user": {
      "displayName": "anamim schuwarte",
      "userId": "09703653288263197532"
     },
     "user_tz": 180
    },
    "id": "o-CM0lJfqdX0"
   },
   "outputs": [],
   "source": [
    "# abrindo o arquivo itr_cia_aberta_DRE_con_2021.csv que está dentro do zip\n",
    "DRE = zf.open(arquivo)"
   ]
  },
  {
   "cell_type": "code",
   "execution_count": null,
   "metadata": {
    "colab": {
     "base_uri": "https://localhost:8080/"
    },
    "executionInfo": {
     "elapsed": 17,
     "status": "ok",
     "timestamp": 1662576558953,
     "user": {
      "displayName": "anamim schuwarte",
      "userId": "09703653288263197532"
     },
     "user_tz": 180
    },
    "id": "f-kRvDIDrLB0",
    "outputId": "df0f5dd2-1b15-489f-8cfd-ebccc90cb724"
   },
   "outputs": [],
   "source": [
    "# para saber qual o tipo do objeto use a função \"type(objeto)\"\n",
    "type(DRE)"
   ]
  },
  {
   "cell_type": "code",
   "execution_count": null,
   "metadata": {
    "executionInfo": {
     "elapsed": 678,
     "status": "ok",
     "timestamp": 1662576559620,
     "user": {
      "displayName": "anamim schuwarte",
      "userId": "09703653288263197532"
     },
     "user_tz": 180
    },
    "id": "y_hZkIAwrO1v"
   },
   "outputs": [],
   "source": [
    "# extraindo o conteudo do arquivo para uma lista\n",
    "linhas = DRE.readlines()"
   ]
  },
  {
   "cell_type": "code",
   "execution_count": null,
   "metadata": {
    "executionInfo": {
     "elapsed": 24,
     "status": "ok",
     "timestamp": 1662576559621,
     "user": {
      "displayName": "anamim schuwarte",
      "userId": "09703653288263197532"
     },
     "user_tz": 180
    },
    "id": "9mKM75_deutf"
   },
   "outputs": [],
   "source": [
    "# a lista \"linhas\" possui todas as linhas do arquivo DRE\n",
    "linhas\n",
    "# porém é necessário extrair os espaços extras usando a função strip e usar decode para exibição correta dos caracteres da lingua portuguesa\n",
    "lines = [i.strip().decode('ISO-8859-1') for i in linhas ]"
   ]
  },
  {
   "cell_type": "code",
   "execution_count": null,
   "metadata": {
    "colab": {
     "base_uri": "https://localhost:8080/"
    },
    "executionInfo": {
     "elapsed": 24,
     "status": "ok",
     "timestamp": 1662576559623,
     "user": {
      "displayName": "anamim schuwarte",
      "userId": "09703653288263197532"
     },
     "user_tz": 180
    },
    "id": "9FxbmpTge37d",
    "outputId": "ec60a922-6eef-403d-c30c-c646473a1421"
   },
   "outputs": [],
   "source": [
    "lines"
   ]
  },
  {
   "cell_type": "code",
   "execution_count": null,
   "metadata": {
    "executionInfo": {
     "elapsed": 396,
     "status": "ok",
     "timestamp": 1662576560012,
     "user": {
      "displayName": "anamim schuwarte",
      "userId": "09703653288263197532"
     },
     "user_tz": 180
    },
    "id": "sJR1KC89jY9z"
   },
   "outputs": [],
   "source": [
    "# transformando cada linha em line em listas usando o ; para \"quebrar\" as informações\n",
    "lines = [i.split(';') for i in lines ]"
   ]
  },
  {
   "cell_type": "code",
   "execution_count": null,
   "metadata": {
    "executionInfo": {
     "elapsed": 474,
     "status": "ok",
     "timestamp": 1662576560481,
     "user": {
      "displayName": "anamim schuwarte",
      "userId": "09703653288263197532"
     },
     "user_tz": 180
    },
    "id": "1g8vPv5UkIAd"
   },
   "outputs": [],
   "source": [
    "# Gerando um DataFrame usando a função DataFrame do pandas\n",
    "df = pd.DataFrame(lines[1:],columns = lines[0])"
   ]
  },
  {
   "cell_type": "code",
   "execution_count": null,
   "metadata": {
    "colab": {
     "base_uri": "https://localhost:8080/",
     "height": 424
    },
    "executionInfo": {
     "elapsed": 45,
     "status": "ok",
     "timestamp": 1662576560487,
     "user": {
      "displayName": "anamim schuwarte",
      "userId": "09703653288263197532"
     },
     "user_tz": 180
    },
    "id": "frc63waNR2jO",
    "outputId": "3bc616f0-d85c-45f1-cfc3-55937352df38"
   },
   "outputs": [],
   "source": [
    "df.head()"
   ]
  },
  {
   "cell_type": "code",
   "execution_count": null,
   "metadata": {
    "colab": {
     "base_uri": "https://localhost:8080/",
     "height": 884
    },
    "executionInfo": {
     "elapsed": 43,
     "status": "ok",
     "timestamp": 1662576560488,
     "user": {
      "displayName": "anamim schuwarte",
      "userId": "09703653288263197532"
     },
     "user_tz": 180
    },
    "id": "n6VCshR0R5QD",
    "outputId": "714a1ac8-4154-4b9b-8769-8fd71e024d99"
   },
   "outputs": [],
   "source": [
    "# os dados dos demonstrativos trazem o código CVM com um zero acrescido a esquerda\n",
    "df[df['CD_CVM']=='019909']"
   ]
  },
  {
   "cell_type": "code",
   "execution_count": null,
   "metadata": {
    "colab": {
     "base_uri": "https://localhost:8080/"
    },
    "executionInfo": {
     "elapsed": 43,
     "status": "ok",
     "timestamp": 1662576560490,
     "user": {
      "displayName": "anamim schuwarte",
      "userId": "09703653288263197532"
     },
     "user_tz": 180
    },
    "id": "yKZS9gXal9kH",
    "outputId": "6fda0555-5ae5-4fd3-fd67-ea73fa2b8a7d"
   },
   "outputs": [],
   "source": [
    "df.dtypes"
   ]
  },
  {
   "cell_type": "markdown",
   "metadata": {
    "id": "lPUJc1T8TbaG"
   },
   "source": [
    "## 3. Criação da rotina de extração"
   ]
  },
  {
   "cell_type": "code",
   "execution_count": null,
   "metadata": {
    "colab": {
     "base_uri": "https://localhost:8080/"
    },
    "executionInfo": {
     "elapsed": 37,
     "status": "ok",
     "timestamp": 1662576560491,
     "user": {
      "displayName": "anamim schuwarte",
      "userId": "09703653288263197532"
     },
     "user_tz": 180
    },
    "id": "Lsa8kK2TV3rn",
    "outputId": "8fed762c-1c78-41ee-9df4-e541e33c198b"
   },
   "outputs": [],
   "source": [
    "df.DT_FIM_EXERC.unique()"
   ]
  },
  {
   "cell_type": "code",
   "execution_count": null,
   "metadata": {
    "colab": {
     "base_uri": "https://localhost:8080/"
    },
    "executionInfo": {
     "elapsed": 35,
     "status": "ok",
     "timestamp": 1662576560493,
     "user": {
      "displayName": "anamim schuwarte",
      "userId": "09703653288263197532"
     },
     "user_tz": 180
    },
    "id": "NJYn9kNLXawW",
    "outputId": "8f85782a-6dd5-48ff-e31e-138f308b6d2c"
   },
   "outputs": [],
   "source": [
    "df.DT_REFER.unique()"
   ]
  },
  {
   "cell_type": "markdown",
   "metadata": {
    "id": "wZNKQGRRXxJf"
   },
   "source": [
    "### Inicio da construção do loop"
   ]
  },
  {
   "cell_type": "markdown",
   "metadata": {
    "id": "6mGMluhvmoFZ"
   },
   "source": []
  },
  {
   "cell_type": "code",
   "execution_count": null,
   "metadata": {
    "executionInfo": {
     "elapsed": 33,
     "status": "ok",
     "timestamp": 1662576560496,
     "user": {
      "displayName": "anamim schuwarte",
      "userId": "09703653288263197532"
     },
     "user_tz": 180
    },
    "id": "yeUy3H92mcGK"
   },
   "outputs": [],
   "source": [
    "# Vamos criar um loop que vai capturar varios demonstrativos de uma vez, e depois filtrar empresas específicas\n",
    "# Quando isso for terminado, ele vai gerar um excel por empresa, onde cada aba será um demonstrativo diferente\n",
    "# O usuário terá apenas de passar uma lista de empresas e uma lista de demonstrativos\n",
    "demonstrativos = ['DFC_MD','DFC_MI','BPA','DRE']"
   ]
  },
  {
   "cell_type": "code",
   "execution_count": null,
   "metadata": {
    "colab": {
     "base_uri": "https://localhost:8080/"
    },
    "executionInfo": {
     "elapsed": 5727,
     "status": "ok",
     "timestamp": 1662576566191,
     "user": {
      "displayName": "anamim schuwarte",
      "userId": "09703653288263197532"
     },
     "user_tz": 180
    },
    "id": "futEPMuFno0Q",
    "outputId": "12249ee1-2a2e-414f-81b0-0a799109f84c"
   },
   "outputs": [],
   "source": [
    "!pip install xlsxwriter"
   ]
  },
  {
   "cell_type": "code",
   "execution_count": null,
   "metadata": {
    "colab": {
     "base_uri": "https://localhost:8080/"
    },
    "id": "hBMi954Qo6Iy",
    "outputId": "6d1ae8a7-e8bb-4ee4-c5ab-a05862a67ff0"
   },
   "outputs": [],
   "source": [
    "import xlsxwriter\n",
    "import zipfile\n",
    "import io\n",
    "import time\n",
    "\n",
    "# salvando o tempo de inicio da execucao\n",
    "start_time = time.time()\n",
    "\n",
    "demonstrativos = ['DFC_MD','DFC_MI','BPA','BPP','DRE']\n",
    "\n",
    "empresas = list(filtrados['CD_CVM'])\n",
    "# empresas.append('9512')\n",
    "\n",
    "link = 'http://dados.cvm.gov.br/dados/CIA_ABERTA/DOC/ITR/DADOS/itr_cia_aberta_2021.zip'\n",
    "\n",
    "lista_listas = []\n",
    "\n",
    "a = 0\n",
    "\n",
    "for j in empresas:\n",
    "\n",
    "  lista_df = []\n",
    "\n",
    "  for k in demonstrativos:\n",
    "\n",
    "    # busca arquivo zip no site \n",
    "    arquivo_zip = requests.get(link)\n",
    "\n",
    "    # abre o arquivo zip para uso \n",
    "    zf = zipfile.ZipFile(io.BytesIO(arquivo_zip.content))\n",
    "\n",
    "    arquivo = 'itr_cia_aberta_' + str(k) + '_con_2021.csv'\n",
    "\n",
    "    # abrindo o arquivo itr_cia_aberta_*_con_2021.csv que está dentro do zip\n",
    "    dados = zf.open(arquivo)\n",
    "\n",
    "    # extraindo o conteudo do arquivo para uma lista\n",
    "    linhas = dados.readlines()\n",
    "\n",
    "    # porém é necessário extrair os espaços extras usando a função strip e usar decode para exibição correta dos caracteres da lingua portuguesa\n",
    "    lines = [i.strip().decode('ISO-8859-1') for i in linhas ]\n",
    "\n",
    "    # transformando cada linha em line em listas usando o ; para \"quebrar\" as informações\n",
    "    lines = [i.split(';') for i in lines ]\n",
    "\n",
    "    # Gerando um DataFrame usando a função DataFrame do pandas\n",
    "    df = pd.DataFrame(lines[1:],columns = lines[0])\n",
    "\n",
    "    # Preparando colunas para serem usadas em cáculos\n",
    "    # df.dtypes\n",
    "    # CNPJ_CIA         object\n",
    "    # DT_REFER         object\n",
    "    # VERSAO           object\n",
    "    # DENOM_CIA        object\n",
    "    # CD_CVM           object\n",
    "    # GRUPO_DFP        object\n",
    "    # MOEDA            object\n",
    "    # ESCALA_MOEDA     object\n",
    "    # ORDEM_EXERC      object\n",
    "    # DT_INI_EXERC     object\n",
    "    # DT_FIM_EXERC     object\n",
    "    # CD_CONTA         object\n",
    "    # DS_CONTA         object\n",
    "    # VL_CONTA         object << para usar em cáculos matemáticos é necessário gerar como numérico\n",
    "    # ST_CONTA_FIXA    object\n",
    "    # dtype: object\n",
    "\n",
    "    df['VL_AJUSTADO'] = pd.to_numeric(df['VL_CONTA'])\n",
    "\n",
    "    # filtrando os dados do data frame referente a empresa \"j\" do loop \n",
    "    # filtro = df[df['CD_CVM'] == '0' + str(j)]\n",
    "    # o metodo zfill substitui a concatenação do 0 a esquerda da string com a vantagem de preencher conm tantos zeros quantos \n",
    "    # sejam necessários a esquerda até que a string tenha o tamanho indicado na chamada do metodo. Nesse caso (6)\n",
    "    filtro = df[df['CD_CVM'] == str(j).zfill(6)]\n",
    "    # acrescentando o data frame a lista\n",
    "    lista_df.append(filtro)\n",
    "    # gerando log\n",
    "    print(f'Trabalhando com a empresa {str(j)} e seu demonstrativo {str(k)}. As dimensões são {filtro.shape}')\n",
    "\n",
    "  lista_listas.append(lista_df)\n",
    "\n",
    "  # definindo o arquivo excel usando a bibliotece xlsxwriter. um arquivo excel por empresa\n",
    "  writer = pd.ExcelWriter(f'Demonstrativos_Empresa_{str(j)}.xlsx', engine='xlsxwriter')\n",
    "  \n",
    "  # definindo as abas do excel. uma aba para cada demonstrativo\n",
    "  lista_listas[a][0].to_excel(writer, sheet_name='DFC_MD', encoding='ISO-8859-1')\n",
    "  lista_listas[a][1].to_excel(writer, sheet_name='DFC_MI', encoding='ISO-8859-1')\n",
    "  lista_listas[a][2].to_excel(writer, sheet_name='BPA', encoding='ISO-8859-1')\n",
    "  lista_listas[a][3].to_excel(writer, sheet_name='BPP', encoding='ISO-8859-1')\n",
    "  lista_listas[a][4].to_excel(writer, sheet_name='DRE', encoding='ISO-8859-1')\n",
    "\n",
    "  a += 1\n",
    "\n",
    "  print(f'Arquivo excel com dados da empresa {str(j)} foi exportado. \\n')\n",
    "\n",
    "  # Salvar o arquivo excel\n",
    "  writer.save()\n",
    "\n",
    "print (\"O tempo de execução desse programa foi de %s --- segundos\" %(time.time() - start_time))\n",
    "\n",
    "\n"
   ]
  },
  {
   "cell_type": "code",
   "execution_count": null,
   "metadata": {
    "id": "Lkw2plh7n4-H"
   },
   "outputs": [],
   "source": [
    "lista_listas[0][1]"
   ]
  },
  {
   "cell_type": "code",
   "execution_count": null,
   "metadata": {
    "id": "FAXabTSS9hZx"
   },
   "outputs": [],
   "source": []
  },
  {
   "cell_type": "code",
   "execution_count": null,
   "metadata": {
    "id": "8jfAywgro_jP"
   },
   "outputs": [],
   "source": [
    "empresas = list(filtrados['CD_CVM'])\n",
    "empresas"
   ]
  },
  {
   "cell_type": "markdown",
   "metadata": {
    "id": "0IoR9_Clo38D"
   },
   "source": [
    "#4. Transformando os dados"
   ]
  },
  {
   "cell_type": "markdown",
   "metadata": {
    "id": "6XP5Hb2JNiUN"
   },
   "source": [
    "### 4.1 Instalando e importando bibliotecas"
   ]
  },
  {
   "cell_type": "code",
   "execution_count": null,
   "metadata": {
    "id": "YpG5oU9HO_8Z"
   },
   "outputs": [],
   "source": [
    "!pip install Plotly\n",
    "!pip install investpy"
   ]
  },
  {
   "cell_type": "code",
   "execution_count": null,
   "metadata": {
    "id": "jliAcC5CRL9P"
   },
   "outputs": [],
   "source": [
    "import plotly\n",
    "import investpy\n",
    "import os\n",
    "import numpy as np\n",
    "import pandas as pd"
   ]
  },
  {
   "cell_type": "markdown",
   "metadata": {
    "id": "Xn9PDg7wSaJq"
   },
   "source": [
    "### 4.2. Tabela DRE"
   ]
  },
  {
   "cell_type": "code",
   "execution_count": null,
   "metadata": {
    "id": "F1xD7rqaSgR_"
   },
   "outputs": [],
   "source": [
    "caminho = os.getcwd()"
   ]
  },
  {
   "cell_type": "code",
   "execution_count": null,
   "metadata": {
    "id": "hKGx4-sSW5Rm"
   },
   "outputs": [],
   "source": [
    "arquivos = os.listdir(caminho)"
   ]
  },
  {
   "cell_type": "code",
   "execution_count": null,
   "metadata": {
    "id": "v-jCtNHXXcg7"
   },
   "outputs": [],
   "source": [
    "arquivo_xls = [f for f in arquivos if f[-1] == 'x'] # 04.03.02 aos 5:36 minutos"
   ]
  },
  {
   "cell_type": "code",
   "execution_count": null,
   "metadata": {
    "id": "V2yayFVxYqLP"
   },
   "outputs": [],
   "source": [
    "arquivo_xls"
   ]
  },
  {
   "cell_type": "code",
   "execution_count": null,
   "metadata": {
    "id": "xCxdQFJiZiTj"
   },
   "outputs": [],
   "source": [
    "dre = pd.DataFrame()"
   ]
  },
  {
   "cell_type": "code",
   "execution_count": null,
   "metadata": {
    "id": "CrKVNBRqZrNK"
   },
   "outputs": [],
   "source": [
    "for f in arquivo_xls:\n",
    "  drexls = pd.read_excel(f, sheet_name='DRE')\n",
    "  dre = dre.append(drexls)"
   ]
  },
  {
   "cell_type": "code",
   "execution_count": null,
   "metadata": {
    "id": "P1HHegWPaJ7u"
   },
   "outputs": [],
   "source": [
    "dre"
   ]
  },
  {
   "cell_type": "code",
   "execution_count": null,
   "metadata": {
    "id": "j53IueFlaMWG"
   },
   "outputs": [],
   "source": [
    "lista_de_empresas = dre['DENOM_CIA'].unique()"
   ]
  },
  {
   "cell_type": "code",
   "execution_count": null,
   "metadata": {
    "id": "OkjRmblFPT1g"
   },
   "outputs": [],
   "source": [
    "lista_de_empresas"
   ]
  },
  {
   "cell_type": "code",
   "execution_count": null,
   "metadata": {
    "id": "ujIeNs8tPbAf"
   },
   "outputs": [],
   "source": [
    "lista_de_empresas = lista_de_empresas.transpose()"
   ]
  },
  {
   "cell_type": "code",
   "execution_count": null,
   "metadata": {
    "id": "9Dkib8PWPnsu"
   },
   "outputs": [],
   "source": [
    "lista_de_empresas"
   ]
  },
  {
   "cell_type": "code",
   "execution_count": null,
   "metadata": {
    "id": "IDfWgfTDPqjA"
   },
   "outputs": [],
   "source": [
    "lista_de_empresas = lista_de_empresas.tolist()"
   ]
  },
  {
   "cell_type": "code",
   "execution_count": null,
   "metadata": {
    "id": "3ICWEg6uQAme"
   },
   "outputs": [],
   "source": [
    "lista_de_empresas"
   ]
  },
  {
   "cell_type": "code",
   "execution_count": null,
   "metadata": {
    "id": "2K21-yw-QC_j"
   },
   "outputs": [],
   "source": [
    "tickers = ['IGTA3','MULT3','BRPR3','BRML3','ALSO3']"
   ]
  },
  {
   "cell_type": "code",
   "execution_count": null,
   "metadata": {
    "id": "qqmIKTFPQlHZ"
   },
   "outputs": [],
   "source": [
    "n_empresas = len(lista_de_empresas)"
   ]
  },
  {
   "cell_type": "code",
   "execution_count": null,
   "metadata": {
    "id": "vgOnt1rTQvvl"
   },
   "outputs": [],
   "source": [
    "n_empresas "
   ]
  },
  {
   "cell_type": "code",
   "execution_count": null,
   "metadata": {
    "id": "5DJuZ5-QQ0PD"
   },
   "outputs": [],
   "source": [
    "lista_de_contas = dre['DS_CONTA'].unique()\n",
    "lista_de_contas = lista_de_contas.tolist()"
   ]
  },
  {
   "cell_type": "code",
   "execution_count": null,
   "metadata": {
    "id": "OhL8VrBlRpHt"
   },
   "outputs": [],
   "source": [
    "lista_de_contas"
   ]
  },
  {
   "cell_type": "code",
   "execution_count": null,
   "metadata": {
    "id": "yKvxdOCURtfH"
   },
   "outputs": [],
   "source": [
    "# organizar a tabela como tabela dinâmica (pivot table), onde as datas sejam labels de coluna\n",
    "dre = pd.pivot_table(dre, index=['DENOM_CIA','DS_CONTA'], columns=['DT_INI_EXERC','DT_FIM_EXERC'], values=['VL_AJUSTADO'])"
   ]
  },
  {
   "cell_type": "code",
   "execution_count": null,
   "metadata": {
    "id": "GWZZ5s8dTjZG"
   },
   "outputs": [],
   "source": [
    "dre"
   ]
  },
  {
   "cell_type": "code",
   "execution_count": null,
   "metadata": {
    "id": "BsiTcQ_ZTrA1"
   },
   "outputs": [],
   "source": [
    "dre.loc['BR PROPERTIES S.A.',:].loc['Resultado Bruto']"
   ]
  },
  {
   "cell_type": "code",
   "execution_count": null,
   "metadata": {
    "id": "RNVWdr5eVF4n"
   },
   "outputs": [],
   "source": [
    "type(dre)"
   ]
  },
  {
   "cell_type": "code",
   "execution_count": null,
   "metadata": {
    "id": "3uuGoG0_Xlge"
   },
   "outputs": [],
   "source": [
    "dre.loc['BR PROPERTIES S.A.',:]"
   ]
  },
  {
   "cell_type": "markdown",
   "metadata": {
    "id": "dHWggr43a2gY"
   },
   "source": [
    "### 4.3 Tabela Balanço Patrimonial Ativo(BPA) e Passivo(BPP)"
   ]
  },
  {
   "cell_type": "code",
   "execution_count": null,
   "metadata": {
    "id": "k7xTVjaVq4KJ"
   },
   "outputs": [],
   "source": [
    "bpa = pd.DataFrame()\n",
    "\n",
    "for f in arquivo_xls:\n",
    "  bpa_xls = pd.read_excel(f, sheet_name='BPA')\n",
    "  bpa = bpa.append(bpa_xls)"
   ]
  },
  {
   "cell_type": "code",
   "execution_count": null,
   "metadata": {
    "id": "W6iO_4YqUlTm"
   },
   "outputs": [],
   "source": [
    "bpa"
   ]
  },
  {
   "cell_type": "code",
   "execution_count": null,
   "metadata": {
    "id": "LcsJPgqgU89I"
   },
   "outputs": [],
   "source": [
    "bpa = pd.pivot_table(bpa, index=['DENOM_CIA', 'DS_CONTA'], columns=['DT_FIM_EXERC'], values=['VL_AJUSTADO'])\n",
    "bpa"
   ]
  },
  {
   "cell_type": "code",
   "execution_count": null,
   "metadata": {
    "id": "TaGBydlLXzN2"
   },
   "outputs": [],
   "source": [
    "bpp = pd.DataFrame()\n",
    "for f in arquivo_xls:\n",
    "  bpp_xls = pd.read_excel(f, sheet_name='BPP')\n",
    "  bpp = bpp.append(bpp_xls)\n",
    "  bpp"
   ]
  },
  {
   "cell_type": "code",
   "execution_count": null,
   "metadata": {
    "id": "8pyzCr09hb4y"
   },
   "outputs": [],
   "source": [
    "# bpp = pd.pivot_table(bpp, index=['DENOM_CIA','DS_CONTA'], columns=['DT_FIM_EXERC'], values=['VL_AJUSTADO'])\n",
    "bpp = pd.pivot_table(bpp, index=['DENOM_CIA','DS_CONTA','CD_CONTA'], columns=['DT_REFER','DT_FIM_EXERC'],values=['VL_AJUSTADO'])"
   ]
  },
  {
   "cell_type": "markdown",
   "metadata": {
    "id": "NxPllZj2i3ql"
   },
   "source": [
    "# 5. Indicadores Fundamentalistas"
   ]
  },
  {
   "cell_type": "markdown",
   "metadata": {
    "id": "N-t4MzLqlqIP"
   },
   "source": [
    "## 5.1 Margens"
   ]
  },
  {
   "cell_type": "code",
   "execution_count": null,
   "metadata": {
    "id": "JuuCFZ66pPYv"
   },
   "outputs": [],
   "source": [
    "# Default value of display.max_rows is 10 i.e. at max 10 rows will be printed.\n",
    "# Set it None to display all rows in the dataframe\n",
    "pd.set_option('display.max_rows', None)"
   ]
  },
  {
   "cell_type": "code",
   "execution_count": null,
   "metadata": {
    "id": "PtkYzE2Klvb0"
   },
   "outputs": [],
   "source": [
    "type(dre)"
   ]
  },
  {
   "cell_type": "code",
   "execution_count": null,
   "metadata": {
    "id": "To06hoA5ntKP"
   },
   "outputs": [],
   "source": [
    "dre"
   ]
  },
  {
   "cell_type": "code",
   "execution_count": null,
   "metadata": {
    "id": "Z6fqEweqO1mT"
   },
   "outputs": [],
   "source": [
    "dre.loc['BR MALLS PARTICIPACOES S.A.',:]"
   ]
  },
  {
   "cell_type": "code",
   "execution_count": null,
   "metadata": {
    "id": "w3F3NiuMpTl7"
   },
   "outputs": [],
   "source": [
    "dre.loc['BR MALLS PARTICIPACOES S.A.',:].loc['Resultado Bruto']"
   ]
  },
  {
   "cell_type": "code",
   "execution_count": null,
   "metadata": {
    "id": "TrmExopGX-Gk"
   },
   "outputs": [],
   "source": [
    "dre.loc['BR MALLS PARTICIPACOES S.A.',:].loc['Resultado Bruto'].iloc[-1]"
   ]
  },
  {
   "cell_type": "code",
   "execution_count": null,
   "metadata": {
    "id": "d9ld1JOlQjVU"
   },
   "outputs": [],
   "source": [
    "dre.loc['BR MALLS PARTICIPACOES S.A.',:].loc['Receita de Venda de Bens e/ou Serviços'].iloc[-1]\n",
    "### margem bruta BR MALLS PARTICIPACOES = 268207.0 / 291742.0 = 0.919329407"
   ]
  },
  {
   "cell_type": "code",
   "execution_count": null,
   "metadata": {
    "id": "-w4sVVxnRvos"
   },
   "outputs": [],
   "source": [
    "for i in range(0,n_empresas):\n",
    "  calculo_margem = ((dre.loc[lista_de_empresas[i],:].loc['Resultado Bruto'].iloc[-1]) / (dre.loc[lista_de_empresas[i],:].loc['Receita de Venda de Bens e/ou Serviços'].iloc[-1]))\n",
    "  print(f'A margem bruta da empresa {lista_de_empresas[i]} eh {calculo_margem}')"
   ]
  },
  {
   "cell_type": "code",
   "execution_count": null,
   "metadata": {
    "id": "Wm52x9NhU40-"
   },
   "outputs": [],
   "source": [
    "import plotly.graph_objects as go"
   ]
  },
  {
   "cell_type": "code",
   "execution_count": null,
   "metadata": {
    "id": "DBdE_SGqVbkq"
   },
   "outputs": [],
   "source": [
    "# Margem Bruta\n",
    "margem_bruta_shopping = pd.DataFrame()\n",
    "for i in range(0,n_empresas):\n",
    "  calculo_margem = pd.Series(((dre.loc[lista_de_empresas[i],:].loc['Resultado Bruto'].iloc[-1]) / (dre.loc[lista_de_empresas[i],:].loc['Receita de Venda de Bens e/ou Serviços'].iloc[-1])))\n",
    "  margem_bruta_shopping = pd.concat([margem_bruta_shopping,calculo_margem], axis=1)\n",
    "margem_bruta_shopping.columns = lista_de_empresas\n",
    "fig = go.Figure(go.Bar(x=margem_bruta_shopping.iloc[-1], y=tickers, orientation='h'))\n",
    "fig.show()\n"
   ]
  },
  {
   "cell_type": "code",
   "execution_count": null,
   "metadata": {
    "id": "d3Kar7UAdlO6"
   },
   "outputs": [],
   "source": [
    "margem_bruta_shopping"
   ]
  },
  {
   "cell_type": "code",
   "execution_count": null,
   "metadata": {
    "id": "kp8jzcx7ZhKG"
   },
   "outputs": [],
   "source": [
    "margem_bruta_shopping.iloc[0] # nesse caso é igual a iloc[-1] pois só temos uma linha no dataframe"
   ]
  },
  {
   "cell_type": "code",
   "execution_count": null,
   "metadata": {
    "id": "e97aZQDAeI8d"
   },
   "outputs": [],
   "source": [
    "# Margem Líquida\n",
    "dre.loc['BR MALLS PARTICIPACOES S.A.',:].loc['Lucro/Prejuízo Consolidado do Período'].iloc[-1]\n",
    "dre.loc['BR MALLS PARTICIPACOES S.A.',:].loc['Lucro/Prejuízo Consolidado do Período'].iloc[-1]"
   ]
  },
  {
   "cell_type": "code",
   "execution_count": null,
   "metadata": {
    "id": "n_74D0bnKQn2"
   },
   "outputs": [],
   "source": [
    "dre.loc['BR MALLS PARTICIPACOES S.A.',:].loc['Resultado Bruto'].iloc[-1]"
   ]
  },
  {
   "cell_type": "code",
   "execution_count": null,
   "metadata": {
    "id": "K-NXTwT1Mb_f"
   },
   "outputs": [],
   "source": [
    "dre.loc['BR MALLS PARTICIPACOES S.A.',:].loc['Receita de Venda de Bens e/ou Serviços'].iloc[-1]"
   ]
  },
  {
   "cell_type": "code",
   "execution_count": null,
   "metadata": {
    "id": "ZNGflexmLxBF"
   },
   "outputs": [],
   "source": [
    "pd.Series((dre.loc['BR MALLS PARTICIPACOES S.A.',:].loc['Lucro/Prejuízo Consolidado do Período'].iloc[-1])/(dre.loc['BR MALLS PARTICIPACOES S.A.',:].loc['Receita de Venda de Bens e/ou Serviços'].iloc[-1]))"
   ]
  },
  {
   "cell_type": "code",
   "execution_count": null,
   "metadata": {
    "id": "lSW12OBLK0h3"
   },
   "outputs": [],
   "source": [
    "def margem_liquida():\n",
    "  margem_liq_shopping = pd.DataFrame()\n",
    "  for i in range(0, n_empresas):\n",
    "    calculo_margem_liq = pd.Series((dre.loc[lista_de_empresas[i],:].loc['Lucro/Prejuízo Consolidado do Período'].iloc[-1])/(dre.loc[lista_de_empresas[i],:].loc['Receita de Venda de Bens e/ou Serviços'].iloc[-1]))\n",
    "    margem_liq_shopping = pd.concat([margem_liq_shopping,calculo_margem_liq], axis=1)\n",
    "  margem_liq_shopping.columns = lista_de_empresas\n",
    "  fig = go.Figure(go.Bar(x=margem_liq_shopping.iloc[-1],y=tickers,orientation='h'))\n",
    "  fig.update_layout(title_text='Margem Líquida')\n",
    "  fig.show()\n"
   ]
  },
  {
   "cell_type": "code",
   "execution_count": null,
   "metadata": {
    "id": "wSNFgLjYNoJn"
   },
   "outputs": [],
   "source": [
    "margem_liquida()"
   ]
  },
  {
   "cell_type": "markdown",
   "metadata": {
    "id": "AJF0khr1LSiu"
   },
   "source": []
  }
 ],
 "metadata": {
  "colab": {
   "authorship_tag": "ABX9TyP/EA3E8+TPM6DrSXUO7LgW",
   "collapsed_sections": [],
   "mount_file_id": "1L5HxqyUMSqb7XOrwIBB-wLo2VGWCv5Cb",
   "provenance": []
  },
  "kernelspec": {
   "display_name": "Python 3 (Spyder)",
   "language": "python3",
   "name": "python3"
  },
  "language_info": {
   "codemirror_mode": {
    "name": "ipython",
    "version": 3
   },
   "file_extension": ".py",
   "mimetype": "text/x-python",
   "name": "python",
   "nbconvert_exporter": "python",
   "pygments_lexer": "ipython3",
   "version": "3.9.13"
  }
 },
 "nbformat": 4,
 "nbformat_minor": 4
}
