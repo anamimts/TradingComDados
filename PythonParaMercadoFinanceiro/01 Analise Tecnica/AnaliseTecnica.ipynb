{
 "cells": [
  {
   "cell_type": "markdown",
   "metadata": {
    "id": "Jn2HDz2Uy8MX"
   },
   "source": [
    "## 1. Instalação"
   ]
  },
  {
   "cell_type": "code",
   "execution_count": null,
   "metadata": {
    "colab": {
     "base_uri": "https://localhost:8080/"
    },
    "executionInfo": {
     "elapsed": 18826,
     "status": "ok",
     "timestamp": 1653956396784,
     "user": {
      "displayName": "anamim schuwarte",
      "userId": "09703653288263197532"
     },
     "user_tz": 180
    },
    "id": "lWRoHt5gt58J",
    "outputId": "3d91a272-0311-466e-c992-3a8315a05771"
   },
   "outputs": [],
   "source": [
    "!pip install ta\n",
    "!pip install investpy"
   ]
  },
  {
   "cell_type": "code",
   "execution_count": null,
   "metadata": {
    "colab": {
     "base_uri": "https://localhost:8080/"
    },
    "executionInfo": {
     "elapsed": 3537,
     "status": "ok",
     "timestamp": 1653956400310,
     "user": {
      "displayName": "anamim schuwarte",
      "userId": "09703653288263197532"
     },
     "user_tz": 180
    },
    "id": "fZi1WvLswLZV",
    "outputId": "ff0e3d65-b9f4-4dcd-a45d-5f200cc8fb62"
   },
   "outputs": [],
   "source": [
    "!pip install plotly"
   ]
  },
  {
   "cell_type": "markdown",
   "metadata": {
    "id": "DYI9XMoDzDmd"
   },
   "source": [
    "### Imports"
   ]
  },
  {
   "cell_type": "code",
   "execution_count": null,
   "metadata": {
    "executionInfo": {
     "elapsed": 820,
     "status": "ok",
     "timestamp": 1653956401120,
     "user": {
      "displayName": "anamim schuwarte",
      "userId": "09703653288263197532"
     },
     "user_tz": 180
    },
    "id": "3a5bDz42xgAY"
   },
   "outputs": [],
   "source": [
    "import ta\n",
    "import investpy\n",
    "import pandas as pd\n",
    "import plotly.graph_objects as go"
   ]
  },
  {
   "cell_type": "markdown",
   "metadata": {
    "id": "DnBKaaeYx6NM"
   },
   "source": [
    "## 2. Capturando dados "
   ]
  },
  {
   "cell_type": "code",
   "execution_count": null,
   "metadata": {
    "executionInfo": {
     "elapsed": 485,
     "status": "ok",
     "timestamp": 1653956401598,
     "user": {
      "displayName": "anamim schuwarte",
      "userId": "09703653288263197532"
     },
     "user_tz": 180
    },
    "id": "ikwd6r8NzWfU"
   },
   "outputs": [],
   "source": [
    "df = investpy.get_stock_historical_data(stock='BRML3', country='Brazil', from_date='01/01/2019', to_date='30/03/2021')"
   ]
  },
  {
   "cell_type": "code",
   "execution_count": null,
   "metadata": {
    "colab": {
     "base_uri": "https://localhost:8080/",
     "height": 0
    },
    "executionInfo": {
     "elapsed": 19,
     "status": "ok",
     "timestamp": 1653956401599,
     "user": {
      "displayName": "anamim schuwarte",
      "userId": "09703653288263197532"
     },
     "user_tz": 180
    },
    "id": "HAQJA8oa0GJ_",
    "outputId": "d26353bb-3589-4711-a993-d2877d90534c"
   },
   "outputs": [],
   "source": [
    "df"
   ]
  },
  {
   "cell_type": "markdown",
   "metadata": {
    "id": "1Jdb8OsG0WWX"
   },
   "source": [
    "## 3. Indicadores de Momentum"
   ]
  },
  {
   "cell_type": "markdown",
   "metadata": {
    "id": "lRBkanO-YSpp"
   },
   "source": [
    "### 3.1 Relative Strength Index(RSI)"
   ]
  },
  {
   "cell_type": "code",
   "execution_count": null,
   "metadata": {
    "executionInfo": {
     "elapsed": 18,
     "status": "ok",
     "timestamp": 1653956401601,
     "user": {
      "displayName": "anamim schuwarte",
      "userId": "09703653288263197532"
     },
     "user_tz": 180
    },
    "id": "cRBik3DjYyiL"
   },
   "outputs": [],
   "source": [
    "from ta.momentum import RSIIndicator\n",
    "from plotly.subplots import make_subplots "
   ]
  },
  {
   "cell_type": "code",
   "execution_count": null,
   "metadata": {
    "executionInfo": {
     "elapsed": 17,
     "status": "ok",
     "timestamp": 1653956401602,
     "user": {
      "displayName": "anamim schuwarte",
      "userId": "09703653288263197532"
     },
     "user_tz": 180
    },
    "id": "Qwx_bOfdT7I5"
   },
   "outputs": [],
   "source": [
    "# Iniciando o indicador RSI\n",
    "rsi = RSIIndicator(close=df['Close'], window=30)\n",
    "df['RSI'] = rsi.rsi()"
   ]
  },
  {
   "cell_type": "code",
   "execution_count": null,
   "metadata": {
    "colab": {
     "base_uri": "https://localhost:8080/",
     "height": 0
    },
    "executionInfo": {
     "elapsed": 522,
     "status": "ok",
     "timestamp": 1653956402109,
     "user": {
      "displayName": "anamim schuwarte",
      "userId": "09703653288263197532"
     },
     "user_tz": 180
    },
    "id": "kql1OQrQV8KC",
    "outputId": "4d7cac71-6c4e-43aa-9ec2-aefccf83e5ca"
   },
   "outputs": [],
   "source": [
    "# Criando os graficos e exibindo\n",
    "fig = make_subplots(rows=2, cols=1)\n",
    "fig.add_trace(go.Scatter(name='RSI', x=df.index, y=df['RSI']), row=2, col=1)\n",
    "fig.add_trace(go.Candlestick(name='BRML3', x=df.index, close=df['Close'], open=df['Open'], high=df['High'], low=df['Low']), row=1, col=1)\n",
    "fig.update_layout(xaxis_rangeslider_visible=False)\n",
    "fig.show()"
   ]
  },
  {
   "cell_type": "markdown",
   "metadata": {
    "id": "cL5FtOcaXj--"
   },
   "source": [
    "### 3.2 Percentage Price Oscilator"
   ]
  },
  {
   "cell_type": "code",
   "execution_count": null,
   "metadata": {
    "executionInfo": {
     "elapsed": 35,
     "status": "ok",
     "timestamp": 1653956402111,
     "user": {
      "displayName": "anamim schuwarte",
      "userId": "09703653288263197532"
     },
     "user_tz": 180
    },
    "id": "fmXf7ZDvd2am"
   },
   "outputs": [],
   "source": [
    "from ta.momentum import PercentagePriceOscillator"
   ]
  },
  {
   "cell_type": "code",
   "execution_count": null,
   "metadata": {
    "executionInfo": {
     "elapsed": 33,
     "status": "ok",
     "timestamp": 1653956402112,
     "user": {
      "displayName": "anamim schuwarte",
      "userId": "09703653288263197532"
     },
     "user_tz": 180
    },
    "id": "064s8lBJeHAp"
   },
   "outputs": [],
   "source": [
    "ppo = PercentagePriceOscillator(df['Close'])\n",
    "df['PPO'] = ppo.ppo()\n",
    "df['PPO_hist'] = ppo.ppo_hist()\n",
    "df['PPO_line'] = ppo.ppo_signal()"
   ]
  },
  {
   "cell_type": "code",
   "execution_count": null,
   "metadata": {
    "colab": {
     "base_uri": "https://localhost:8080/",
     "height": 0
    },
    "executionInfo": {
     "elapsed": 34,
     "status": "ok",
     "timestamp": 1653956402115,
     "user": {
      "displayName": "anamim schuwarte",
      "userId": "09703653288263197532"
     },
     "user_tz": 180
    },
    "id": "jgTtgYBiesXV",
    "outputId": "4c62a6da-1771-4f00-e286-5678e900dfb8"
   },
   "outputs": [],
   "source": [
    "fig = make_subplots(rows=2, cols=1, specs =[[{\"secondary_y\": True}],[{\"secondary_y\": True}]])\n",
    "fig.add_trace(go.Scatter(name='PPO', x=df.index, y=df['PPO']), row=2, col=1)\n",
    "fig.add_trace(go.Bar(name='PPO_hist', x=df.index, y=df['PPO_hist']), row=2, col=1, secondary_y=True)\n",
    "fig.add_trace(go.Scatter(name='PPO_line', x=df.index, y=df['PPO_line']), row=2, col=1)\n",
    "fig.add_trace(go.Candlestick(name='BRML3', x=df.index, close=df['Close'], open=df['Open'], high=df['High'], low=df['Low']), row=1, col=1)\n",
    "fig.update_layout(xaxis_rangeslider_visible=False)\n",
    "fig.show()\n"
   ]
  },
  {
   "cell_type": "markdown",
   "metadata": {
    "id": "KWmrmZGyhI6Z"
   },
   "source": [
    "### 3.3 Rate of Change"
   ]
  },
  {
   "cell_type": "code",
   "execution_count": null,
   "metadata": {
    "executionInfo": {
     "elapsed": 29,
     "status": "ok",
     "timestamp": 1653956402116,
     "user": {
      "displayName": "anamim schuwarte",
      "userId": "09703653288263197532"
     },
     "user_tz": 180
    },
    "id": "rzYzbAbto00D"
   },
   "outputs": [],
   "source": [
    "from ta.momentum import ROCIndicator"
   ]
  },
  {
   "cell_type": "code",
   "execution_count": null,
   "metadata": {
    "executionInfo": {
     "elapsed": 29,
     "status": "ok",
     "timestamp": 1653956402118,
     "user": {
      "displayName": "anamim schuwarte",
      "userId": "09703653288263197532"
     },
     "user_tz": 180
    },
    "id": "fqiODp1EI1GI"
   },
   "outputs": [],
   "source": [
    "roc = ROCIndicator(df['Close'])\n",
    "df['ROC'] = roc.roc()"
   ]
  },
  {
   "cell_type": "code",
   "execution_count": null,
   "metadata": {
    "colab": {
     "base_uri": "https://localhost:8080/",
     "height": 542
    },
    "executionInfo": {
     "elapsed": 722,
     "status": "ok",
     "timestamp": 1653956402812,
     "user": {
      "displayName": "anamim schuwarte",
      "userId": "09703653288263197532"
     },
     "user_tz": 180
    },
    "id": "GRf4yei_JZVf",
    "outputId": "04268012-f986-44d8-b6f0-fe3b81d2fd4a"
   },
   "outputs": [],
   "source": [
    "fig = go.Figure()\n",
    "\n",
    "fig = make_subplots(rows=2, cols=1)\n",
    "fig.add_trace(go.Scatter(name='ROC', x=df.index, y=df['ROC']), row=2, col=1)\n",
    "fig.add_trace(go.Candlestick(name='BRML3', x=df.index, close=df['Close'], open=df['Open'], high=df['High'], low=df['Low']), row=1, col=1)\n",
    "fig.update_layout(xaxis_rangeslider_visible=False)\n",
    "fig.show()"
   ]
  },
  {
   "cell_type": "markdown",
   "metadata": {
    "id": "2m8fI2xxL9hL"
   },
   "source": [
    "## 4. Indicadores de Volume"
   ]
  },
  {
   "cell_type": "markdown",
   "metadata": {
    "id": "XM2A2HpdMvdf"
   },
   "source": [
    "### 4.1 OBV - On Balance Volume"
   ]
  },
  {
   "cell_type": "code",
   "execution_count": null,
   "metadata": {
    "executionInfo": {
     "elapsed": 40,
     "status": "ok",
     "timestamp": 1653956402813,
     "user": {
      "displayName": "anamim schuwarte",
      "userId": "09703653288263197532"
     },
     "user_tz": 180
    },
    "id": "WBWtI1W1M40u"
   },
   "outputs": [],
   "source": [
    "from ta.volume import OnBalanceVolumeIndicator"
   ]
  },
  {
   "cell_type": "code",
   "execution_count": null,
   "metadata": {
    "executionInfo": {
     "elapsed": 40,
     "status": "ok",
     "timestamp": 1653956402815,
     "user": {
      "displayName": "anamim schuwarte",
      "userId": "09703653288263197532"
     },
     "user_tz": 180
    },
    "id": "dAloQu-gRRza"
   },
   "outputs": [],
   "source": [
    "obv = OnBalanceVolumeIndicator(df['Close'], df['Volume'])\n",
    "df['OBV'] = obv.on_balance_volume()"
   ]
  },
  {
   "cell_type": "code",
   "execution_count": null,
   "metadata": {
    "colab": {
     "base_uri": "https://localhost:8080/",
     "height": 542
    },
    "executionInfo": {
     "elapsed": 40,
     "status": "ok",
     "timestamp": 1653956402816,
     "user": {
      "displayName": "anamim schuwarte",
      "userId": "09703653288263197532"
     },
     "user_tz": 180
    },
    "id": "BE7cWP1zRwWj",
    "outputId": "e0c74ddc-a52a-4497-8d51-ccf4dd8849d6"
   },
   "outputs": [],
   "source": [
    "fig = make_subplots(rows=2, cols=1)\n",
    "fig.add_trace(go.Bar(name='OBV', x=df.index, y=df['OBV']), row=2, col=1)\n",
    "fig.add_trace(go.Candlestick(name='BRML3', x=df.index, close=df['Close'], open=df['Open'], high=df['High'], low=df['Low']), row=1, col=1)\n",
    "fig.update_layout(xaxis_rangeslider_visible=False)\n",
    "fig.show()"
   ]
  },
  {
   "cell_type": "markdown",
   "metadata": {
    "id": "uwOPhVkrhtdA"
   },
   "source": [
    "### 4.2 VWAP - Volume Weighted Average Price"
   ]
  },
  {
   "cell_type": "code",
   "execution_count": null,
   "metadata": {
    "executionInfo": {
     "elapsed": 36,
     "status": "ok",
     "timestamp": 1653956402818,
     "user": {
      "displayName": "anamim schuwarte",
      "userId": "09703653288263197532"
     },
     "user_tz": 180
    },
    "id": "Pu64OjhgTE0p"
   },
   "outputs": [],
   "source": [
    "from ta.volume import VolumeWeightedAveragePrice"
   ]
  },
  {
   "cell_type": "code",
   "execution_count": null,
   "metadata": {
    "executionInfo": {
     "elapsed": 35,
     "status": "ok",
     "timestamp": 1653956402818,
     "user": {
      "displayName": "anamim schuwarte",
      "userId": "09703653288263197532"
     },
     "user_tz": 180
    },
    "id": "t5i_iuqSiFUQ"
   },
   "outputs": [],
   "source": [
    "vwap = VolumeWeightedAveragePrice(df['High'], df['Low'],df['Close'], df['Volume'] )\n",
    "df['VWAP'] = vwap.volume_weighted_average_price()"
   ]
  },
  {
   "cell_type": "code",
   "execution_count": null,
   "metadata": {
    "colab": {
     "base_uri": "https://localhost:8080/",
     "height": 542
    },
    "executionInfo": {
     "elapsed": 37,
     "status": "ok",
     "timestamp": 1653956402820,
     "user": {
      "displayName": "anamim schuwarte",
      "userId": "09703653288263197532"
     },
     "user_tz": 180
    },
    "id": "EJpvghiHjMAb",
    "outputId": "014e80f6-bac0-4264-9fe3-ce05eafd3a0a"
   },
   "outputs": [],
   "source": [
    "fig = go.Figure()\n",
    "fig.add_trace(go.Scatter(name='VWAP', x=df.index, y=df['VWAP']))\n",
    "fig.add_trace(go.Candlestick(name='BRML3', x=df.index, close=df['Close'], open=df['Open'], high=df['High'], low=df['Low']))\n",
    "fig.update_layout(xaxis_rangeslider_visible=False, title_text='VWAP')\n",
    "fig.show()"
   ]
  },
  {
   "cell_type": "markdown",
   "metadata": {
    "id": "DbpDVHTvjw5H"
   },
   "source": [
    "### 4.3 MFI - Money Flow Index"
   ]
  },
  {
   "cell_type": "code",
   "execution_count": null,
   "metadata": {
    "executionInfo": {
     "elapsed": 33,
     "status": "ok",
     "timestamp": 1653956402821,
     "user": {
      "displayName": "anamim schuwarte",
      "userId": "09703653288263197532"
     },
     "user_tz": 180
    },
    "id": "ZMG0rQgao2mD"
   },
   "outputs": [],
   "source": [
    "from ta.volume import MFIIndicator"
   ]
  },
  {
   "cell_type": "code",
   "execution_count": null,
   "metadata": {
    "executionInfo": {
     "elapsed": 33,
     "status": "ok",
     "timestamp": 1653956402822,
     "user": {
      "displayName": "anamim schuwarte",
      "userId": "09703653288263197532"
     },
     "user_tz": 180
    },
    "id": "VanpbdHSpJSY"
   },
   "outputs": [],
   "source": [
    "mfi = MFIIndicator(df['High'], df['Low'], df['Close'], df['Volume'])\n",
    "df['MFI'] = mfi.money_flow_index()"
   ]
  },
  {
   "cell_type": "code",
   "execution_count": null,
   "metadata": {
    "colab": {
     "base_uri": "https://localhost:8080/",
     "height": 542
    },
    "executionInfo": {
     "elapsed": 34,
     "status": "ok",
     "timestamp": 1653956402823,
     "user": {
      "displayName": "anamim schuwarte",
      "userId": "09703653288263197532"
     },
     "user_tz": 180
    },
    "id": "TNpsd6lipiZQ",
    "outputId": "0d345680-b4cb-4abf-93ed-0b94227dd595"
   },
   "outputs": [],
   "source": [
    "fig = make_subplots(rows=2, cols=1)\n",
    "fig.add_trace(go.Scatter(name='MFI', x=df.index, y=df['MFI']), row=2, col=1)\n",
    "fig.add_trace(go.Candlestick(name='BRML3', x=df.index, close=df['Close'], open=df['Open'], high=df['High'], low=df['Low']), row=1, col=1)\n",
    "fig.update_layout(xaxis_rangeslider_visible=False)\n",
    "fig.show()"
   ]
  },
  {
   "cell_type": "markdown",
   "metadata": {
    "id": "4UwM9YMirJ_N"
   },
   "source": [
    "## 5. Indicadores de Volatilidade"
   ]
  },
  {
   "cell_type": "markdown",
   "metadata": {
    "id": "vsGplsLMfDn5"
   },
   "source": [
    "### 5.1 Bandas de Bollinger"
   ]
  },
  {
   "cell_type": "code",
   "execution_count": null,
   "metadata": {
    "executionInfo": {
     "elapsed": 256,
     "status": "ok",
     "timestamp": 1653956522599,
     "user": {
      "displayName": "anamim schuwarte",
      "userId": "09703653288263197532"
     },
     "user_tz": 180
    },
    "id": "Pd9CdoXSfJbo"
   },
   "outputs": [],
   "source": [
    "from ta.volatility import BollingerBands"
   ]
  },
  {
   "cell_type": "code",
   "execution_count": null,
   "metadata": {
    "executionInfo": {
     "elapsed": 291,
     "status": "ok",
     "timestamp": 1653956711423,
     "user": {
      "displayName": "anamim schuwarte",
      "userId": "09703653288263197532"
     },
     "user_tz": 180
    },
    "id": "KeZOCfMRfb3s"
   },
   "outputs": [],
   "source": [
    "bb = BollingerBands(close=df['Close'], window=20, window_dev=2)\n",
    "df['bb_bbm'] = bb.bollinger_mavg()\n",
    "df['bb_bbh'] = bb.bollinger_hband()\n",
    "df['bb_bbl'] = bb.bollinger_lband()"
   ]
  },
  {
   "cell_type": "code",
   "execution_count": null,
   "metadata": {
    "colab": {
     "base_uri": "https://localhost:8080/",
     "height": 542
    },
    "executionInfo": {
     "elapsed": 357,
     "status": "ok",
     "timestamp": 1653957292542,
     "user": {
      "displayName": "anamim schuwarte",
      "userId": "09703653288263197532"
     },
     "user_tz": 180
    },
    "id": "95hA_IcigJBH",
    "outputId": "e5ccc125-68cb-478a-fdf0-aac0d95152bd"
   },
   "outputs": [],
   "source": [
    "fig = go.Figure()\n",
    "fig.add_trace(go.Scatter(name='Media Movel', x=df.index, y=df['bb_bbm']))\n",
    "fig.add_trace(go.Candlestick(name='BRML3', x=df.index, close=df['Close'], open=df['Open'], high=df['High'], low=df['Low']))\n",
    "fig.add_trace(go.Scatter(name='Banda Superior', x=df.index, y=df['bb_bbh']))\n",
    "fig.add_trace(go.Scatter(name='Banda Inferior', x=df.index, y=df['bb_bbl']))\n",
    "fig.update_layout(xaxis_rangeslider_visible=False, title_text='Bollinger Bands')\n",
    "fig.show()"
   ]
  },
  {
   "cell_type": "markdown",
   "metadata": {
    "id": "Qez5cxowhOeQ"
   },
   "source": [
    "### 5.2 ATR - Average True Range"
   ]
  },
  {
   "cell_type": "code",
   "execution_count": null,
   "metadata": {
    "executionInfo": {
     "elapsed": 254,
     "status": "ok",
     "timestamp": 1653957448483,
     "user": {
      "displayName": "anamim schuwarte",
      "userId": "09703653288263197532"
     },
     "user_tz": 180
    },
    "id": "W-QzHGYOi4Fg"
   },
   "outputs": [],
   "source": [
    "from ta.volatility import AverageTrueRange"
   ]
  },
  {
   "cell_type": "code",
   "execution_count": null,
   "metadata": {
    "executionInfo": {
     "elapsed": 251,
     "status": "ok",
     "timestamp": 1653957676619,
     "user": {
      "displayName": "anamim schuwarte",
      "userId": "09703653288263197532"
     },
     "user_tz": 180
    },
    "id": "SSEeuv3Ui8-4"
   },
   "outputs": [],
   "source": [
    "atr = AverageTrueRange(df['High'], low=df['Low'], close=df['Close'])\n",
    "df['ATR'] = atr.average_true_range()"
   ]
  },
  {
   "cell_type": "code",
   "execution_count": null,
   "metadata": {
    "colab": {
     "base_uri": "https://localhost:8080/",
     "height": 542
    },
    "executionInfo": {
     "elapsed": 338,
     "status": "ok",
     "timestamp": 1653957983070,
     "user": {
      "displayName": "anamim schuwarte",
      "userId": "09703653288263197532"
     },
     "user_tz": 180
    },
    "id": "WoxORzL0jsZw",
    "outputId": "0240f0aa-1b64-41b1-a29b-6a4bd4b0cbb6"
   },
   "outputs": [],
   "source": [
    "fig = make_subplots(rows=2, cols=1)\n",
    "\n",
    "fig.add_trace(go.Scatter(name='ATR', x=df.index, y=df['ATR']), row=2, col=1)\n",
    "fig.add_trace(go.Candlestick(name='BRML3', x=df.index, close=df['Close'], open=df['Open'], high = df['High'], low=df['Low']), row=1, col=1)\n",
    "fig.update_layout(xaxis_rangeslider_visible=False, title_text='ATR - Average True Range')\n",
    "fig.show()"
   ]
  },
  {
   "cell_type": "markdown",
   "metadata": {
    "id": "tHUWycCCkhvb"
   },
   "source": [
    "### 5.3 Keltner Channel"
   ]
  },
  {
   "cell_type": "code",
   "execution_count": null,
   "metadata": {
    "executionInfo": {
     "elapsed": 275,
     "status": "ok",
     "timestamp": 1653958710198,
     "user": {
      "displayName": "anamim schuwarte",
      "userId": "09703653288263197532"
     },
     "user_tz": 180
    },
    "id": "YAdXGGlLnpjW"
   },
   "outputs": [],
   "source": [
    "from ta.volatility import KeltnerChannel "
   ]
  },
  {
   "cell_type": "code",
   "execution_count": null,
   "metadata": {
    "executionInfo": {
     "elapsed": 268,
     "status": "ok",
     "timestamp": 1653958912476,
     "user": {
      "displayName": "anamim schuwarte",
      "userId": "09703653288263197532"
     },
     "user_tz": 180
    },
    "id": "6zeUIQ-xnxA2"
   },
   "outputs": [],
   "source": [
    "keltner = KeltnerChannel(high=df['High'], low=df['Low'], close=df['Close'])\n",
    "df['KELTNER_HB'] = keltner.keltner_channel_hband()\n",
    "df['KELTNER_LB'] = keltner.keltner_channel_lband()\n",
    "df['KELTNER_M'] = keltner.keltner_channel_mband()"
   ]
  },
  {
   "cell_type": "code",
   "execution_count": null,
   "metadata": {
    "colab": {
     "base_uri": "https://localhost:8080/",
     "height": 542
    },
    "executionInfo": {
     "elapsed": 325,
     "status": "ok",
     "timestamp": 1653959285131,
     "user": {
      "displayName": "anamim schuwarte",
      "userId": "09703653288263197532"
     },
     "user_tz": 180
    },
    "id": "m7VEn7AcoaXF",
    "outputId": "bc202ba4-92cd-4bdd-a851-cfc69a9d8101"
   },
   "outputs": [],
   "source": [
    "fig = go.Figure()\n",
    "fig.add_trace(go.Scatter(name='Keltner MM', x=df.index, y=df['KELTNER_M']))\n",
    "fig.add_trace(go.Candlestick(name='BRML3', x=df.index, close=df['Close'], open=df['Open'], high = df['High'], low=df['Low']))\n",
    "fig.add_trace(go.Scatter(name='Banda Superior', x=df.index, y=df['KELTNER_HB']))\n",
    "fig.add_trace(go.Scatter(name='Banda Inferior', x=df.index, y=df['KELTNER_LB']))\n",
    "fig.update_layout(xaxis_rangeslider_visible=False, title_text='Keltner Channel')\n",
    "fig.show()"
   ]
  },
  {
   "cell_type": "markdown",
   "metadata": {
    "id": "7_qnpKZ-plhE"
   },
   "source": [
    "## 6. Indicadores de Tendência"
   ]
  },
  {
   "cell_type": "markdown",
   "metadata": {
    "id": "2jonOpGXrr_r"
   },
   "source": [
    "### 6.1 MACD - Moving Average Convergence/Divergence"
   ]
  },
  {
   "cell_type": "code",
   "execution_count": null,
   "metadata": {
    "executionInfo": {
     "elapsed": 255,
     "status": "ok",
     "timestamp": 1653959789575,
     "user": {
      "displayName": "anamim schuwarte",
      "userId": "09703653288263197532"
     },
     "user_tz": 180
    },
    "id": "cjqkf2CUr0e8"
   },
   "outputs": [],
   "source": [
    "from ta.trend import MACD"
   ]
  },
  {
   "cell_type": "code",
   "execution_count": null,
   "metadata": {
    "executionInfo": {
     "elapsed": 250,
     "status": "ok",
     "timestamp": 1653959886816,
     "user": {
      "displayName": "anamim schuwarte",
      "userId": "09703653288263197532"
     },
     "user_tz": 180
    },
    "id": "oHBSvpair4iE"
   },
   "outputs": [],
   "source": [
    "macd = MACD(df['Close'])\n",
    "df['MACD_LINE'] = macd.macd()\n",
    "df['MACD_DIFF'] = macd.macd_diff()"
   ]
  },
  {
   "cell_type": "code",
   "execution_count": null,
   "metadata": {
    "colab": {
     "base_uri": "https://localhost:8080/",
     "height": 542
    },
    "executionInfo": {
     "elapsed": 526,
     "status": "ok",
     "timestamp": 1653960373136,
     "user": {
      "displayName": "anamim schuwarte",
      "userId": "09703653288263197532"
     },
     "user_tz": 180
    },
    "id": "87vzotCrsQRo",
    "outputId": "2e71363d-0d42-4126-dee2-b0b5243657ac"
   },
   "outputs": [],
   "source": [
    "fig = make_subplots(rows=2, cols=1)\n",
    "fig.add_trace(go.Bar(name='MACD', x=df.index, y=df['MACD_LINE']), row=2, col=1)\n",
    "fig.add_trace(go.Scatter(name='MACD Line', x=df.index, y=df['MACD_LINE']), row=2, col=1)\n",
    "fig.add_trace(go.Candlestick(name='BRML3', x=df.index, close=df['Close'], open=df['Open'], high = df['High'], low=df['Low']), row=1, col=1)\n",
    "fig.add_trace(go.Scatter(name='MACD Diff', x=df.index, y=df['MACD_DIFF']), row=2, col=1)\n",
    "fig.update_layout(xaxis_rangeslider_visible=False, title_text='MACD')\n",
    "fig.show()"
   ]
  },
  {
   "cell_type": "markdown",
   "metadata": {
    "id": "qXG43wmluG7d"
   },
   "source": [
    "### 6.2 SMA - Simple Moving Average"
   ]
  },
  {
   "cell_type": "code",
   "execution_count": null,
   "metadata": {
    "executionInfo": {
     "elapsed": 263,
     "status": "ok",
     "timestamp": 1653960701758,
     "user": {
      "displayName": "anamim schuwarte",
      "userId": "09703653288263197532"
     },
     "user_tz": 180
    },
    "id": "2CZB9TBrvPkM"
   },
   "outputs": [],
   "source": [
    "from ta.trend import SMAIndicator"
   ]
  },
  {
   "cell_type": "code",
   "execution_count": null,
   "metadata": {
    "executionInfo": {
     "elapsed": 543,
     "status": "ok",
     "timestamp": 1653960848762,
     "user": {
      "displayName": "anamim schuwarte",
      "userId": "09703653288263197532"
     },
     "user_tz": 180
    },
    "id": "9t9GTLjQvXO7"
   },
   "outputs": [],
   "source": [
    "sma_short = SMAIndicator(close=df['Close'], window=5)\n",
    "sma_long = SMAIndicator(close=df['Close'], window=30)\n",
    "df['SMA_SHORT'] = sma_short.sma_indicator()\n",
    "df['SMA_LONG'] = sma_long.sma_indicator()"
   ]
  },
  {
   "cell_type": "code",
   "execution_count": null,
   "metadata": {
    "colab": {
     "base_uri": "https://localhost:8080/",
     "height": 542
    },
    "executionInfo": {
     "elapsed": 326,
     "status": "ok",
     "timestamp": 1653961288375,
     "user": {
      "displayName": "anamim schuwarte",
      "userId": "09703653288263197532"
     },
     "user_tz": 180
    },
    "id": "JRt3Dki_v7Ce",
    "outputId": "03bc7f37-4026-4f57-eaad-17cd0380d10e"
   },
   "outputs": [],
   "source": [
    "fig = go.Figure()\n",
    "fig.add_trace(go.Scatter(name='SMA Short', x=df.index, y=df['SMA_SHORT']))\n",
    "fig.add_trace(go.Candlestick(name='BRML3', x=df.index, close=df['Close'], open=df['Open'], high=df['High'], low=df['Low']))\n",
    "fig.add_trace(go.Scatter(name='SMA Long', x=df.index, y=df['SMA_LONG']))\n",
    "fig.update_layout(xaxis_rangeslider_visible=False, title_text='Simple Moving Average')\n",
    "fig.show()"
   ]
  },
  {
   "cell_type": "markdown",
   "metadata": {
    "id": "6SIrnSLzxHox"
   },
   "source": [
    "### 6.3 EMA -Exponencial Moving Average"
   ]
  },
  {
   "cell_type": "code",
   "execution_count": null,
   "metadata": {
    "executionInfo": {
     "elapsed": 260,
     "status": "ok",
     "timestamp": 1653961639550,
     "user": {
      "displayName": "anamim schuwarte",
      "userId": "09703653288263197532"
     },
     "user_tz": 180
    },
    "id": "pPpjRFcay33H"
   },
   "outputs": [],
   "source": [
    "from ta.trend import EMAIndicator"
   ]
  },
  {
   "cell_type": "code",
   "execution_count": null,
   "metadata": {
    "executionInfo": {
     "elapsed": 238,
     "status": "ok",
     "timestamp": 1653961771410,
     "user": {
      "displayName": "anamim schuwarte",
      "userId": "09703653288263197532"
     },
     "user_tz": 180
    },
    "id": "VIdu054_y8Lg"
   },
   "outputs": [],
   "source": [
    "ema_short = EMAIndicator(close=df['Close'], window=5)\n",
    "ema_long = EMAIndicator(close=df['Close'], window=30)\n",
    "df['EMA_SHORT'] = ema_short.ema_indicator()\n",
    "df['EMA_LONG'] = ema_long.ema_indicator()"
   ]
  },
  {
   "cell_type": "code",
   "execution_count": null,
   "metadata": {
    "colab": {
     "base_uri": "https://localhost:8080/",
     "height": 542
    },
    "executionInfo": {
     "elapsed": 321,
     "status": "ok",
     "timestamp": 1653962197736,
     "user": {
      "displayName": "anamim schuwarte",
      "userId": "09703653288263197532"
     },
     "user_tz": 180
    },
    "id": "_LfZ8NidzcY7",
    "outputId": "57bee87d-84c8-4b27-b078-2be5a16a764d"
   },
   "outputs": [],
   "source": [
    "fig = go.Figure()\n",
    "fig.add_trace(go.Scatter(name='EMA Short', x=df.index, y=df['EMA_SHORT']))\n",
    "fig.add_trace(go.Candlestick(name='BRML3', x=df.index, close=df['Close'], open=df['Open'], high=df['High'], low=df['Low']))\n",
    "fig.add_trace(go.Scatter(name='EMA Long', x=df.index, y=df['EMA_LONG']))\n",
    "fig.update_layout(xaxis_rangeslider_visible=False, title_text='Exponencial Moving Average')\n",
    "fig.show()"
   ]
  },
  {
   "cell_type": "code",
   "execution_count": null,
   "metadata": {
    "id": "bl6E5uBb0y-m"
   },
   "outputs": [],
   "source": []
  }
 ],
 "metadata": {
  "colab": {
   "authorship_tag": "ABX9TyOBn0eO9c7E1GBf5CD1locv",
   "collapsed_sections": [
    "Jn2HDz2Uy8MX",
    "DYI9XMoDzDmd",
    "DnBKaaeYx6NM",
    "lRBkanO-YSpp",
    "cL5FtOcaXj--"
   ],
   "name": "AnaliseTecnica.ipynb",
   "provenance": []
  },
  "kernelspec": {
   "display_name": "Python 3 (ipykernel)",
   "language": "python",
   "name": "python3"
  },
  "language_info": {
   "codemirror_mode": {
    "name": "ipython",
    "version": 3
   },
   "file_extension": ".py",
   "mimetype": "text/x-python",
   "name": "python",
   "nbconvert_exporter": "python",
   "pygments_lexer": "ipython3",
   "version": "3.9.13"
  }
 },
 "nbformat": 4,
 "nbformat_minor": 4
}
